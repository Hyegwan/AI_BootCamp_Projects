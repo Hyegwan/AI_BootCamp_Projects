{
 "cells": [
  {
   "cell_type": "markdown",
   "metadata": {
    "id": "DKjDzmJ5D9DA"
   },
   "source": [
    "# 한글화"
   ]
  },
  {
   "cell_type": "code",
   "execution_count": null,
   "metadata": {
    "colab": {
     "base_uri": "https://localhost:8080/"
    },
    "executionInfo": {
     "elapsed": 4760,
     "status": "ok",
     "timestamp": 1662914480265,
     "user": {
      "displayName": "김아무개",
      "userId": "08862640890602732374"
     },
     "user_tz": -540
    },
    "id": "MhIjMAgMD6M4",
    "outputId": "9dbb72ce-2f36-45b9-8827-6a0e10d220ca"
   },
   "outputs": [
    {
     "name": "stdout",
     "output_type": "stream",
     "text": [
      "Reading package lists... Done\n",
      "Building dependency tree       \n",
      "Reading state information... Done\n",
      "fonts-nanum is already the newest version (20170925-1).\n",
      "The following package was automatically installed and is no longer required:\n",
      "  libnvidia-common-460\n",
      "Use 'sudo apt autoremove' to remove it.\n",
      "0 upgraded, 0 newly installed, 0 to remove and 20 not upgraded.\n",
      "/usr/share/fonts: caching, new cache contents: 0 fonts, 1 dirs\n",
      "/usr/share/fonts/truetype: caching, new cache contents: 0 fonts, 3 dirs\n",
      "/usr/share/fonts/truetype/humor-sans: caching, new cache contents: 1 fonts, 0 dirs\n",
      "/usr/share/fonts/truetype/liberation: caching, new cache contents: 16 fonts, 0 dirs\n",
      "/usr/share/fonts/truetype/nanum: caching, new cache contents: 10 fonts, 0 dirs\n",
      "/usr/local/share/fonts: caching, new cache contents: 0 fonts, 0 dirs\n",
      "/root/.local/share/fonts: skipping, no such directory\n",
      "/root/.fonts: skipping, no such directory\n",
      "/var/cache/fontconfig: cleaning cache directory\n",
      "/root/.cache/fontconfig: not cleaning non-existent cache directory\n",
      "/root/.fontconfig: not cleaning non-existent cache directory\n",
      "fc-cache: succeeded\n"
     ]
    }
   ],
   "source": [
    "# !sudo apt-get install -y fonts-nanum\n",
    "# !sudo fc-cache -fv\n",
    "# !rm ~/.cache/matplotlib -rf"
   ]
  },
  {
   "cell_type": "code",
   "execution_count": 1,
   "metadata": {
    "ExecuteTime": {
     "end_time": "2022-09-12T03:35:40.870252Z",
     "start_time": "2022-09-12T03:35:39.860255Z"
    },
    "id": "ENMaZtzQEE23"
   },
   "outputs": [],
   "source": [
    "import matplotlib.pyplot as plt"
   ]
  },
  {
   "cell_type": "code",
   "execution_count": null,
   "metadata": {
    "ExecuteTime": {
     "end_time": "2022-09-12T03:35:40.933253Z",
     "start_time": "2022-09-12T03:35:40.933253Z"
    },
    "id": "OCJMhY_pEFeo"
   },
   "outputs": [],
   "source": [
    "plt.rc('font', family='NanumBarunGothic') "
   ]
  },
  {
   "cell_type": "markdown",
   "metadata": {
    "id": "HH7QnbGyEGoB"
   },
   "source": [
    "# 라이브러리 로드"
   ]
  },
  {
   "cell_type": "code",
   "execution_count": null,
   "metadata": {
    "colab": {
     "base_uri": "https://localhost:8080/"
    },
    "executionInfo": {
     "elapsed": 9802,
     "status": "ok",
     "timestamp": 1662914490062,
     "user": {
      "displayName": "김아무개",
      "userId": "08862640890602732374"
     },
     "user_tz": -540
    },
    "id": "G8b2GK3jEF8k",
    "outputId": "9e455939-758b-4e5f-ed28-9bd1632aaec4"
   },
   "outputs": [
    {
     "name": "stdout",
     "output_type": "stream",
     "text": [
      "Looking in indexes: https://pypi.org/simple, https://us-python.pkg.dev/colab-wheels/public/simple/\n",
      "Collecting fastparquet\n",
      "  Downloading fastparquet-0.8.1-cp37-cp37m-manylinux_2_17_x86_64.manylinux2014_x86_64.whl (1.5 MB)\n",
      "\u001b[K     |████████████████████████████████| 1.5 MB 8.4 MB/s \n",
      "\u001b[?25hRequirement already satisfied: fsspec in /usr/local/lib/python3.7/dist-packages (from fastparquet) (2022.8.1)\n",
      "Requirement already satisfied: pandas>=1.1.0 in /usr/local/lib/python3.7/dist-packages (from fastparquet) (1.3.5)\n",
      "Requirement already satisfied: numpy>=1.18 in /usr/local/lib/python3.7/dist-packages (from fastparquet) (1.21.6)\n",
      "Collecting cramjam>=2.3.0\n",
      "  Downloading cramjam-2.5.0-cp37-cp37m-manylinux_2_5_x86_64.manylinux1_x86_64.whl (1.6 MB)\n",
      "\u001b[K     |████████████████████████████████| 1.6 MB 40.2 MB/s \n",
      "\u001b[?25hRequirement already satisfied: pytz>=2017.3 in /usr/local/lib/python3.7/dist-packages (from pandas>=1.1.0->fastparquet) (2022.2.1)\n",
      "Requirement already satisfied: python-dateutil>=2.7.3 in /usr/local/lib/python3.7/dist-packages (from pandas>=1.1.0->fastparquet) (2.8.2)\n",
      "Requirement already satisfied: six>=1.5 in /usr/local/lib/python3.7/dist-packages (from python-dateutil>=2.7.3->pandas>=1.1.0->fastparquet) (1.15.0)\n",
      "Installing collected packages: cramjam, fastparquet\n",
      "Successfully installed cramjam-2.5.0 fastparquet-0.8.1\n"
     ]
    }
   ],
   "source": [
    "# !pip install fastparquet"
   ]
  },
  {
   "cell_type": "code",
   "execution_count": 1,
   "metadata": {
    "ExecuteTime": {
     "end_time": "2022-09-12T13:53:12.397500Z",
     "start_time": "2022-09-12T13:53:06.814219Z"
    },
    "id": "vzAhj6tiEIbM"
   },
   "outputs": [],
   "source": [
    "import pandas as pd\n",
    "import numpy as np\n",
    "import matplotlib.pyplot as plt\n",
    "import seaborn as sns\n",
    "from tqdm import tqdm\n",
    "\n",
    "plt.style.use('ggplot')"
   ]
  },
  {
   "cell_type": "code",
   "execution_count": null,
   "metadata": {
    "colab": {
     "base_uri": "https://localhost:8080/"
    },
    "executionInfo": {
     "elapsed": 18145,
     "status": "ok",
     "timestamp": 1662914509294,
     "user": {
      "displayName": "김아무개",
      "userId": "08862640890602732374"
     },
     "user_tz": -540
    },
    "id": "vVDcLvJLEJRW",
    "outputId": "2a1c9733-adc0-4cd7-d3bb-7fc9f4759b26"
   },
   "outputs": [
    {
     "name": "stdout",
     "output_type": "stream",
     "text": [
      "Mounted at /content/drive\n"
     ]
    }
   ],
   "source": [
    "# from google.colab import drive\n",
    "# drive.mount('/content/drive')"
   ]
  },
  {
   "cell_type": "markdown",
   "metadata": {
    "id": "5ussWb_eEJnO"
   },
   "source": [
    "# 데이터 로드"
   ]
  },
  {
   "cell_type": "code",
   "execution_count": 3,
   "metadata": {
    "ExecuteTime": {
     "end_time": "2022-09-12T13:53:46.116662Z",
     "start_time": "2022-09-12T13:53:41.682223Z"
    },
    "id": "iPEs5JRWEK7t"
   },
   "outputs": [],
   "source": [
    "# data1 = pd.read_csv('/content/drive/MyDrive/CP1/만개의 레시피.csv',encoding='cp949')\n",
    "# data2 = pd.read_csv('/content/drive/MyDrive/CP1/only_ingredient_list.csv')\n",
    "# crawing_data = pd.read_parquet('/content/drive/MyDrive/CP1/crawling_ingredient.parquet', engine='fastparquet')\n",
    "\n",
    "data1 = pd.read_csv('C:/Users/User/Desktop/AIB_13/CP1/data/만개의 레시피.csv', encoding='cp949')\n",
    "data2 = pd.read_csv('C:/Users/User/Desktop/AIB_13/CP1/recommendation_system/only_ingredient_list.csv')\n",
    "crawing_data = pd.read_parquet('C:/Users/User/Desktop/AIB_13/CP1/data/ingredient.parquet', engine='fastparquet')"
   ]
  },
  {
   "cell_type": "code",
   "execution_count": 4,
   "metadata": {
    "ExecuteTime": {
     "end_time": "2022-09-12T13:53:46.461667Z",
     "start_time": "2022-09-12T13:53:46.163670Z"
    },
    "id": "nJyk8YUkLP-e"
   },
   "outputs": [],
   "source": [
    "data1 =data1.dropna().reset_index(drop=True)\n",
    "df = pd.concat([data1, data2, crawing_data['ingredient']], axis=1)"
   ]
  },
  {
   "cell_type": "code",
   "execution_count": 5,
   "metadata": {
    "ExecuteTime": {
     "end_time": "2022-09-12T13:53:46.596662Z",
     "start_time": "2022-09-12T13:53:46.538663Z"
    },
    "colab": {
     "base_uri": "https://localhost:8080/",
     "height": 756
    },
    "executionInfo": {
     "elapsed": 9,
     "status": "ok",
     "timestamp": 1662914518835,
     "user": {
      "displayName": "김아무개",
      "userId": "08862640890602732374"
     },
     "user_tz": -540
    },
    "id": "DnWU-yGDELsD",
    "outputId": "a219e73a-b04f-48e6-cb96-f6cac3baacf9"
   },
   "outputs": [
    {
     "data": {
      "text/html": [
       "<div>\n",
       "<style scoped>\n",
       "    .dataframe tbody tr th:only-of-type {\n",
       "        vertical-align: middle;\n",
       "    }\n",
       "\n",
       "    .dataframe tbody tr th {\n",
       "        vertical-align: top;\n",
       "    }\n",
       "\n",
       "    .dataframe thead th {\n",
       "        text-align: right;\n",
       "    }\n",
       "</style>\n",
       "<table border=\"1\" class=\"dataframe\">\n",
       "  <thead>\n",
       "    <tr style=\"text-align: right;\">\n",
       "      <th></th>\n",
       "      <th>RCP_SNO</th>\n",
       "      <th>RCP_TTL</th>\n",
       "      <th>CKG_NM</th>\n",
       "      <th>RGTR_ID</th>\n",
       "      <th>RGTR_NM</th>\n",
       "      <th>INQ_CNT</th>\n",
       "      <th>RCMM_CNT</th>\n",
       "      <th>SRAP_CNT</th>\n",
       "      <th>CKG_MTH_ACTO_NM</th>\n",
       "      <th>CKG_STA_ACTO_NM</th>\n",
       "      <th>CKG_MTRL_ACTO_NM</th>\n",
       "      <th>CKG_KND_ACTO_NM</th>\n",
       "      <th>CKG_IPDC</th>\n",
       "      <th>CKG_MTRL_CN</th>\n",
       "      <th>CKG_INBUN_NM</th>\n",
       "      <th>CKG_DODF_NM</th>\n",
       "      <th>CKG_TIME_NM</th>\n",
       "      <th>FIRST_REG_DT</th>\n",
       "      <th>only_ingred</th>\n",
       "      <th>ingredient</th>\n",
       "    </tr>\n",
       "  </thead>\n",
       "  <tbody>\n",
       "    <tr>\n",
       "      <th>0</th>\n",
       "      <td>128671</td>\n",
       "      <td>어묵김말이</td>\n",
       "      <td>어묵김말이</td>\n",
       "      <td>skfo0701</td>\n",
       "      <td>꽃날</td>\n",
       "      <td>9592</td>\n",
       "      <td>6</td>\n",
       "      <td>66</td>\n",
       "      <td>튀김</td>\n",
       "      <td>간식</td>\n",
       "      <td>가공식품류</td>\n",
       "      <td>디저트</td>\n",
       "      <td>맛있는 김말이에 쫄깃함을 더한 어묵 김말이예요-</td>\n",
       "      <td>[재료] 어묵 2개| 김밥용김 3장| 당면 1움큼| 양파 1/2개| 당근 1/2개|...</td>\n",
       "      <td>2인분</td>\n",
       "      <td>초급</td>\n",
       "      <td>60분이내</td>\n",
       "      <td>20070402131403</td>\n",
       "      <td>['어묵', '김밥용김', '당면', '양파', '당근', '깻잎', '튀김가루',...</td>\n",
       "      <td>[[어묵, 2개], [김밥용김, 3장], [당면, 1움큼], [양파, 1/2개], ...</td>\n",
       "    </tr>\n",
       "    <tr>\n",
       "      <th>1</th>\n",
       "      <td>131871</td>\n",
       "      <td>★현미호두죽</td>\n",
       "      <td>현미호두죽</td>\n",
       "      <td>cds1117</td>\n",
       "      <td>햇님&amp;별님</td>\n",
       "      <td>2912</td>\n",
       "      <td>0</td>\n",
       "      <td>9</td>\n",
       "      <td>끓이기</td>\n",
       "      <td>일상</td>\n",
       "      <td>쌀</td>\n",
       "      <td>밥/죽/떡</td>\n",
       "      <td>현미호두죽</td>\n",
       "      <td>[재료] 현미 4컵| 찹쌀 2컵| 호두 50g| 물 1/2컵| 소금 약간</td>\n",
       "      <td>2인분</td>\n",
       "      <td>초급</td>\n",
       "      <td>30분이내</td>\n",
       "      <td>20070410142301</td>\n",
       "      <td>['현미', '찹쌀', '호두', '물', '소금']</td>\n",
       "      <td>[[현미, 4컵], [찹쌀, 2컵], [호두, 50g], [물, 1/2컵], [소금...</td>\n",
       "    </tr>\n",
       "    <tr>\n",
       "      <th>2</th>\n",
       "      <td>139247</td>\n",
       "      <td>부들부들 보들보들 북어갈비♥</td>\n",
       "      <td>북어갈비</td>\n",
       "      <td>skfo0701</td>\n",
       "      <td>꽃날</td>\n",
       "      <td>6865</td>\n",
       "      <td>3</td>\n",
       "      <td>97</td>\n",
       "      <td>굽기</td>\n",
       "      <td>술안주</td>\n",
       "      <td>건어물류</td>\n",
       "      <td>메인반찬</td>\n",
       "      <td>오늘은 집에서 굴러다니고 쉽게 구할 수 있는 북어로 일품요리를 만들어 보았어요! 도...</td>\n",
       "      <td>[재료] 북어포 1마리| 찹쌀가루 1C [양념] 간장 2T| 설탕 1T| 물 1T|...</td>\n",
       "      <td>2인분</td>\n",
       "      <td>초급</td>\n",
       "      <td>60분이내</td>\n",
       "      <td>20070501000844</td>\n",
       "      <td>['북어포', '찹쌀가루']</td>\n",
       "      <td>[[북어포, 1마리], [찹쌀가루, 1C], [간장, 2T], [설탕, 1T], [...</td>\n",
       "    </tr>\n",
       "    <tr>\n",
       "      <th>3</th>\n",
       "      <td>149207</td>\n",
       "      <td>토마토스파게티♥</td>\n",
       "      <td>토마토스파게티</td>\n",
       "      <td>skfo0701</td>\n",
       "      <td>꽃날</td>\n",
       "      <td>12754</td>\n",
       "      <td>2</td>\n",
       "      <td>36</td>\n",
       "      <td>볶음</td>\n",
       "      <td>일상</td>\n",
       "      <td>가공식품류</td>\n",
       "      <td>면/만두</td>\n",
       "      <td>한번 만들어 두면 이모저모 쓸 용도가 많은 토마토소스를 이용한 토마토 스파게티.</td>\n",
       "      <td>[재료] 파스타면 [양념] 토마토 1개| 토마토 페이스트 3T| 양파 1/2개| 다...</td>\n",
       "      <td>1인분</td>\n",
       "      <td>초급</td>\n",
       "      <td>30분이내</td>\n",
       "      <td>20070525232601</td>\n",
       "      <td>['파스타면']</td>\n",
       "      <td>[[파스타면], [토마토, 1개], [토마토 페이스트, 3T], [양파, 1/2개]...</td>\n",
       "    </tr>\n",
       "    <tr>\n",
       "      <th>4</th>\n",
       "      <td>151148</td>\n",
       "      <td>표고버섯탕수</td>\n",
       "      <td>표고버섯탕수</td>\n",
       "      <td>skfo0701</td>\n",
       "      <td>꽃날</td>\n",
       "      <td>16053</td>\n",
       "      <td>2</td>\n",
       "      <td>194</td>\n",
       "      <td>튀김</td>\n",
       "      <td>손님접대</td>\n",
       "      <td>버섯류</td>\n",
       "      <td>메인반찬</td>\n",
       "      <td>탕수육 먹을때 칼로리때문에 걱정하시는 분들!! 이제는 걱걱걱 정하지 마세요~ 칼로리...</td>\n",
       "      <td>[재료] 건표고버섯 9개| 오이 1/2개| 당근 1/2개| 양파 1/2개| 사과 1...</td>\n",
       "      <td>2인분</td>\n",
       "      <td>초급</td>\n",
       "      <td>30분이내</td>\n",
       "      <td>20070530142653</td>\n",
       "      <td>['건표고버섯', '오이', '당근', '양파', '사과', '그외의', '과일']</td>\n",
       "      <td>[[건표고버섯, 9개], [오이, 1/2개], [당근, 1/2개], [양파, 1/2...</td>\n",
       "    </tr>\n",
       "  </tbody>\n",
       "</table>\n",
       "</div>"
      ],
      "text/plain": [
       "   RCP_SNO          RCP_TTL   CKG_NM   RGTR_ID RGTR_NM  INQ_CNT  RCMM_CNT  \\\n",
       "0   128671            어묵김말이    어묵김말이  skfo0701      꽃날     9592         6   \n",
       "1   131871           ★현미호두죽    현미호두죽   cds1117   햇님&별님     2912         0   \n",
       "2   139247  부들부들 보들보들 북어갈비♥     북어갈비  skfo0701      꽃날     6865         3   \n",
       "3   149207         토마토스파게티♥  토마토스파게티  skfo0701      꽃날    12754         2   \n",
       "4   151148           표고버섯탕수   표고버섯탕수  skfo0701      꽃날    16053         2   \n",
       "\n",
       "   SRAP_CNT CKG_MTH_ACTO_NM CKG_STA_ACTO_NM CKG_MTRL_ACTO_NM CKG_KND_ACTO_NM  \\\n",
       "0        66              튀김              간식            가공식품류             디저트   \n",
       "1         9             끓이기              일상                쌀           밥/죽/떡   \n",
       "2        97              굽기             술안주             건어물류            메인반찬   \n",
       "3        36              볶음              일상            가공식품류            면/만두   \n",
       "4       194              튀김            손님접대              버섯류            메인반찬   \n",
       "\n",
       "                                            CKG_IPDC  \\\n",
       "0                         맛있는 김말이에 쫄깃함을 더한 어묵 김말이예요-   \n",
       "1                                              현미호두죽   \n",
       "2  오늘은 집에서 굴러다니고 쉽게 구할 수 있는 북어로 일품요리를 만들어 보았어요! 도...   \n",
       "3       한번 만들어 두면 이모저모 쓸 용도가 많은 토마토소스를 이용한 토마토 스파게티.   \n",
       "4  탕수육 먹을때 칼로리때문에 걱정하시는 분들!! 이제는 걱걱걱 정하지 마세요~ 칼로리...   \n",
       "\n",
       "                                         CKG_MTRL_CN CKG_INBUN_NM CKG_DODF_NM  \\\n",
       "0  [재료] 어묵 2개| 김밥용김 3장| 당면 1움큼| 양파 1/2개| 당근 1/2개|...          2인분          초급   \n",
       "1           [재료] 현미 4컵| 찹쌀 2컵| 호두 50g| 물 1/2컵| 소금 약간          2인분          초급   \n",
       "2  [재료] 북어포 1마리| 찹쌀가루 1C [양념] 간장 2T| 설탕 1T| 물 1T|...          2인분          초급   \n",
       "3  [재료] 파스타면 [양념] 토마토 1개| 토마토 페이스트 3T| 양파 1/2개| 다...          1인분          초급   \n",
       "4  [재료] 건표고버섯 9개| 오이 1/2개| 당근 1/2개| 양파 1/2개| 사과 1...          2인분          초급   \n",
       "\n",
       "  CKG_TIME_NM    FIRST_REG_DT  \\\n",
       "0       60분이내  20070402131403   \n",
       "1       30분이내  20070410142301   \n",
       "2       60분이내  20070501000844   \n",
       "3       30분이내  20070525232601   \n",
       "4       30분이내  20070530142653   \n",
       "\n",
       "                                         only_ingred  \\\n",
       "0  ['어묵', '김밥용김', '당면', '양파', '당근', '깻잎', '튀김가루',...   \n",
       "1                      ['현미', '찹쌀', '호두', '물', '소금']   \n",
       "2                                    ['북어포', '찹쌀가루']   \n",
       "3                                           ['파스타면']   \n",
       "4     ['건표고버섯', '오이', '당근', '양파', '사과', '그외의', '과일']   \n",
       "\n",
       "                                          ingredient  \n",
       "0  [[어묵, 2개], [김밥용김, 3장], [당면, 1움큼], [양파, 1/2개], ...  \n",
       "1  [[현미, 4컵], [찹쌀, 2컵], [호두, 50g], [물, 1/2컵], [소금...  \n",
       "2  [[북어포, 1마리], [찹쌀가루, 1C], [간장, 2T], [설탕, 1T], [...  \n",
       "3  [[파스타면], [토마토, 1개], [토마토 페이스트, 3T], [양파, 1/2개]...  \n",
       "4  [[건표고버섯, 9개], [오이, 1/2개], [당근, 1/2개], [양파, 1/2...  "
      ]
     },
     "execution_count": 5,
     "metadata": {},
     "output_type": "execute_result"
    }
   ],
   "source": [
    "df.head()"
   ]
  },
  {
   "cell_type": "markdown",
   "metadata": {
    "id": "1tvh7tZYENbG"
   },
   "source": [
    "concat 하기전에 원본데이터에는 중복값이 없습니다."
   ]
  },
  {
   "cell_type": "code",
   "execution_count": 17,
   "metadata": {
    "ExecuteTime": {
     "end_time": "2022-09-12T03:37:07.316008Z",
     "start_time": "2022-09-12T03:37:06.997009Z"
    },
    "colab": {
     "base_uri": "https://localhost:8080/"
    },
    "executionInfo": {
     "elapsed": 1291,
     "status": "ok",
     "timestamp": 1662914520121,
     "user": {
      "displayName": "김아무개",
      "userId": "08862640890602732374"
     },
     "user_tz": -540
    },
    "id": "By-dUZbxEORf",
    "outputId": "9f8803b7-77ff-4e40-941a-de7f03e9385d"
   },
   "outputs": [
    {
     "data": {
      "text/plain": [
       "0"
      ]
     },
     "execution_count": 17,
     "metadata": {},
     "output_type": "execute_result"
    }
   ],
   "source": [
    "df.iloc[:,:-2].duplicated().sum()"
   ]
  },
  {
   "cell_type": "markdown",
   "metadata": {
    "id": "sDbPIR7GLv8C"
   },
   "source": [
    "결측치 확인 및 제거"
   ]
  },
  {
   "cell_type": "code",
   "execution_count": 18,
   "metadata": {
    "ExecuteTime": {
     "end_time": "2022-09-12T03:37:08.367504Z",
     "start_time": "2022-09-12T03:37:08.273505Z"
    },
    "colab": {
     "base_uri": "https://localhost:8080/"
    },
    "executionInfo": {
     "elapsed": 6,
     "status": "ok",
     "timestamp": 1662914520122,
     "user": {
      "displayName": "김아무개",
      "userId": "08862640890602732374"
     },
     "user_tz": -540
    },
    "id": "ZKGsDhJuLx6q",
    "outputId": "2ba7ab2e-e99e-471d-f359-efd9035f6478"
   },
   "outputs": [
    {
     "data": {
      "text/plain": [
       "RCP_SNO             0\n",
       "RCP_TTL             0\n",
       "CKG_NM              0\n",
       "RGTR_ID             0\n",
       "RGTR_NM             0\n",
       "INQ_CNT             0\n",
       "RCMM_CNT            0\n",
       "SRAP_CNT            0\n",
       "CKG_MTH_ACTO_NM     0\n",
       "CKG_STA_ACTO_NM     0\n",
       "CKG_MTRL_ACTO_NM    0\n",
       "CKG_KND_ACTO_NM     0\n",
       "CKG_IPDC            0\n",
       "CKG_MTRL_CN         0\n",
       "CKG_INBUN_NM        0\n",
       "CKG_DODF_NM         0\n",
       "CKG_TIME_NM         0\n",
       "FIRST_REG_DT        0\n",
       "only_ingred         0\n",
       "ingredient          0\n",
       "dtype: int64"
      ]
     },
     "execution_count": 18,
     "metadata": {},
     "output_type": "execute_result"
    }
   ],
   "source": [
    "df.isnull().sum()"
   ]
  },
  {
   "cell_type": "code",
   "execution_count": 19,
   "metadata": {
    "ExecuteTime": {
     "end_time": "2022-09-12T03:37:10.606324Z",
     "start_time": "2022-09-12T03:37:10.435324Z"
    },
    "colab": {
     "base_uri": "https://localhost:8080/"
    },
    "executionInfo": {
     "elapsed": 502,
     "status": "ok",
     "timestamp": 1662914520621,
     "user": {
      "displayName": "김아무개",
      "userId": "08862640890602732374"
     },
     "user_tz": -540
    },
    "id": "g3oqOtICLzxn",
    "outputId": "85f79618-531a-486f-97cb-b72634c8efc7"
   },
   "outputs": [
    {
     "data": {
      "text/plain": [
       "(114512, 20)"
      ]
     },
     "execution_count": 19,
     "metadata": {},
     "output_type": "execute_result"
    }
   ],
   "source": [
    "df = df.dropna()\n",
    "df.shape"
   ]
  },
  {
   "cell_type": "markdown",
   "metadata": {
    "id": "WW8CXHWII_aI"
   },
   "source": [
    "## 학습/테스트 데이터 분리"
   ]
  },
  {
   "cell_type": "code",
   "execution_count": 6,
   "metadata": {
    "ExecuteTime": {
     "end_time": "2022-09-12T13:53:51.192365Z",
     "start_time": "2022-09-12T13:53:50.633369Z"
    },
    "colab": {
     "base_uri": "https://localhost:8080/"
    },
    "executionInfo": {
     "elapsed": 781,
     "status": "ok",
     "timestamp": 1662914521400,
     "user": {
      "displayName": "김아무개",
      "userId": "08862640890602732374"
     },
     "user_tz": -540
    },
    "id": "gpwLTenTI70U",
    "outputId": "6d4f3970-7647-474f-abd5-5d45670de50b"
   },
   "outputs": [
    {
     "data": {
      "text/plain": [
       "((80158, 20), (34354, 20))"
      ]
     },
     "execution_count": 6,
     "metadata": {},
     "output_type": "execute_result"
    }
   ],
   "source": [
    "from sklearn.model_selection import train_test_split\n",
    "\n",
    "train, test = train_test_split(df, test_size=0.3, random_state=42)\n",
    "train.shape, test.shape"
   ]
  },
  {
   "cell_type": "markdown",
   "metadata": {
    "id": "8JgoksMaEO-L"
   },
   "source": [
    "# EDA"
   ]
  },
  {
   "cell_type": "markdown",
   "metadata": {
    "id": "hBWafCASMGL3"
   },
   "source": [
    "## 타겟데이터(CKG_DODF_NM) 확인"
   ]
  },
  {
   "cell_type": "code",
   "execution_count": 10,
   "metadata": {
    "ExecuteTime": {
     "end_time": "2022-09-12T03:35:53.922615Z",
     "start_time": "2022-09-12T03:35:53.694617Z"
    },
    "colab": {
     "base_uri": "https://localhost:8080/",
     "height": 336
    },
    "executionInfo": {
     "elapsed": 1189,
     "status": "ok",
     "timestamp": 1662945985868,
     "user": {
      "displayName": "김아무개",
      "userId": "08862640890602732374"
     },
     "user_tz": -540
    },
    "id": "IBOMO9XqMOtp",
    "outputId": "b919df3f-8136-415a-f418-e4d93899225d"
   },
   "outputs": [
    {
     "name": "stderr",
     "output_type": "stream",
     "text": [
      "C:\\Users\\User\\anaconda3\\envs\\CP1\\lib\\site-packages\\IPython\\core\\pylabtools.py:151: UserWarning: Glyph 50500 (\\N{HANGUL SYLLABLE A}) missing from current font.\n",
      "  fig.canvas.print_figure(bytes_io, **kw)\n",
      "C:\\Users\\User\\anaconda3\\envs\\CP1\\lib\\site-packages\\IPython\\core\\pylabtools.py:151: UserWarning: Glyph 47924 (\\N{HANGUL SYLLABLE MU}) missing from current font.\n",
      "  fig.canvas.print_figure(bytes_io, **kw)\n",
      "C:\\Users\\User\\anaconda3\\envs\\CP1\\lib\\site-packages\\IPython\\core\\pylabtools.py:151: UserWarning: Glyph 45208 (\\N{HANGUL SYLLABLE NA}) missing from current font.\n",
      "  fig.canvas.print_figure(bytes_io, **kw)\n",
      "C:\\Users\\User\\anaconda3\\envs\\CP1\\lib\\site-packages\\IPython\\core\\pylabtools.py:151: UserWarning: Glyph 52488 (\\N{HANGUL SYLLABLE CO}) missing from current font.\n",
      "  fig.canvas.print_figure(bytes_io, **kw)\n",
      "C:\\Users\\User\\anaconda3\\envs\\CP1\\lib\\site-packages\\IPython\\core\\pylabtools.py:151: UserWarning: Glyph 44553 (\\N{HANGUL SYLLABLE GEUB}) missing from current font.\n",
      "  fig.canvas.print_figure(bytes_io, **kw)\n",
      "C:\\Users\\User\\anaconda3\\envs\\CP1\\lib\\site-packages\\IPython\\core\\pylabtools.py:151: UserWarning: Glyph 51473 (\\N{HANGUL SYLLABLE JUNG}) missing from current font.\n",
      "  fig.canvas.print_figure(bytes_io, **kw)\n",
      "C:\\Users\\User\\anaconda3\\envs\\CP1\\lib\\site-packages\\IPython\\core\\pylabtools.py:151: UserWarning: Glyph 44256 (\\N{HANGUL SYLLABLE GO}) missing from current font.\n",
      "  fig.canvas.print_figure(bytes_io, **kw)\n",
      "C:\\Users\\User\\anaconda3\\envs\\CP1\\lib\\site-packages\\IPython\\core\\pylabtools.py:151: UserWarning: Glyph 49888 (\\N{HANGUL SYLLABLE SIN}) missing from current font.\n",
      "  fig.canvas.print_figure(bytes_io, **kw)\n",
      "C:\\Users\\User\\anaconda3\\envs\\CP1\\lib\\site-packages\\IPython\\core\\pylabtools.py:151: UserWarning: Glyph 51032 (\\N{HANGUL SYLLABLE YI}) missing from current font.\n",
      "  fig.canvas.print_figure(bytes_io, **kw)\n",
      "C:\\Users\\User\\anaconda3\\envs\\CP1\\lib\\site-packages\\IPython\\core\\pylabtools.py:151: UserWarning: Glyph 44221 (\\N{HANGUL SYLLABLE GYEONG}) missing from current font.\n",
      "  fig.canvas.print_figure(bytes_io, **kw)\n",
      "C:\\Users\\User\\anaconda3\\envs\\CP1\\lib\\site-packages\\IPython\\core\\pylabtools.py:151: UserWarning: Glyph 51648 (\\N{HANGUL SYLLABLE JI}) missing from current font.\n",
      "  fig.canvas.print_figure(bytes_io, **kw)\n"
     ]
    },
    {
     "data": {
      "image/png": "[encoded data removed]",
      "text/plain": [
       "<Figure size 1000x500 with 1 Axes>"
      ]
     },
     "metadata": {},
     "output_type": "display_data"
    }
   ],
   "source": [
    "plt.figure(figsize=(10,5))\n",
    "sns.countplot(data=train, x='CKG_DODF_NM', order=train['CKG_DODF_NM'].value_counts().index)\n",
    "plt.show()"
   ]
  },
  {
   "cell_type": "markdown",
   "metadata": {
    "id": "LX06O2uOQhVO"
   },
   "source": [
    "### 고급, 신의 경지 하나로 합치기"
   ]
  },
  {
   "cell_type": "code",
   "execution_count": 7,
   "metadata": {
    "ExecuteTime": {
     "end_time": "2022-09-12T13:53:58.041224Z",
     "start_time": "2022-09-12T13:53:58.021226Z"
    },
    "id": "jJ9pRBNTQgsy"
   },
   "outputs": [],
   "source": [
    "idxs = train.loc[train['CKG_DODF_NM'] == '신의경지'].index\n",
    "train.loc[idxs, 'CKG_DODF_NM'] = '고급'\n",
    "idxs = test.loc[test['CKG_DODF_NM'] == '신의경지'].index\n",
    "test.loc[idxs, 'CKG_DODF_NM'] = '고급'"
   ]
  },
  {
   "cell_type": "markdown",
   "metadata": {
    "id": "U9Z_NgfuMrYk"
   },
   "source": [
    "## 기준모델(basemodel) 설정"
   ]
  },
  {
   "cell_type": "code",
   "execution_count": 8,
   "metadata": {
    "ExecuteTime": {
     "end_time": "2022-09-12T13:53:59.646223Z",
     "start_time": "2022-09-12T13:53:59.631223Z"
    },
    "colab": {
     "base_uri": "https://localhost:8080/"
    },
    "executionInfo": {
     "elapsed": 13,
     "status": "ok",
     "timestamp": 1662914521934,
     "user": {
      "displayName": "김아무개",
      "userId": "08862640890602732374"
     },
     "user_tz": -540
    },
    "id": "v1qWYposMtGN",
    "outputId": "b016831b-b326-4b80-ca77-17d72a3f6ef6"
   },
   "outputs": [
    {
     "data": {
      "text/plain": [
       "아무나    0.469336\n",
       "초급     0.423551\n",
       "중급     0.096484\n",
       "고급     0.010629\n",
       "Name: CKG_DODF_NM, dtype: float64"
      ]
     },
     "execution_count": 8,
     "metadata": {},
     "output_type": "execute_result"
    }
   ],
   "source": [
    "train['CKG_DODF_NM'].value_counts(normalize=True)"
   ]
  },
  {
   "cell_type": "markdown",
   "metadata": {
    "id": "tWGXTZ02PHTR"
   },
   "source": [
    "## 불필요한 컬럼 제거"
   ]
  },
  {
   "cell_type": "code",
   "execution_count": 9,
   "metadata": {
    "ExecuteTime": {
     "end_time": "2022-09-12T13:54:02.796222Z",
     "start_time": "2022-09-12T13:54:02.763224Z"
    },
    "colab": {
     "base_uri": "https://localhost:8080/"
    },
    "executionInfo": {
     "elapsed": 8,
     "status": "ok",
     "timestamp": 1662914521934,
     "user": {
      "displayName": "김아무개",
      "userId": "08862640890602732374"
     },
     "user_tz": -540
    },
    "id": "VWYXb36rO-de",
    "outputId": "5c7c7eb2-dde3-41e2-9355-ad20439db6f3"
   },
   "outputs": [
    {
     "data": {
      "text/plain": [
       "((80158, 8), (34354, 8))"
      ]
     },
     "execution_count": 9,
     "metadata": {},
     "output_type": "execute_result"
    }
   ],
   "source": [
    "drop_columns = ['RCP_SNO','RCP_TTL','CKG_NM','RGTR_ID','RGTR_NM',\n",
    "                'INQ_CNT','RCMM_CNT','SRAP_CNT','CKG_IPDC','CKG_MTRL_CN',\n",
    "                'only_ingred','ingredient']\n",
    "\n",
    "train = train.drop(drop_columns, axis=1)\n",
    "test = test.drop(drop_columns, axis=1)\n",
    "train.shape, test.shape"
   ]
  },
  {
   "cell_type": "markdown",
   "metadata": {
    "id": "ckD3ftvNO_4p"
   },
   "source": [
    "## 요리방법(CKG_MTH_ACTO_NM)"
   ]
  },
  {
   "cell_type": "code",
   "execution_count": null,
   "metadata": {
    "colab": {
     "base_uri": "https://localhost:8080/",
     "height": 390
    },
    "executionInfo": {
     "elapsed": 522,
     "status": "ok",
     "timestamp": 1662914522451,
     "user": {
      "displayName": "김아무개",
      "userId": "08862640890602732374"
     },
     "user_tz": -540
    },
    "id": "tr5ixpPjPzm7",
    "outputId": "5e8cbc13-7f39-437c-e2ef-6cfcff9d20dd"
   },
   "outputs": [
    {
     "data": {
      "image/png": "[encoded data removed]",
      "text/plain": [
       "<Figure size 864x432 with 1 Axes>"
      ]
     },
     "metadata": {},
     "output_type": "display_data"
    }
   ],
   "source": [
    "plt.figure(figsize=(12,6))\n",
    "sns.countplot(data=train, x='CKG_MTH_ACTO_NM', order=train['CKG_MTH_ACTO_NM'].value_counts().index)\n",
    "plt.show()"
   ]
  },
  {
   "cell_type": "code",
   "execution_count": null,
   "metadata": {
    "colab": {
     "base_uri": "https://localhost:8080/",
     "height": 499
    },
    "executionInfo": {
     "elapsed": 1175,
     "status": "ok",
     "timestamp": 1662914523622,
     "user": {
      "displayName": "김아무개",
      "userId": "08862640890602732374"
     },
     "user_tz": -540
    },
    "id": "j7MDtwJ9P_oZ",
    "outputId": "d2647c82-b2d0-453e-d256-74a9d4b93de0"
   },
   "outputs": [
    {
     "data": {
      "image/png": "[encoded data removed]",
      "text/plain": [
       "<Figure size 1440x576 with 1 Axes>"
      ]
     },
     "metadata": {},
     "output_type": "display_data"
    }
   ],
   "source": [
    "plt.figure(figsize=(20,8))\n",
    "sns.countplot(data=train, x='CKG_MTH_ACTO_NM',\n",
    "              hue='CKG_DODF_NM',\n",
    "              order=train['CKG_MTH_ACTO_NM'].value_counts().index,\n",
    "              hue_order=train['CKG_DODF_NM'].value_counts().index)\n",
    "plt.show() "
   ]
  },
  {
   "cell_type": "markdown",
   "metadata": {
    "id": "YgOKtkH0RQzT"
   },
   "source": [
    "## 요리상황(CKG_STA_ACTO_NM)"
   ]
  },
  {
   "cell_type": "code",
   "execution_count": null,
   "metadata": {
    "colab": {
     "base_uri": "https://localhost:8080/",
     "height": 336
    },
    "executionInfo": {
     "elapsed": 545,
     "status": "ok",
     "timestamp": 1662914524164,
     "user": {
      "displayName": "김아무개",
      "userId": "08862640890602732374"
     },
     "user_tz": -540
    },
    "id": "PlGfe4L3RUmd",
    "outputId": "f8f44213-b516-43ef-85a5-644477de23ae"
   },
   "outputs": [
    {
     "data": {
      "image/png": "[encoded data removed]",
      "text/plain": [
       "<Figure size 720x360 with 1 Axes>"
      ]
     },
     "metadata": {},
     "output_type": "display_data"
    }
   ],
   "source": [
    "plt.figure(figsize=(10,5))\n",
    "sns.countplot(data=train, x='CKG_STA_ACTO_NM', order=train['CKG_STA_ACTO_NM'].value_counts().index)\n",
    "plt.show()"
   ]
  },
  {
   "cell_type": "code",
   "execution_count": null,
   "metadata": {
    "colab": {
     "base_uri": "https://localhost:8080/",
     "height": 499
    },
    "executionInfo": {
     "elapsed": 1319,
     "status": "ok",
     "timestamp": 1662914525478,
     "user": {
      "displayName": "김아무개",
      "userId": "08862640890602732374"
     },
     "user_tz": -540
    },
    "id": "SeTsfiL-RWg1",
    "outputId": "27cbc8c1-724e-435c-9b37-63f7a8552436"
   },
   "outputs": [
    {
     "data": {
      "image/png": "[encoded data removed]",
      "text/plain": [
       "<Figure size 1440x576 with 1 Axes>"
      ]
     },
     "metadata": {},
     "output_type": "display_data"
    }
   ],
   "source": [
    "plt.figure(figsize=(20,8))\n",
    "sns.countplot(data=train, x='CKG_STA_ACTO_NM',\n",
    "              hue='CKG_DODF_NM',\n",
    "              order=train['CKG_STA_ACTO_NM'].value_counts().index,\n",
    "              hue_order = train['CKG_DODF_NM'].value_counts().index)\n",
    "plt.show() "
   ]
  },
  {
   "cell_type": "markdown",
   "metadata": {
    "id": "ujOX30ErRf68"
   },
   "source": [
    "## 요리재료류(CKG_MTRL_ACTO_NM)"
   ]
  },
  {
   "cell_type": "code",
   "execution_count": null,
   "metadata": {
    "colab": {
     "base_uri": "https://localhost:8080/",
     "height": 336
    },
    "executionInfo": {
     "elapsed": 7,
     "status": "ok",
     "timestamp": 1662914525479,
     "user": {
      "displayName": "김아무개",
      "userId": "08862640890602732374"
     },
     "user_tz": -540
    },
    "id": "UHBgdhihRinD",
    "outputId": "da2d67c1-f81c-4d74-b3f8-87422bf6659b"
   },
   "outputs": [
    {
     "data": {
      "image/png": "[encoded data removed]",
      "text/plain": [
       "<Figure size 1080x360 with 1 Axes>"
      ]
     },
     "metadata": {},
     "output_type": "display_data"
    }
   ],
   "source": [
    "plt.figure(figsize=(15,5))\n",
    "sns.countplot(data=train, x='CKG_MTRL_ACTO_NM', order=train['CKG_MTRL_ACTO_NM'].value_counts().index)\n",
    "plt.show()"
   ]
  },
  {
   "cell_type": "code",
   "execution_count": null,
   "metadata": {
    "colab": {
     "base_uri": "https://localhost:8080/",
     "height": 499
    },
    "executionInfo": {
     "elapsed": 951,
     "status": "ok",
     "timestamp": 1662914526822,
     "user": {
      "displayName": "김아무개",
      "userId": "08862640890602732374"
     },
     "user_tz": -540
    },
    "id": "c6cEP0kaRjd8",
    "outputId": "42c0e093-f004-48fa-a185-ee4bf5c32613"
   },
   "outputs": [
    {
     "data": {
      "image/png": "[encoded data removed]",
      "text/plain": [
       "<Figure size 1440x576 with 1 Axes>"
      ]
     },
     "metadata": {},
     "output_type": "display_data"
    }
   ],
   "source": [
    "plt.figure(figsize=(20,8))\n",
    "sns.countplot(data=train, x='CKG_MTRL_ACTO_NM',\n",
    "              hue='CKG_DODF_NM',\n",
    "              order=train['CKG_MTRL_ACTO_NM'].value_counts().index,\n",
    "              hue_order = train['CKG_DODF_NM'].value_counts().index)\n",
    "plt.show() "
   ]
  },
  {
   "cell_type": "markdown",
   "metadata": {
    "id": "3PJ4O7LKRxSV"
   },
   "source": [
    "## 요리종류(CKG_KND_ACTO_NM)"
   ]
  },
  {
   "cell_type": "code",
   "execution_count": null,
   "metadata": {
    "colab": {
     "base_uri": "https://localhost:8080/",
     "height": 336
    },
    "executionInfo": {
     "elapsed": 712,
     "status": "ok",
     "timestamp": 1662914527531,
     "user": {
      "displayName": "김아무개",
      "userId": "08862640890602732374"
     },
     "user_tz": -540
    },
    "id": "PoYzrPL3Rw8d",
    "outputId": "c8c14610-7461-4491-cf1b-c0d90c404337"
   },
   "outputs": [
    {
     "data": {
      "image/png": "[encoded data removed]",
      "text/plain": [
       "<Figure size 1080x360 with 1 Axes>"
      ]
     },
     "metadata": {},
     "output_type": "display_data"
    }
   ],
   "source": [
    "plt.figure(figsize=(15,5))\n",
    "sns.countplot(data=train, x='CKG_KND_ACTO_NM', order=train['CKG_KND_ACTO_NM'].value_counts().index)\n",
    "plt.show()"
   ]
  },
  {
   "cell_type": "code",
   "execution_count": null,
   "metadata": {
    "colab": {
     "base_uri": "https://localhost:8080/",
     "height": 499
    },
    "executionInfo": {
     "elapsed": 1514,
     "status": "ok",
     "timestamp": 1662914529041,
     "user": {
      "displayName": "김아무개",
      "userId": "08862640890602732374"
     },
     "user_tz": -540
    },
    "id": "tWmVMXNER4r6",
    "outputId": "2512af30-3269-439a-a72c-826a158f42c9"
   },
   "outputs": [
    {
     "data": {
      "image/png": "[encoded data removed]",
      "text/plain": [
       "<Figure size 1440x576 with 1 Axes>"
      ]
     },
     "metadata": {},
     "output_type": "display_data"
    }
   ],
   "source": [
    "plt.figure(figsize=(20,8))\n",
    "sns.countplot(data=train, x='CKG_KND_ACTO_NM',\n",
    "              hue='CKG_DODF_NM',\n",
    "              order=train['CKG_KND_ACTO_NM'].value_counts().index,\n",
    "              hue_order = train['CKG_DODF_NM'].value_counts().index)\n",
    "plt.show() "
   ]
  },
  {
   "cell_type": "markdown",
   "metadata": {
    "id": "09KN3HYLSBo3"
   },
   "source": [
    "## 요리인분(CKG_INBUN_NM)"
   ]
  },
  {
   "cell_type": "code",
   "execution_count": null,
   "metadata": {
    "colab": {
     "base_uri": "https://localhost:8080/",
     "height": 336
    },
    "executionInfo": {
     "elapsed": 549,
     "status": "ok",
     "timestamp": 1662914529587,
     "user": {
      "displayName": "김아무개",
      "userId": "08862640890602732374"
     },
     "user_tz": -540
    },
    "id": "YvgJuUCnSEMq",
    "outputId": "607f4285-02f8-4688-d99d-2eba3246be1d"
   },
   "outputs": [
    {
     "data": {
      "image/png": "[encoded data removed]",
      "text/plain": [
       "<Figure size 1080x360 with 1 Axes>"
      ]
     },
     "metadata": {},
     "output_type": "display_data"
    }
   ],
   "source": [
    "plt.figure(figsize=(15,5))\n",
    "sns.countplot(data=train, x='CKG_INBUN_NM', order=train['CKG_INBUN_NM'].value_counts().index)\n",
    "plt.show()"
   ]
  },
  {
   "cell_type": "code",
   "execution_count": null,
   "metadata": {
    "colab": {
     "base_uri": "https://localhost:8080/",
     "height": 499
    },
    "executionInfo": {
     "elapsed": 521,
     "status": "ok",
     "timestamp": 1662914530105,
     "user": {
      "displayName": "김아무개",
      "userId": "08862640890602732374"
     },
     "user_tz": -540
    },
    "id": "9DV0oWfgSFRS",
    "outputId": "4bb12655-43e2-4815-cf59-e94e320dfb06"
   },
   "outputs": [
    {
     "data": {
      "image/png": "[encoded data removed]",
      "text/plain": [
       "<Figure size 1440x576 with 1 Axes>"
      ]
     },
     "metadata": {},
     "output_type": "display_data"
    }
   ],
   "source": [
    "inbun_order = ['1인분','2인분','3인분','4인분','5인분','6인분이상']\n",
    "plt.figure(figsize=(20,8))\n",
    "sns.countplot(data=train, x='CKG_INBUN_NM',\n",
    "              hue='CKG_DODF_NM',\n",
    "              order=inbun_order,\n",
    "              hue_order = train['CKG_DODF_NM'].value_counts().index)\n",
    "plt.show() "
   ]
  },
  {
   "cell_type": "markdown",
   "metadata": {
    "id": "MTzBj77UT7xt"
   },
   "source": [
    "## 요리시간(CKG_TIME_NM)"
   ]
  },
  {
   "cell_type": "code",
   "execution_count": null,
   "metadata": {
    "colab": {
     "base_uri": "https://localhost:8080/",
     "height": 336
    },
    "executionInfo": {
     "elapsed": 946,
     "status": "ok",
     "timestamp": 1662914531048,
     "user": {
      "displayName": "김아무개",
      "userId": "08862640890602732374"
     },
     "user_tz": -540
    },
    "id": "AZEjio2BT7DE",
    "outputId": "e3ae249b-4fee-41a9-e5a1-4d0a0f0845ec"
   },
   "outputs": [
    {
     "data": {
      "image/png": "[encoded data removed]",
      "text/plain": [
       "<Figure size 1080x360 with 1 Axes>"
      ]
     },
     "metadata": {},
     "output_type": "display_data"
    }
   ],
   "source": [
    "plt.figure(figsize=(15,5))\n",
    "sns.countplot(data=train, x='CKG_TIME_NM', order=train['CKG_TIME_NM'].value_counts().index)\n",
    "plt.show()"
   ]
  },
  {
   "cell_type": "code",
   "execution_count": null,
   "metadata": {
    "colab": {
     "base_uri": "https://localhost:8080/",
     "height": 499
    },
    "executionInfo": {
     "elapsed": 411,
     "status": "ok",
     "timestamp": 1662914531457,
     "user": {
      "displayName": "김아무개",
      "userId": "08862640890602732374"
     },
     "user_tz": -540
    },
    "id": "1HUVWPNzUDcN",
    "outputId": "4207c474-ce87-4d5d-9e38-117e28077221"
   },
   "outputs": [
    {
     "data": {
      "image/png": "[encoded data removed]",
      "text/plain": [
       "<Figure size 1440x576 with 1 Axes>"
      ]
     },
     "metadata": {},
     "output_type": "display_data"
    }
   ],
   "source": [
    "time_order = ['5분이내', '10분이내', '15분이내','30분이내','60분이내','90분이내','2시간이내', '2시간이상']\n",
    "plt.figure(figsize=(20,8))\n",
    "sns.countplot(data=train, x='CKG_TIME_NM',\n",
    "              hue='CKG_DODF_NM',\n",
    "              order=time_order,\n",
    "              hue_order = train['CKG_DODF_NM'].value_counts().index)\n",
    "plt.show()"
   ]
  },
  {
   "cell_type": "markdown",
   "metadata": {
    "id": "vCoI0LRdSNrw"
   },
   "source": [
    "## 최초등록일시(FIRST_REG_DT) -> 계절, 월별"
   ]
  },
  {
   "cell_type": "code",
   "execution_count": 10,
   "metadata": {
    "ExecuteTime": {
     "end_time": "2022-09-12T13:54:13.976823Z",
     "start_time": "2022-09-12T13:54:13.747223Z"
    },
    "id": "amkhOWz_SSly"
   },
   "outputs": [],
   "source": [
    "def make_season(x):\n",
    "    x = int(str(x)[4:6])\n",
    "    if  3 <= x <= 5:\n",
    "        result = '봄'\n",
    "    elif 6 <= x <= 8:\n",
    "        result = '여름'\n",
    "    elif 9 <= x <= 11:\n",
    "      result = '가을'\n",
    "    else:\n",
    "      result = '겨울'\n",
    "    return result\n",
    "\n",
    "train['season'] = train['FIRST_REG_DT'].apply(make_season)\n",
    "test['season'] = test['FIRST_REG_DT'].apply(make_season)\n",
    "\n",
    "train['month'] = train['FIRST_REG_DT'].apply(lambda x: str(x)[4:6] + '월')\n",
    "test['month'] = test['FIRST_REG_DT'].apply(lambda x: str(x)[4:6] + '월')\n",
    "\n",
    "train = train.drop('FIRST_REG_DT', axis=1)\n",
    "test = test.drop('FIRST_REG_DT', axis=1)"
   ]
  },
  {
   "cell_type": "markdown",
   "metadata": {
    "id": "-TAyU0YSSgcZ"
   },
   "source": [
    "### 계절"
   ]
  },
  {
   "cell_type": "code",
   "execution_count": null,
   "metadata": {
    "colab": {
     "base_uri": "https://localhost:8080/",
     "height": 336
    },
    "executionInfo": {
     "elapsed": 670,
     "status": "ok",
     "timestamp": 1662914532548,
     "user": {
      "displayName": "김아무개",
      "userId": "08862640890602732374"
     },
     "user_tz": -540
    },
    "id": "TM1ouCxsSfle",
    "outputId": "e683d760-a62f-405b-bb95-dd9cdd1b0eda"
   },
   "outputs": [
    {
     "data": {
      "image/png": "[encoded data removed]",
      "text/plain": [
       "<Figure size 720x360 with 1 Axes>"
      ]
     },
     "metadata": {},
     "output_type": "display_data"
    }
   ],
   "source": [
    "plt.figure(figsize=(10,5))\n",
    "sns.countplot(data=train, x='season', order=train['season'].value_counts().index)\n",
    "plt.show()"
   ]
  },
  {
   "cell_type": "code",
   "execution_count": null,
   "metadata": {
    "colab": {
     "base_uri": "https://localhost:8080/",
     "height": 499
    },
    "executionInfo": {
     "elapsed": 909,
     "status": "ok",
     "timestamp": 1662914533453,
     "user": {
      "displayName": "김아무개",
      "userId": "08862640890602732374"
     },
     "user_tz": -540
    },
    "id": "r_fQkb-ySizN",
    "outputId": "289f839c-feae-485e-d9dc-5abd8a6b9e74"
   },
   "outputs": [
    {
     "data": {
      "image/png": "[encoded data removed]",
      "text/plain": [
       "<Figure size 1080x576 with 1 Axes>"
      ]
     },
     "metadata": {},
     "output_type": "display_data"
    }
   ],
   "source": [
    "season_order = ['봄','여름','가을','겨울']\n",
    "plt.figure(figsize=(15,8))\n",
    "sns.countplot(data=train, x='season',\n",
    "              hue='CKG_DODF_NM',\n",
    "              order=season_order,\n",
    "              hue_order = train['CKG_DODF_NM'].value_counts().index)\n",
    "plt.show() "
   ]
  },
  {
   "cell_type": "markdown",
   "metadata": {
    "id": "AbAbTO5FSmy9"
   },
   "source": [
    "### 월별"
   ]
  },
  {
   "cell_type": "code",
   "execution_count": null,
   "metadata": {
    "colab": {
     "base_uri": "https://localhost:8080/",
     "height": 336
    },
    "executionInfo": {
     "elapsed": 680,
     "status": "ok",
     "timestamp": 1662914534130,
     "user": {
      "displayName": "김아무개",
      "userId": "08862640890602732374"
     },
     "user_tz": -540
    },
    "id": "cZeqvuQNSqRs",
    "outputId": "973654ef-27fe-4dc6-9f70-ca10b0c1cab3"
   },
   "outputs": [
    {
     "data": {
      "image/png": "[encoded data removed]",
      "text/plain": [
       "<Figure size 720x360 with 1 Axes>"
      ]
     },
     "metadata": {},
     "output_type": "display_data"
    }
   ],
   "source": [
    "plt.figure(figsize=(10,5))\n",
    "sns.countplot(data=train, x='month', order=train['month'].value_counts().index)\n",
    "plt.show()"
   ]
  },
  {
   "cell_type": "code",
   "execution_count": null,
   "metadata": {
    "colab": {
     "base_uri": "https://localhost:8080/",
     "height": 499
    },
    "executionInfo": {
     "elapsed": 1114,
     "status": "ok",
     "timestamp": 1662914535239,
     "user": {
      "displayName": "김아무개",
      "userId": "08862640890602732374"
     },
     "user_tz": -540
    },
    "id": "SqRJvv3xS1tS",
    "outputId": "44b923eb-06fc-4725-e732-dc42b213065f"
   },
   "outputs": [
    {
     "data": {
      "image/png": "[encoded data removed]",
      "text/plain": [
       "<Figure size 1080x576 with 1 Axes>"
      ]
     },
     "metadata": {},
     "output_type": "display_data"
    }
   ],
   "source": [
    "plt.figure(figsize=(15,8))\n",
    "sns.countplot(data=train, x='month',\n",
    "              hue='CKG_DODF_NM',\n",
    "              order=['01월','02월','03월','04월','05월','06월','07월','08','09월','10월','11월','12월'],\n",
    "              hue_order = train['CKG_DODF_NM'].value_counts().index)\n",
    "plt.show() "
   ]
  },
  {
   "cell_type": "markdown",
   "metadata": {
    "id": "7uf7LEwZTQnx"
   },
   "source": [
    "## 상관관계(cramer's V)\n",
    "\n",
    "Cramer's V : 2개 이상의 범주로 나눈 집단간의 상관계수를 구하는 경우\n",
    "- 0~1의 값을 가짐  \n",
    "- 식 : $V = \\sqrt{\\frac{x^{2}}{n\\times{min(c-1, r-1)}}}$\n",
    " - $x^2 : 카이제곱 통계량$\n",
    " - n : 샘플의 사이즈\n",
    " - r : 행의 수\n",
    " - c : 열의 수"
   ]
  },
  {
   "cell_type": "code",
   "execution_count": null,
   "metadata": {
    "id": "vBw6rp9ZTXsA"
   },
   "outputs": [],
   "source": [
    "import scipy.stats as stats\n",
    "import numpy as np\n",
    "\n",
    "data = np.array([[7,12],[9,8]])\n",
    "x2 = stats.chi2_contingency(data, correction=False)[0]\n",
    "n = np.sum(data)\n",
    "minDim = min(len(data)-1, len(data[0])-1)\n",
    "\n",
    "\n",
    "V = np.sqrt(x2/ (minDim * n))"
   ]
  },
  {
   "cell_type": "code",
   "execution_count": null,
   "metadata": {
    "id": "fT-O7WLcauSv"
   },
   "outputs": [],
   "source": [
    "coefs = []\n",
    "for column1 in train.columns:\n",
    "  coef = []\n",
    "  for column2 in train.columns:\n",
    "    data = pd.crosstab(train[column1], train[column2])\n",
    "    x2 = stats.chi2_contingency(data, correction=False)[0]\n",
    "    n = np.sum(data.values)\n",
    "    minDim = min(len(data.values)-1, len(data.values[0])-1)\n",
    "\n",
    "    V = np.sqrt(x2/ (minDim * n))\n",
    "    coef.append(V)\n",
    "  coefs.append(coef)"
   ]
  },
  {
   "cell_type": "code",
   "execution_count": null,
   "metadata": {
    "colab": {
     "base_uri": "https://localhost:8080/",
     "height": 395
    },
    "executionInfo": {
     "elapsed": 8,
     "status": "ok",
     "timestamp": 1662914538755,
     "user": {
      "displayName": "김아무개",
      "userId": "08862640890602732374"
     },
     "user_tz": -540
    },
    "id": "46_a2I9obtdU",
    "outputId": "70b1a959-4652-4862-c4cd-2dde6ff67be2"
   },
   "outputs": [
    {
     "data": {
      "text/html": [
       "\n",
       "  <div id=\"df-5b9efd96-bcd2-46e8-b943-9820d09701b4\">\n",
       "    <div class=\"colab-df-container\">\n",
       "      <div>\n",
       "<style scoped>\n",
       "    .dataframe tbody tr th:only-of-type {\n",
       "        vertical-align: middle;\n",
       "    }\n",
       "\n",
       "    .dataframe tbody tr th {\n",
       "        vertical-align: top;\n",
       "    }\n",
       "\n",
       "    .dataframe thead th {\n",
       "        text-align: right;\n",
       "    }\n",
       "</style>\n",
       "<table border=\"1\" class=\"dataframe\">\n",
       "  <thead>\n",
       "    <tr style=\"text-align: right;\">\n",
       "      <th></th>\n",
       "      <th>CKG_MTH_ACTO_NM</th>\n",
       "      <th>CKG_STA_ACTO_NM</th>\n",
       "      <th>CKG_MTRL_ACTO_NM</th>\n",
       "      <th>CKG_KND_ACTO_NM</th>\n",
       "      <th>CKG_INBUN_NM</th>\n",
       "      <th>CKG_DODF_NM</th>\n",
       "      <th>CKG_TIME_NM</th>\n",
       "      <th>season</th>\n",
       "      <th>month</th>\n",
       "    </tr>\n",
       "  </thead>\n",
       "  <tbody>\n",
       "    <tr>\n",
       "      <th>CKG_MTH_ACTO_NM</th>\n",
       "      <td>1.000000</td>\n",
       "      <td>0.195605</td>\n",
       "      <td>0.214070</td>\n",
       "      <td>0.362579</td>\n",
       "      <td>0.188595</td>\n",
       "      <td>0.124598</td>\n",
       "      <td>0.174653</td>\n",
       "      <td>0.056682</td>\n",
       "      <td>0.036494</td>\n",
       "    </tr>\n",
       "    <tr>\n",
       "      <th>CKG_STA_ACTO_NM</th>\n",
       "      <td>0.195605</td>\n",
       "      <td>1.000000</td>\n",
       "      <td>0.188191</td>\n",
       "      <td>0.265460</td>\n",
       "      <td>0.107888</td>\n",
       "      <td>0.147609</td>\n",
       "      <td>0.155783</td>\n",
       "      <td>0.073823</td>\n",
       "      <td>0.057552</td>\n",
       "    </tr>\n",
       "    <tr>\n",
       "      <th>CKG_MTRL_ACTO_NM</th>\n",
       "      <td>0.214070</td>\n",
       "      <td>0.188191</td>\n",
       "      <td>1.000000</td>\n",
       "      <td>0.291021</td>\n",
       "      <td>0.123879</td>\n",
       "      <td>0.133865</td>\n",
       "      <td>0.143570</td>\n",
       "      <td>0.055697</td>\n",
       "      <td>0.034735</td>\n",
       "    </tr>\n",
       "    <tr>\n",
       "      <th>CKG_KND_ACTO_NM</th>\n",
       "      <td>0.362579</td>\n",
       "      <td>0.265460</td>\n",
       "      <td>0.291021</td>\n",
       "      <td>1.000000</td>\n",
       "      <td>0.231555</td>\n",
       "      <td>0.137919</td>\n",
       "      <td>0.171871</td>\n",
       "      <td>0.051103</td>\n",
       "      <td>0.034557</td>\n",
       "    </tr>\n",
       "    <tr>\n",
       "      <th>CKG_INBUN_NM</th>\n",
       "      <td>0.188595</td>\n",
       "      <td>0.107888</td>\n",
       "      <td>0.123879</td>\n",
       "      <td>0.231555</td>\n",
       "      <td>1.000000</td>\n",
       "      <td>0.099658</td>\n",
       "      <td>0.211523</td>\n",
       "      <td>0.031193</td>\n",
       "      <td>0.030668</td>\n",
       "    </tr>\n",
       "    <tr>\n",
       "      <th>CKG_DODF_NM</th>\n",
       "      <td>0.124598</td>\n",
       "      <td>0.147609</td>\n",
       "      <td>0.133865</td>\n",
       "      <td>0.137919</td>\n",
       "      <td>0.099658</td>\n",
       "      <td>1.000000</td>\n",
       "      <td>0.257232</td>\n",
       "      <td>0.017618</td>\n",
       "      <td>0.022143</td>\n",
       "    </tr>\n",
       "    <tr>\n",
       "      <th>CKG_TIME_NM</th>\n",
       "      <td>0.174653</td>\n",
       "      <td>0.155783</td>\n",
       "      <td>0.143570</td>\n",
       "      <td>0.171871</td>\n",
       "      <td>0.211523</td>\n",
       "      <td>0.257232</td>\n",
       "      <td>1.000000</td>\n",
       "      <td>0.030853</td>\n",
       "      <td>0.026346</td>\n",
       "    </tr>\n",
       "    <tr>\n",
       "      <th>season</th>\n",
       "      <td>0.056682</td>\n",
       "      <td>0.073823</td>\n",
       "      <td>0.055697</td>\n",
       "      <td>0.051103</td>\n",
       "      <td>0.031193</td>\n",
       "      <td>0.017618</td>\n",
       "      <td>0.030853</td>\n",
       "      <td>1.000000</td>\n",
       "      <td>1.000000</td>\n",
       "    </tr>\n",
       "    <tr>\n",
       "      <th>month</th>\n",
       "      <td>0.036494</td>\n",
       "      <td>0.057552</td>\n",
       "      <td>0.034735</td>\n",
       "      <td>0.034557</td>\n",
       "      <td>0.030668</td>\n",
       "      <td>0.022143</td>\n",
       "      <td>0.026346</td>\n",
       "      <td>1.000000</td>\n",
       "      <td>1.000000</td>\n",
       "    </tr>\n",
       "  </tbody>\n",
       "</table>\n",
       "</div>\n",
       "      <button class=\"colab-df-convert\" onclick=\"convertToInteractive('df-5b9efd96-bcd2-46e8-b943-9820d09701b4')\"\n",
       "              title=\"Convert this dataframe to an interactive table.\"\n",
       "              style=\"display:none;\">\n",
       "        \n",
       "  <svg xmlns=\"http://www.w3.org/2000/svg\" height=\"24px\"viewBox=\"0 0 24 24\"\n",
       "       width=\"24px\">\n",
       "    <path d=\"M0 0h24v24H0V0z\" fill=\"none\"/>\n",
       "    <path d=\"M18.56 5.44l.94 2.06.94-2.06 2.06-.94-2.06-.94-.94-2.06-.94 2.06-2.06.94zm-11 1L8.5 8.5l.94-2.06 2.06-.94-2.06-.94L8.5 2.5l-.94 2.06-2.06.94zm10 10l.94 2.06.94-2.06 2.06-.94-2.06-.94-.94-2.06-.94 2.06-2.06.94z\"/><path d=\"M17.41 7.96l-1.37-1.37c-.4-.4-.92-.59-1.43-.59-.52 0-1.04.2-1.43.59L10.3 9.45l-7.72 7.72c-.78.78-.78 2.05 0 2.83L4 21.41c.39.39.9.59 1.41.59.51 0 1.02-.2 1.41-.59l7.78-7.78 2.81-2.81c.8-.78.8-2.07 0-2.86zM5.41 20L4 18.59l7.72-7.72 1.47 1.35L5.41 20z\"/>\n",
       "  </svg>\n",
       "      </button>\n",
       "      \n",
       "  <style>\n",
       "    .colab-df-container {\n",
       "      display:flex;\n",
       "      flex-wrap:wrap;\n",
       "      gap: 12px;\n",
       "    }\n",
       "\n",
       "    .colab-df-convert {\n",
       "      background-color: #E8F0FE;\n",
       "      border: none;\n",
       "      border-radius: 50%;\n",
       "      cursor: pointer;\n",
       "      display: none;\n",
       "      fill: #1967D2;\n",
       "      height: 32px;\n",
       "      padding: 0 0 0 0;\n",
       "      width: 32px;\n",
       "    }\n",
       "\n",
       "    .colab-df-convert:hover {\n",
       "      background-color: #E2EBFA;\n",
       "      box-shadow: 0px 1px 2px rgba(60, 64, 67, 0.3), 0px 1px 3px 1px rgba(60, 64, 67, 0.15);\n",
       "      fill: #174EA6;\n",
       "    }\n",
       "\n",
       "    [theme=dark] .colab-df-convert {\n",
       "      background-color: #3B4455;\n",
       "      fill: #D2E3FC;\n",
       "    }\n",
       "\n",
       "    [theme=dark] .colab-df-convert:hover {\n",
       "      background-color: #434B5C;\n",
       "      box-shadow: 0px 1px 3px 1px rgba(0, 0, 0, 0.15);\n",
       "      filter: drop-shadow(0px 1px 2px rgba(0, 0, 0, 0.3));\n",
       "      fill: #FFFFFF;\n",
       "    }\n",
       "  </style>\n",
       "\n",
       "      <script>\n",
       "        const buttonEl =\n",
       "          document.querySelector('#df-5b9efd96-bcd2-46e8-b943-9820d09701b4 button.colab-df-convert');\n",
       "        buttonEl.style.display =\n",
       "          google.colab.kernel.accessAllowed ? 'block' : 'none';\n",
       "\n",
       "        async function convertToInteractive(key) {\n",
       "          const element = document.querySelector('#df-5b9efd96-bcd2-46e8-b943-9820d09701b4');\n",
       "          const dataTable =\n",
       "            await google.colab.kernel.invokeFunction('convertToInteractive',\n",
       "                                                     [key], {});\n",
       "          if (!dataTable) return;\n",
       "\n",
       "          const docLinkHtml = 'Like what you see? Visit the ' +\n",
       "            '<a target=\"_blank\" href=https://colab.research.google.com/notebooks/data_table.ipynb>data table notebook</a>'\n",
       "            + ' to learn more about interactive tables.';\n",
       "          element.innerHTML = '';\n",
       "          dataTable['output_type'] = 'display_data';\n",
       "          await google.colab.output.renderOutput(dataTable, element);\n",
       "          const docLink = document.createElement('div');\n",
       "          docLink.innerHTML = docLinkHtml;\n",
       "          element.appendChild(docLink);\n",
       "        }\n",
       "      </script>\n",
       "    </div>\n",
       "  </div>\n",
       "  "
      ],
      "text/plain": [
       "                  CKG_MTH_ACTO_NM  CKG_STA_ACTO_NM  CKG_MTRL_ACTO_NM  \\\n",
       "CKG_MTH_ACTO_NM          1.000000         0.195605          0.214070   \n",
       "CKG_STA_ACTO_NM          0.195605         1.000000          0.188191   \n",
       "CKG_MTRL_ACTO_NM         0.214070         0.188191          1.000000   \n",
       "CKG_KND_ACTO_NM          0.362579         0.265460          0.291021   \n",
       "CKG_INBUN_NM             0.188595         0.107888          0.123879   \n",
       "CKG_DODF_NM              0.124598         0.147609          0.133865   \n",
       "CKG_TIME_NM              0.174653         0.155783          0.143570   \n",
       "season                   0.056682         0.073823          0.055697   \n",
       "month                    0.036494         0.057552          0.034735   \n",
       "\n",
       "                  CKG_KND_ACTO_NM  CKG_INBUN_NM  CKG_DODF_NM  CKG_TIME_NM  \\\n",
       "CKG_MTH_ACTO_NM          0.362579      0.188595     0.124598     0.174653   \n",
       "CKG_STA_ACTO_NM          0.265460      0.107888     0.147609     0.155783   \n",
       "CKG_MTRL_ACTO_NM         0.291021      0.123879     0.133865     0.143570   \n",
       "CKG_KND_ACTO_NM          1.000000      0.231555     0.137919     0.171871   \n",
       "CKG_INBUN_NM             0.231555      1.000000     0.099658     0.211523   \n",
       "CKG_DODF_NM              0.137919      0.099658     1.000000     0.257232   \n",
       "CKG_TIME_NM              0.171871      0.211523     0.257232     1.000000   \n",
       "season                   0.051103      0.031193     0.017618     0.030853   \n",
       "month                    0.034557      0.030668     0.022143     0.026346   \n",
       "\n",
       "                    season     month  \n",
       "CKG_MTH_ACTO_NM   0.056682  0.036494  \n",
       "CKG_STA_ACTO_NM   0.073823  0.057552  \n",
       "CKG_MTRL_ACTO_NM  0.055697  0.034735  \n",
       "CKG_KND_ACTO_NM   0.051103  0.034557  \n",
       "CKG_INBUN_NM      0.031193  0.030668  \n",
       "CKG_DODF_NM       0.017618  0.022143  \n",
       "CKG_TIME_NM       0.030853  0.026346  \n",
       "season            1.000000  1.000000  \n",
       "month             1.000000  1.000000  "
      ]
     },
     "execution_count": 37,
     "metadata": {},
     "output_type": "execute_result"
    }
   ],
   "source": [
    "corr = pd.DataFrame(coefs, index=train.columns, columns=train.columns)\n",
    "corr"
   ]
  },
  {
   "cell_type": "code",
   "execution_count": null,
   "metadata": {
    "colab": {
     "base_uri": "https://localhost:8080/",
     "height": 639
    },
    "executionInfo": {
     "elapsed": 950,
     "status": "ok",
     "timestamp": 1662914539699,
     "user": {
      "displayName": "김아무개",
      "userId": "08862640890602732374"
     },
     "user_tz": -540
    },
    "id": "TPI-FWFKcAcX",
    "outputId": "6e717483-59f5-479e-f94d-994909d4870a"
   },
   "outputs": [
    {
     "data": {
      "image/png": "[encoded data removed]",
      "text/plain": [
       "<Figure size 720x720 with 2 Axes>"
      ]
     },
     "metadata": {},
     "output_type": "display_data"
    }
   ],
   "source": [
    "plt.figure(figsize=(10,10))\n",
    "sns.heatmap(corr, annot=True, fmt='.3f', cmap='YlOrRd', square=True, linecolor='white', linewidths=0.3)\n",
    "plt.show()"
   ]
  },
  {
   "cell_type": "markdown",
   "metadata": {
    "id": "x_eP35y9dBDO"
   },
   "source": [
    "season, month 컬럼중 그나마 난이도(CKG_MTH_ACTO_NM)와 상관이 높은 month 살리기"
   ]
  },
  {
   "cell_type": "code",
   "execution_count": 11,
   "metadata": {
    "ExecuteTime": {
     "end_time": "2022-09-12T13:54:22.686823Z",
     "start_time": "2022-09-12T13:54:22.660824Z"
    },
    "colab": {
     "base_uri": "https://localhost:8080/"
    },
    "executionInfo": {
     "elapsed": 13,
     "status": "ok",
     "timestamp": 1662914539699,
     "user": {
      "displayName": "김아무개",
      "userId": "08862640890602732374"
     },
     "user_tz": -540
    },
    "id": "nFfzkxn5c9t2",
    "outputId": "5f26ce53-b1ca-4060-8731-a15f6993327a"
   },
   "outputs": [
    {
     "data": {
      "text/plain": [
       "((80158, 8), (34354, 8))"
      ]
     },
     "execution_count": 11,
     "metadata": {},
     "output_type": "execute_result"
    }
   ],
   "source": [
    "train = train.drop('season', axis=1)\n",
    "test = test.drop('season', axis=1)\n",
    "\n",
    "train.shape, test.shape"
   ]
  },
  {
   "cell_type": "markdown",
   "metadata": {
    "id": "f1c2da03EQRH"
   },
   "source": [
    "# 모델링\n",
    "- RandomForest, XGB, LightGBM, Catboost Classifier를 사용\n",
    "- Encoder : Label, Target, Catboost Encoder를 사용 \n",
    "\n",
    "가장 높은 성능을 기록한 모델을 사용"
   ]
  },
  {
   "cell_type": "markdown",
   "metadata": {
    "id": "Y8nqclxjlDNI"
   },
   "source": [
    "## 타겟 데이터 분리"
   ]
  },
  {
   "cell_type": "code",
   "execution_count": 12,
   "metadata": {
    "ExecuteTime": {
     "end_time": "2022-09-12T13:54:24.339584Z",
     "start_time": "2022-09-12T13:54:24.315114Z"
    },
    "colab": {
     "base_uri": "https://localhost:8080/"
    },
    "executionInfo": {
     "elapsed": 349,
     "status": "ok",
     "timestamp": 1662947195698,
     "user": {
      "displayName": "김아무개",
      "userId": "08862640890602732374"
     },
     "user_tz": -540
    },
    "id": "-eV6a_KwlF-d",
    "outputId": "177123cb-0e4c-48e9-85e1-ab9a993b9cfd"
   },
   "outputs": [
    {
     "name": "stdout",
     "output_type": "stream",
     "text": [
      "(80158, 7) (80158,)\n",
      "(34354, 7) (34354,)\n"
     ]
    }
   ],
   "source": [
    "target = 'CKG_DODF_NM'\n",
    "X_train = train.drop(target, axis=1)\n",
    "y_train = train[target]\n",
    "X_test = test.drop(target, axis=1)\n",
    "y_test = test[target]\n",
    "\n",
    "print(X_train.shape, y_train.shape)\n",
    "print(X_test.shape, y_test.shape)"
   ]
  },
  {
   "cell_type": "code",
   "execution_count": 13,
   "metadata": {
    "ExecuteTime": {
     "end_time": "2022-09-12T13:54:26.471834Z",
     "start_time": "2022-09-12T13:54:26.451833Z"
    },
    "id": "xadC_uUHGV1f"
   },
   "outputs": [],
   "source": [
    "X_train = X_train.astype(str)\n",
    "X_test =X_test.astype(str)"
   ]
  },
  {
   "cell_type": "markdown",
   "metadata": {
    "id": "z8pdXqXNlAek"
   },
   "source": [
    "## 필요 라이브러리 로드"
   ]
  },
  {
   "cell_type": "code",
   "execution_count": null,
   "metadata": {
    "colab": {
     "base_uri": "https://localhost:8080/"
    },
    "executionInfo": {
     "elapsed": 20747,
     "status": "ok",
     "timestamp": 1662914560441,
     "user": {
      "displayName": "김아무개",
      "userId": "08862640890602732374"
     },
     "user_tz": -540
    },
    "id": "J_w-lNtqnHcX",
    "outputId": "0a04616d-58dd-4d23-b268-237c1833262b"
   },
   "outputs": [
    {
     "name": "stdout",
     "output_type": "stream",
     "text": [
      "Looking in indexes: https://pypi.org/simple, https://us-python.pkg.dev/colab-wheels/public/simple/\n",
      "Collecting category_encoders\n",
      "  Downloading category_encoders-2.5.0-py2.py3-none-any.whl (69 kB)\n",
      "\u001b[K     |████████████████████████████████| 69 kB 3.7 MB/s \n",
      "\u001b[?25hRequirement already satisfied: numpy>=1.14.0 in /usr/local/lib/python3.7/dist-packages (from category_encoders) (1.21.6)\n",
      "Requirement already satisfied: scipy>=1.0.0 in /usr/local/lib/python3.7/dist-packages (from category_encoders) (1.7.3)\n",
      "Requirement already satisfied: statsmodels>=0.9.0 in /usr/local/lib/python3.7/dist-packages (from category_encoders) (0.12.2)\n",
      "Requirement already satisfied: pandas>=1.0.5 in /usr/local/lib/python3.7/dist-packages (from category_encoders) (1.3.5)\n",
      "Requirement already satisfied: patsy>=0.5.1 in /usr/local/lib/python3.7/dist-packages (from category_encoders) (0.5.2)\n",
      "Requirement already satisfied: scikit-learn>=0.20.0 in /usr/local/lib/python3.7/dist-packages (from category_encoders) (1.0.2)\n",
      "Requirement already satisfied: pytz>=2017.3 in /usr/local/lib/python3.7/dist-packages (from pandas>=1.0.5->category_encoders) (2022.2.1)\n",
      "Requirement already satisfied: python-dateutil>=2.7.3 in /usr/local/lib/python3.7/dist-packages (from pandas>=1.0.5->category_encoders) (2.8.2)\n",
      "Requirement already satisfied: six in /usr/local/lib/python3.7/dist-packages (from patsy>=0.5.1->category_encoders) (1.15.0)\n",
      "Requirement already satisfied: joblib>=0.11 in /usr/local/lib/python3.7/dist-packages (from scikit-learn>=0.20.0->category_encoders) (1.1.0)\n",
      "Requirement already satisfied: threadpoolctl>=2.0.0 in /usr/local/lib/python3.7/dist-packages (from scikit-learn>=0.20.0->category_encoders) (3.1.0)\n",
      "Installing collected packages: category-encoders\n",
      "Successfully installed category-encoders-2.5.0\n",
      "Looking in indexes: https://pypi.org/simple, https://us-python.pkg.dev/colab-wheels/public/simple/\n",
      "Collecting catboost\n",
      "  Downloading catboost-1.0.6-cp37-none-manylinux1_x86_64.whl (76.6 MB)\n",
      "\u001b[K     |████████████████████████████████| 76.6 MB 85 kB/s \n",
      "\u001b[?25hRequirement already satisfied: graphviz in /usr/local/lib/python3.7/dist-packages (from catboost) (0.10.1)\n",
      "Requirement already satisfied: plotly in /usr/local/lib/python3.7/dist-packages (from catboost) (5.5.0)\n",
      "Requirement already satisfied: six in /usr/local/lib/python3.7/dist-packages (from catboost) (1.15.0)\n",
      "Requirement already satisfied: pandas>=0.24.0 in /usr/local/lib/python3.7/dist-packages (from catboost) (1.3.5)\n",
      "Requirement already satisfied: scipy in /usr/local/lib/python3.7/dist-packages (from catboost) (1.7.3)\n",
      "Requirement already satisfied: numpy>=1.16.0 in /usr/local/lib/python3.7/dist-packages (from catboost) (1.21.6)\n",
      "Requirement already satisfied: matplotlib in /usr/local/lib/python3.7/dist-packages (from catboost) (3.2.2)\n",
      "Requirement already satisfied: python-dateutil>=2.7.3 in /usr/local/lib/python3.7/dist-packages (from pandas>=0.24.0->catboost) (2.8.2)\n",
      "Requirement already satisfied: pytz>=2017.3 in /usr/local/lib/python3.7/dist-packages (from pandas>=0.24.0->catboost) (2022.2.1)\n",
      "Requirement already satisfied: cycler>=0.10 in /usr/local/lib/python3.7/dist-packages (from matplotlib->catboost) (0.11.0)\n",
      "Requirement already satisfied: kiwisolver>=1.0.1 in /usr/local/lib/python3.7/dist-packages (from matplotlib->catboost) (1.4.4)\n",
      "Requirement already satisfied: pyparsing!=2.0.4,!=2.1.2,!=2.1.6,>=2.0.1 in /usr/local/lib/python3.7/dist-packages (from matplotlib->catboost) (3.0.9)\n",
      "Requirement already satisfied: typing-extensions in /usr/local/lib/python3.7/dist-packages (from kiwisolver>=1.0.1->matplotlib->catboost) (4.1.1)\n",
      "Requirement already satisfied: tenacity>=6.2.0 in /usr/local/lib/python3.7/dist-packages (from plotly->catboost) (8.0.1)\n",
      "Installing collected packages: catboost\n",
      "Successfully installed catboost-1.0.6\n"
     ]
    }
   ],
   "source": [
    "!pip install category_encoders\n",
    "!pip install catboost"
   ]
  },
  {
   "cell_type": "markdown",
   "metadata": {
    "id": "SZgg7dgtkgC2"
   },
   "source": [
    "## 튜닝 X"
   ]
  },
  {
   "cell_type": "code",
   "execution_count": 14,
   "metadata": {
    "ExecuteTime": {
     "end_time": "2022-09-12T13:55:24.255838Z",
     "start_time": "2022-09-12T13:55:23.202720Z"
    },
    "id": "2jV-Da2AncW1"
   },
   "outputs": [],
   "source": [
    "from sklearn.ensemble import RandomForestClassifier\n",
    "from xgboost import XGBClassifier\n",
    "from lightgbm import LGBMClassifier\n",
    "#from catboost import CatBoostClassifier\n",
    "from sklearn.preprocessing import LabelEncoder\n",
    "from category_encoders import TargetEncoder, CatBoostEncoder\n",
    "\n",
    "from sklearn.metrics import accuracy_score"
   ]
  },
  {
   "cell_type": "code",
   "execution_count": null,
   "metadata": {
    "colab": {
     "base_uri": "https://localhost:8080/"
    },
    "executionInfo": {
     "elapsed": 11,
     "status": "ok",
     "timestamp": 1662914561451,
     "user": {
      "displayName": "김아무개",
      "userId": "08862640890602732374"
     },
     "user_tz": -540
    },
    "id": "gKO_XTD5n5iq",
    "outputId": "8578f12e-5cb1-4e28-c419-55fdf5b63a0b"
   },
   "outputs": [
    {
     "name": "stderr",
     "output_type": "stream",
     "text": [
      "/usr/local/lib/python3.7/dist-packages/category_encoders/target_encoder.py:94: FutureWarning: Default parameter min_samples_leaf will change in version 2.6.See https://github.com/scikit-learn-contrib/category_encoders/issues/327\n",
      "  category=FutureWarning)\n",
      "/usr/local/lib/python3.7/dist-packages/category_encoders/target_encoder.py:99: FutureWarning: Default parameter smoothing will change in version 2.6.See https://github.com/scikit-learn-contrib/category_encoders/issues/327\n",
      "  category=FutureWarning)\n"
     ]
    }
   ],
   "source": [
    "seed = 42\n",
    "\n",
    "rf = RandomForestClassifier(n_jobs=-1, random_state=seed)\n",
    "xgb = XGBClassifier(objective='multi:softmax', random_state=seed)\n",
    "light = LGBMClassifier(n_jobs=-1,application='multiclass', metric ='multi_logloss', random_state=seed)\n",
    "cat = CatBoostClassifier(loss_function='MultiClass', random_seed=seed, verbose=False)\n",
    "\n",
    "label = LabelEncoder()\n",
    "target = TargetEncoder()\n",
    "catboost = CatBoostEncoder()\n",
    "\n",
    "models = [rf, xgb, light, cat]\n",
    "encoders = [label, target, catboost]"
   ]
  },
  {
   "cell_type": "code",
   "execution_count": null,
   "metadata": {
    "colab": {
     "base_uri": "https://localhost:8080/"
    },
    "executionInfo": {
     "elapsed": 265467,
     "status": "ok",
     "timestamp": 1662914826910,
     "user": {
      "displayName": "김아무개",
      "userId": "08862640890602732374"
     },
     "user_tz": -540
    },
    "id": "bSj2GPsrdach",
    "outputId": "e6289a25-62e1-46ef-8b67-961b90a9c0db"
   },
   "outputs": [
    {
     "name": "stdout",
     "output_type": "stream",
     "text": [
      "RandomForestClassifier + LabelEncoder : 0.517785410723642\n",
      "RandomForestClassifier + TargetEncoder : 0.5171741281946789\n",
      "RandomForestClassifier + CatBoostEncoder : 0.5202887582232054\n",
      "XGBClassifier + LabelEncoder : 0.5502998195261105\n",
      "XGBClassifier + TargetEncoder : 0.5508819933632183\n",
      "XGBClassifier + CatBoostEncoder : 0.5435466030156605\n",
      "LGBMClassifier + LabelEncoder : 0.5567619491180066\n",
      "LGBMClassifier + TargetEncoder : 0.5566164056587297\n",
      "LGBMClassifier + CatBoostEncoder : 0.5454677766781161\n",
      "CatBoostClassifier + LabelEncoder : 0.5542877103102987\n",
      "CatBoostClassifier + TargetEncoder : 0.5550445362985388\n",
      "CatBoostClassifier + CatBoostEncoder : 0.543663037783082\n"
     ]
    }
   ],
   "source": [
    "columns = X_train.columns\n",
    "test_values = []\n",
    "train_values = []\n",
    "for model in models:\n",
    "  test_accs = []\n",
    "  train_accs = []\n",
    "  for encoder in encoders:\n",
    "    train_X = pd.DataFrame()\n",
    "    test_X = pd.DataFrame()\n",
    "    if encoder.__class__.__name__ != 'LabelEncoder':\n",
    "        label = LabelEncoder()\n",
    "        train_y = label.fit_transform(y_train)\n",
    "        true_y = label.transform(y_test)\n",
    "        for column in columns:\n",
    "          train_X[column] = encoder.fit_transform(X_train[column], train_y)\n",
    "          test_X[column] = encoder.transform(X_test[column])\n",
    "\n",
    "        model.fit(train_X, train_y)\n",
    "        predict = model.predict(test_X)\n",
    "        train_pred = model.predict(train_X)\n",
    "        train_accs.append(accuracy_score(train_y,train_pred))\n",
    "        test_accs.append(accuracy_score(true_y, predict))\n",
    "        print(f'{model.__class__.__name__} + {encoder.__class__.__name__} : {str(accuracy_score(true_y, predict))}')\n",
    "    else:\n",
    "      for column in columns:\n",
    "          train_X[column] = encoder.fit_transform(X_train[column])\n",
    "          test_X[column] = encoder.transform(X_test[column])\n",
    "\n",
    "      model.fit(train_X, y_train)\n",
    "      predict= model.predict(test_X)\n",
    "      train_pred = model.predict(train_X)\n",
    "      train_accs.append(accuracy_score(y_train,train_pred))\n",
    "      test_accs.append(accuracy_score(y_test, predict))\n",
    "      print(f'{model.__class__.__name__} + {encoder.__class__.__name__} : {str(accuracy_score(y_test, predict))}')\n",
    "  test_values.append(test_accs)\n",
    "  train_values.append(train_accs)"
   ]
  },
  {
   "cell_type": "code",
   "execution_count": null,
   "metadata": {
    "id": "tkZAAQTlyHJ_"
   },
   "outputs": [],
   "source": [
    "model_names = []\n",
    "encoder_names = []\n",
    "for model in models:\n",
    "  model_names.append(model.__class__.__name__)\n",
    "for encoder in encoders:\n",
    "  encoder_names.append(encoder.__class__.__name__)"
   ]
  },
  {
   "cell_type": "code",
   "execution_count": null,
   "metadata": {
    "colab": {
     "base_uri": "https://localhost:8080/",
     "height": 175
    },
    "executionInfo": {
     "elapsed": 12,
     "status": "ok",
     "timestamp": 1662914826911,
     "user": {
      "displayName": "김아무개",
      "userId": "08862640890602732374"
     },
     "user_tz": -540
    },
    "id": "tkxCNKT-QbaH",
    "outputId": "e82032e4-b27c-43e7-fb8c-f51b0a4d054b"
   },
   "outputs": [
    {
     "data": {
      "text/html": [
       "\n",
       "  <div id=\"df-eeaf1437-918c-454b-88b3-e8b05fbd3bd9\">\n",
       "    <div class=\"colab-df-container\">\n",
       "      <div>\n",
       "<style scoped>\n",
       "    .dataframe tbody tr th:only-of-type {\n",
       "        vertical-align: middle;\n",
       "    }\n",
       "\n",
       "    .dataframe tbody tr th {\n",
       "        vertical-align: top;\n",
       "    }\n",
       "\n",
       "    .dataframe thead th {\n",
       "        text-align: right;\n",
       "    }\n",
       "</style>\n",
       "<table border=\"1\" class=\"dataframe\">\n",
       "  <thead>\n",
       "    <tr style=\"text-align: right;\">\n",
       "      <th></th>\n",
       "      <th>LabelEncoder</th>\n",
       "      <th>TargetEncoder</th>\n",
       "      <th>CatBoostEncoder</th>\n",
       "    </tr>\n",
       "  </thead>\n",
       "  <tbody>\n",
       "    <tr>\n",
       "      <th>RandomForestClassifier</th>\n",
       "      <td>0.835126</td>\n",
       "      <td>0.835113</td>\n",
       "      <td>1.000000</td>\n",
       "    </tr>\n",
       "    <tr>\n",
       "      <th>XGBClassifier</th>\n",
       "      <td>0.554817</td>\n",
       "      <td>0.553594</td>\n",
       "      <td>0.554218</td>\n",
       "    </tr>\n",
       "    <tr>\n",
       "      <th>LGBMClassifier</th>\n",
       "      <td>0.575750</td>\n",
       "      <td>0.575239</td>\n",
       "      <td>0.584371</td>\n",
       "    </tr>\n",
       "    <tr>\n",
       "      <th>CatBoostClassifier</th>\n",
       "      <td>0.603496</td>\n",
       "      <td>0.603446</td>\n",
       "      <td>0.619526</td>\n",
       "    </tr>\n",
       "  </tbody>\n",
       "</table>\n",
       "</div>\n",
       "      <button class=\"colab-df-convert\" onclick=\"convertToInteractive('df-eeaf1437-918c-454b-88b3-e8b05fbd3bd9')\"\n",
       "              title=\"Convert this dataframe to an interactive table.\"\n",
       "              style=\"display:none;\">\n",
       "        \n",
       "  <svg xmlns=\"http://www.w3.org/2000/svg\" height=\"24px\"viewBox=\"0 0 24 24\"\n",
       "       width=\"24px\">\n",
       "    <path d=\"M0 0h24v24H0V0z\" fill=\"none\"/>\n",
       "    <path d=\"M18.56 5.44l.94 2.06.94-2.06 2.06-.94-2.06-.94-.94-2.06-.94 2.06-2.06.94zm-11 1L8.5 8.5l.94-2.06 2.06-.94-2.06-.94L8.5 2.5l-.94 2.06-2.06.94zm10 10l.94 2.06.94-2.06 2.06-.94-2.06-.94-.94-2.06-.94 2.06-2.06.94z\"/><path d=\"M17.41 7.96l-1.37-1.37c-.4-.4-.92-.59-1.43-.59-.52 0-1.04.2-1.43.59L10.3 9.45l-7.72 7.72c-.78.78-.78 2.05 0 2.83L4 21.41c.39.39.9.59 1.41.59.51 0 1.02-.2 1.41-.59l7.78-7.78 2.81-2.81c.8-.78.8-2.07 0-2.86zM5.41 20L4 18.59l7.72-7.72 1.47 1.35L5.41 20z\"/>\n",
       "  </svg>\n",
       "      </button>\n",
       "      \n",
       "  <style>\n",
       "    .colab-df-container {\n",
       "      display:flex;\n",
       "      flex-wrap:wrap;\n",
       "      gap: 12px;\n",
       "    }\n",
       "\n",
       "    .colab-df-convert {\n",
       "      background-color: #E8F0FE;\n",
       "      border: none;\n",
       "      border-radius: 50%;\n",
       "      cursor: pointer;\n",
       "      display: none;\n",
       "      fill: #1967D2;\n",
       "      height: 32px;\n",
       "      padding: 0 0 0 0;\n",
       "      width: 32px;\n",
       "    }\n",
       "\n",
       "    .colab-df-convert:hover {\n",
       "      background-color: #E2EBFA;\n",
       "      box-shadow: 0px 1px 2px rgba(60, 64, 67, 0.3), 0px 1px 3px 1px rgba(60, 64, 67, 0.15);\n",
       "      fill: #174EA6;\n",
       "    }\n",
       "\n",
       "    [theme=dark] .colab-df-convert {\n",
       "      background-color: #3B4455;\n",
       "      fill: #D2E3FC;\n",
       "    }\n",
       "\n",
       "    [theme=dark] .colab-df-convert:hover {\n",
       "      background-color: #434B5C;\n",
       "      box-shadow: 0px 1px 3px 1px rgba(0, 0, 0, 0.15);\n",
       "      filter: drop-shadow(0px 1px 2px rgba(0, 0, 0, 0.3));\n",
       "      fill: #FFFFFF;\n",
       "    }\n",
       "  </style>\n",
       "\n",
       "      <script>\n",
       "        const buttonEl =\n",
       "          document.querySelector('#df-eeaf1437-918c-454b-88b3-e8b05fbd3bd9 button.colab-df-convert');\n",
       "        buttonEl.style.display =\n",
       "          google.colab.kernel.accessAllowed ? 'block' : 'none';\n",
       "\n",
       "        async function convertToInteractive(key) {\n",
       "          const element = document.querySelector('#df-eeaf1437-918c-454b-88b3-e8b05fbd3bd9');\n",
       "          const dataTable =\n",
       "            await google.colab.kernel.invokeFunction('convertToInteractive',\n",
       "                                                     [key], {});\n",
       "          if (!dataTable) return;\n",
       "\n",
       "          const docLinkHtml = 'Like what you see? Visit the ' +\n",
       "            '<a target=\"_blank\" href=https://colab.research.google.com/notebooks/data_table.ipynb>data table notebook</a>'\n",
       "            + ' to learn more about interactive tables.';\n",
       "          element.innerHTML = '';\n",
       "          dataTable['output_type'] = 'display_data';\n",
       "          await google.colab.output.renderOutput(dataTable, element);\n",
       "          const docLink = document.createElement('div');\n",
       "          docLink.innerHTML = docLinkHtml;\n",
       "          element.appendChild(docLink);\n",
       "        }\n",
       "      </script>\n",
       "    </div>\n",
       "  </div>\n",
       "  "
      ],
      "text/plain": [
       "                        LabelEncoder  TargetEncoder  CatBoostEncoder\n",
       "RandomForestClassifier      0.835126       0.835113         1.000000\n",
       "XGBClassifier               0.554817       0.553594         0.554218\n",
       "LGBMClassifier              0.575750       0.575239         0.584371\n",
       "CatBoostClassifier          0.603496       0.603446         0.619526"
      ]
     },
     "execution_count": 47,
     "metadata": {},
     "output_type": "execute_result"
    }
   ],
   "source": [
    "#train score\n",
    "pd.DataFrame(index=model_names, columns=encoder_names, data=train_values)"
   ]
  },
  {
   "cell_type": "code",
   "execution_count": null,
   "metadata": {
    "colab": {
     "base_uri": "https://localhost:8080/",
     "height": 175
    },
    "executionInfo": {
     "elapsed": 11,
     "status": "ok",
     "timestamp": 1662914826911,
     "user": {
      "displayName": "김아무개",
      "userId": "08862640890602732374"
     },
     "user_tz": -540
    },
    "id": "28UkT_NWEPqm",
    "outputId": "613d17d1-81b3-4a1b-a970-6e12725ab4fd"
   },
   "outputs": [
    {
     "data": {
      "text/html": [
       "\n",
       "  <div id=\"df-a1660d11-7f8e-41b9-8e8f-67a6c39ee839\">\n",
       "    <div class=\"colab-df-container\">\n",
       "      <div>\n",
       "<style scoped>\n",
       "    .dataframe tbody tr th:only-of-type {\n",
       "        vertical-align: middle;\n",
       "    }\n",
       "\n",
       "    .dataframe tbody tr th {\n",
       "        vertical-align: top;\n",
       "    }\n",
       "\n",
       "    .dataframe thead th {\n",
       "        text-align: right;\n",
       "    }\n",
       "</style>\n",
       "<table border=\"1\" class=\"dataframe\">\n",
       "  <thead>\n",
       "    <tr style=\"text-align: right;\">\n",
       "      <th></th>\n",
       "      <th>LabelEncoder</th>\n",
       "      <th>TargetEncoder</th>\n",
       "      <th>CatBoostEncoder</th>\n",
       "    </tr>\n",
       "  </thead>\n",
       "  <tbody>\n",
       "    <tr>\n",
       "      <th>RandomForestClassifier</th>\n",
       "      <td>0.517785</td>\n",
       "      <td>0.517174</td>\n",
       "      <td>0.520289</td>\n",
       "    </tr>\n",
       "    <tr>\n",
       "      <th>XGBClassifier</th>\n",
       "      <td>0.550300</td>\n",
       "      <td>0.550882</td>\n",
       "      <td>0.543547</td>\n",
       "    </tr>\n",
       "    <tr>\n",
       "      <th>LGBMClassifier</th>\n",
       "      <td>0.556762</td>\n",
       "      <td>0.556616</td>\n",
       "      <td>0.545468</td>\n",
       "    </tr>\n",
       "    <tr>\n",
       "      <th>CatBoostClassifier</th>\n",
       "      <td>0.554288</td>\n",
       "      <td>0.555045</td>\n",
       "      <td>0.543663</td>\n",
       "    </tr>\n",
       "  </tbody>\n",
       "</table>\n",
       "</div>\n",
       "      <button class=\"colab-df-convert\" onclick=\"convertToInteractive('df-a1660d11-7f8e-41b9-8e8f-67a6c39ee839')\"\n",
       "              title=\"Convert this dataframe to an interactive table.\"\n",
       "              style=\"display:none;\">\n",
       "        \n",
       "  <svg xmlns=\"http://www.w3.org/2000/svg\" height=\"24px\"viewBox=\"0 0 24 24\"\n",
       "       width=\"24px\">\n",
       "    <path d=\"M0 0h24v24H0V0z\" fill=\"none\"/>\n",
       "    <path d=\"M18.56 5.44l.94 2.06.94-2.06 2.06-.94-2.06-.94-.94-2.06-.94 2.06-2.06.94zm-11 1L8.5 8.5l.94-2.06 2.06-.94-2.06-.94L8.5 2.5l-.94 2.06-2.06.94zm10 10l.94 2.06.94-2.06 2.06-.94-2.06-.94-.94-2.06-.94 2.06-2.06.94z\"/><path d=\"M17.41 7.96l-1.37-1.37c-.4-.4-.92-.59-1.43-.59-.52 0-1.04.2-1.43.59L10.3 9.45l-7.72 7.72c-.78.78-.78 2.05 0 2.83L4 21.41c.39.39.9.59 1.41.59.51 0 1.02-.2 1.41-.59l7.78-7.78 2.81-2.81c.8-.78.8-2.07 0-2.86zM5.41 20L4 18.59l7.72-7.72 1.47 1.35L5.41 20z\"/>\n",
       "  </svg>\n",
       "      </button>\n",
       "      \n",
       "  <style>\n",
       "    .colab-df-container {\n",
       "      display:flex;\n",
       "      flex-wrap:wrap;\n",
       "      gap: 12px;\n",
       "    }\n",
       "\n",
       "    .colab-df-convert {\n",
       "      background-color: #E8F0FE;\n",
       "      border: none;\n",
       "      border-radius: 50%;\n",
       "      cursor: pointer;\n",
       "      display: none;\n",
       "      fill: #1967D2;\n",
       "      height: 32px;\n",
       "      padding: 0 0 0 0;\n",
       "      width: 32px;\n",
       "    }\n",
       "\n",
       "    .colab-df-convert:hover {\n",
       "      background-color: #E2EBFA;\n",
       "      box-shadow: 0px 1px 2px rgba(60, 64, 67, 0.3), 0px 1px 3px 1px rgba(60, 64, 67, 0.15);\n",
       "      fill: #174EA6;\n",
       "    }\n",
       "\n",
       "    [theme=dark] .colab-df-convert {\n",
       "      background-color: #3B4455;\n",
       "      fill: #D2E3FC;\n",
       "    }\n",
       "\n",
       "    [theme=dark] .colab-df-convert:hover {\n",
       "      background-color: #434B5C;\n",
       "      box-shadow: 0px 1px 3px 1px rgba(0, 0, 0, 0.15);\n",
       "      filter: drop-shadow(0px 1px 2px rgba(0, 0, 0, 0.3));\n",
       "      fill: #FFFFFF;\n",
       "    }\n",
       "  </style>\n",
       "\n",
       "      <script>\n",
       "        const buttonEl =\n",
       "          document.querySelector('#df-a1660d11-7f8e-41b9-8e8f-67a6c39ee839 button.colab-df-convert');\n",
       "        buttonEl.style.display =\n",
       "          google.colab.kernel.accessAllowed ? 'block' : 'none';\n",
       "\n",
       "        async function convertToInteractive(key) {\n",
       "          const element = document.querySelector('#df-a1660d11-7f8e-41b9-8e8f-67a6c39ee839');\n",
       "          const dataTable =\n",
       "            await google.colab.kernel.invokeFunction('convertToInteractive',\n",
       "                                                     [key], {});\n",
       "          if (!dataTable) return;\n",
       "\n",
       "          const docLinkHtml = 'Like what you see? Visit the ' +\n",
       "            '<a target=\"_blank\" href=https://colab.research.google.com/notebooks/data_table.ipynb>data table notebook</a>'\n",
       "            + ' to learn more about interactive tables.';\n",
       "          element.innerHTML = '';\n",
       "          dataTable['output_type'] = 'display_data';\n",
       "          await google.colab.output.renderOutput(dataTable, element);\n",
       "          const docLink = document.createElement('div');\n",
       "          docLink.innerHTML = docLinkHtml;\n",
       "          element.appendChild(docLink);\n",
       "        }\n",
       "      </script>\n",
       "    </div>\n",
       "  </div>\n",
       "  "
      ],
      "text/plain": [
       "                        LabelEncoder  TargetEncoder  CatBoostEncoder\n",
       "RandomForestClassifier      0.517785       0.517174         0.520289\n",
       "XGBClassifier               0.550300       0.550882         0.543547\n",
       "LGBMClassifier              0.556762       0.556616         0.545468\n",
       "CatBoostClassifier          0.554288       0.555045         0.543663"
      ]
     },
     "execution_count": 48,
     "metadata": {},
     "output_type": "execute_result"
    }
   ],
   "source": [
    "#test score\n",
    "pd.DataFrame(index=model_names, columns=encoder_names, data=test_values)"
   ]
  },
  {
   "cell_type": "markdown",
   "metadata": {
    "id": "Bw3GWXA5Xf_3"
   },
   "source": [
    "가장 성능이 준수했던 LabelEncoder의 LGBMClassifier를 하이퍼파라미터 튜닝하겠습니다."
   ]
  },
  {
   "cell_type": "markdown",
   "metadata": {
    "id": "BxCIsQdBM4Gc"
   },
   "source": [
    "## 튜닝 O"
   ]
  },
  {
   "cell_type": "markdown",
   "metadata": {
    "id": "gnSo0r_rUfje"
   },
   "source": [
    "### 랜덤서치"
   ]
  },
  {
   "cell_type": "code",
   "execution_count": null,
   "metadata": {
    "id": "6yRtWpo6XrAt"
   },
   "outputs": [],
   "source": [
    "label = LabelEncoder()\n",
    "train_y = label.fit_transform(y_train)\n",
    "test_y = label.transform(y_test)"
   ]
  },
  {
   "cell_type": "code",
   "execution_count": null,
   "metadata": {
    "colab": {
     "base_uri": "https://localhost:8080/",
     "height": 297
    },
    "executionInfo": {
     "elapsed": 1086,
     "status": "ok",
     "timestamp": 1662914827988,
     "user": {
      "displayName": "김아무개",
      "userId": "08862640890602732374"
     },
     "user_tz": -540
    },
    "id": "sgI-KGdAHcgz",
    "outputId": "930e60ae-7c30-4217-8736-818afe04f370"
   },
   "outputs": [
    {
     "name": "stderr",
     "output_type": "stream",
     "text": [
      "/usr/local/lib/python3.7/dist-packages/category_encoders/target_encoder.py:94: FutureWarning: Default parameter min_samples_leaf will change in version 2.6.See https://github.com/scikit-learn-contrib/category_encoders/issues/327\n",
      "  category=FutureWarning)\n",
      "/usr/local/lib/python3.7/dist-packages/category_encoders/target_encoder.py:99: FutureWarning: Default parameter smoothing will change in version 2.6.See https://github.com/scikit-learn-contrib/category_encoders/issues/327\n",
      "  category=FutureWarning)\n"
     ]
    },
    {
     "data": {
      "text/html": [
       "\n",
       "  <div id=\"df-10b8e63c-8e5c-47d1-a7ac-75c2ad85c500\">\n",
       "    <div class=\"colab-df-container\">\n",
       "      <div>\n",
       "<style scoped>\n",
       "    .dataframe tbody tr th:only-of-type {\n",
       "        vertical-align: middle;\n",
       "    }\n",
       "\n",
       "    .dataframe tbody tr th {\n",
       "        vertical-align: top;\n",
       "    }\n",
       "\n",
       "    .dataframe thead th {\n",
       "        text-align: right;\n",
       "    }\n",
       "</style>\n",
       "<table border=\"1\" class=\"dataframe\">\n",
       "  <thead>\n",
       "    <tr style=\"text-align: right;\">\n",
       "      <th></th>\n",
       "      <th>CKG_MTH_ACTO_NM</th>\n",
       "      <th>CKG_STA_ACTO_NM</th>\n",
       "      <th>CKG_MTRL_ACTO_NM</th>\n",
       "      <th>CKG_KND_ACTO_NM</th>\n",
       "      <th>CKG_INBUN_NM</th>\n",
       "      <th>CKG_TIME_NM</th>\n",
       "      <th>month</th>\n",
       "    </tr>\n",
       "  </thead>\n",
       "  <tbody>\n",
       "    <tr>\n",
       "      <th>99526</th>\n",
       "      <td>1.751519</td>\n",
       "      <td>1.957594</td>\n",
       "      <td>1.985903</td>\n",
       "      <td>1.957190</td>\n",
       "      <td>1.998079</td>\n",
       "      <td>2.086573</td>\n",
       "      <td>1.945423</td>\n",
       "    </tr>\n",
       "    <tr>\n",
       "      <th>59142</th>\n",
       "      <td>1.955291</td>\n",
       "      <td>1.957594</td>\n",
       "      <td>1.786471</td>\n",
       "      <td>2.042354</td>\n",
       "      <td>2.012340</td>\n",
       "      <td>2.065684</td>\n",
       "      <td>1.911857</td>\n",
       "    </tr>\n",
       "    <tr>\n",
       "      <th>2840</th>\n",
       "      <td>1.987437</td>\n",
       "      <td>1.975501</td>\n",
       "      <td>2.047293</td>\n",
       "      <td>2.017972</td>\n",
       "      <td>1.861337</td>\n",
       "      <td>2.086573</td>\n",
       "      <td>1.887894</td>\n",
       "    </tr>\n",
       "    <tr>\n",
       "      <th>2223</th>\n",
       "      <td>1.987437</td>\n",
       "      <td>1.957594</td>\n",
       "      <td>2.207930</td>\n",
       "      <td>2.048510</td>\n",
       "      <td>1.998079</td>\n",
       "      <td>2.086573</td>\n",
       "      <td>1.937414</td>\n",
       "    </tr>\n",
       "    <tr>\n",
       "      <th>81789</th>\n",
       "      <td>1.804643</td>\n",
       "      <td>1.957594</td>\n",
       "      <td>1.884389</td>\n",
       "      <td>1.880705</td>\n",
       "      <td>1.861337</td>\n",
       "      <td>1.852831</td>\n",
       "      <td>1.945780</td>\n",
       "    </tr>\n",
       "  </tbody>\n",
       "</table>\n",
       "</div>\n",
       "      <button class=\"colab-df-convert\" onclick=\"convertToInteractive('df-10b8e63c-8e5c-47d1-a7ac-75c2ad85c500')\"\n",
       "              title=\"Convert this dataframe to an interactive table.\"\n",
       "              style=\"display:none;\">\n",
       "        \n",
       "  <svg xmlns=\"http://www.w3.org/2000/svg\" height=\"24px\"viewBox=\"0 0 24 24\"\n",
       "       width=\"24px\">\n",
       "    <path d=\"M0 0h24v24H0V0z\" fill=\"none\"/>\n",
       "    <path d=\"M18.56 5.44l.94 2.06.94-2.06 2.06-.94-2.06-.94-.94-2.06-.94 2.06-2.06.94zm-11 1L8.5 8.5l.94-2.06 2.06-.94-2.06-.94L8.5 2.5l-.94 2.06-2.06.94zm10 10l.94 2.06.94-2.06 2.06-.94-2.06-.94-.94-2.06-.94 2.06-2.06.94z\"/><path d=\"M17.41 7.96l-1.37-1.37c-.4-.4-.92-.59-1.43-.59-.52 0-1.04.2-1.43.59L10.3 9.45l-7.72 7.72c-.78.78-.78 2.05 0 2.83L4 21.41c.39.39.9.59 1.41.59.51 0 1.02-.2 1.41-.59l7.78-7.78 2.81-2.81c.8-.78.8-2.07 0-2.86zM5.41 20L4 18.59l7.72-7.72 1.47 1.35L5.41 20z\"/>\n",
       "  </svg>\n",
       "      </button>\n",
       "      \n",
       "  <style>\n",
       "    .colab-df-container {\n",
       "      display:flex;\n",
       "      flex-wrap:wrap;\n",
       "      gap: 12px;\n",
       "    }\n",
       "\n",
       "    .colab-df-convert {\n",
       "      background-color: #E8F0FE;\n",
       "      border: none;\n",
       "      border-radius: 50%;\n",
       "      cursor: pointer;\n",
       "      display: none;\n",
       "      fill: #1967D2;\n",
       "      height: 32px;\n",
       "      padding: 0 0 0 0;\n",
       "      width: 32px;\n",
       "    }\n",
       "\n",
       "    .colab-df-convert:hover {\n",
       "      background-color: #E2EBFA;\n",
       "      box-shadow: 0px 1px 2px rgba(60, 64, 67, 0.3), 0px 1px 3px 1px rgba(60, 64, 67, 0.15);\n",
       "      fill: #174EA6;\n",
       "    }\n",
       "\n",
       "    [theme=dark] .colab-df-convert {\n",
       "      background-color: #3B4455;\n",
       "      fill: #D2E3FC;\n",
       "    }\n",
       "\n",
       "    [theme=dark] .colab-df-convert:hover {\n",
       "      background-color: #434B5C;\n",
       "      box-shadow: 0px 1px 3px 1px rgba(0, 0, 0, 0.15);\n",
       "      filter: drop-shadow(0px 1px 2px rgba(0, 0, 0, 0.3));\n",
       "      fill: #FFFFFF;\n",
       "    }\n",
       "  </style>\n",
       "\n",
       "      <script>\n",
       "        const buttonEl =\n",
       "          document.querySelector('#df-10b8e63c-8e5c-47d1-a7ac-75c2ad85c500 button.colab-df-convert');\n",
       "        buttonEl.style.display =\n",
       "          google.colab.kernel.accessAllowed ? 'block' : 'none';\n",
       "\n",
       "        async function convertToInteractive(key) {\n",
       "          const element = document.querySelector('#df-10b8e63c-8e5c-47d1-a7ac-75c2ad85c500');\n",
       "          const dataTable =\n",
       "            await google.colab.kernel.invokeFunction('convertToInteractive',\n",
       "                                                     [key], {});\n",
       "          if (!dataTable) return;\n",
       "\n",
       "          const docLinkHtml = 'Like what you see? Visit the ' +\n",
       "            '<a target=\"_blank\" href=https://colab.research.google.com/notebooks/data_table.ipynb>data table notebook</a>'\n",
       "            + ' to learn more about interactive tables.';\n",
       "          element.innerHTML = '';\n",
       "          dataTable['output_type'] = 'display_data';\n",
       "          await google.colab.output.renderOutput(dataTable, element);\n",
       "          const docLink = document.createElement('div');\n",
       "          docLink.innerHTML = docLinkHtml;\n",
       "          element.appendChild(docLink);\n",
       "        }\n",
       "      </script>\n",
       "    </div>\n",
       "  </div>\n",
       "  "
      ],
      "text/plain": [
       "       CKG_MTH_ACTO_NM  CKG_STA_ACTO_NM  CKG_MTRL_ACTO_NM  CKG_KND_ACTO_NM  \\\n",
       "99526         1.751519         1.957594          1.985903         1.957190   \n",
       "59142         1.955291         1.957594          1.786471         2.042354   \n",
       "2840          1.987437         1.975501          2.047293         2.017972   \n",
       "2223          1.987437         1.957594          2.207930         2.048510   \n",
       "81789         1.804643         1.957594          1.884389         1.880705   \n",
       "\n",
       "       CKG_INBUN_NM  CKG_TIME_NM     month  \n",
       "99526      1.998079     2.086573  1.945423  \n",
       "59142      2.012340     2.065684  1.911857  \n",
       "2840       1.861337     2.086573  1.887894  \n",
       "2223       1.998079     2.086573  1.937414  \n",
       "81789      1.861337     1.852831  1.945780  "
      ]
     },
     "execution_count": 50,
     "metadata": {},
     "output_type": "execute_result"
    }
   ],
   "source": [
    "encoder = TargetEncoder()\n",
    "for column in columns:\n",
    "  train_X[column] = encoder.fit_transform(X_train[column], train_y)\n",
    "  test_X[column] = encoder.transform(X_test[column])\n",
    "\n",
    "train_X.head()"
   ]
  },
  {
   "cell_type": "code",
   "execution_count": 16,
   "metadata": {
    "ExecuteTime": {
     "end_time": "2022-09-12T13:57:03.027724Z",
     "start_time": "2022-09-12T13:57:03.022725Z"
    }
   },
   "outputs": [
    {
     "name": "stdout",
     "output_type": "stream",
     "text": [
      "3.3.2\n"
     ]
    }
   ],
   "source": [
    "import lightgbm\n",
    "print(lightgbm.__version__)"
   ]
  },
  {
   "cell_type": "code",
   "execution_count": 18,
   "metadata": {
    "ExecuteTime": {
     "end_time": "2022-09-12T13:57:19.897301Z",
     "start_time": "2022-09-12T13:57:19.793304Z"
    }
   },
   "outputs": [
    {
     "name": "stdout",
     "output_type": "stream",
     "text": [
      "Python 3.8.13\n"
     ]
    }
   ],
   "source": [
    "!python --version"
   ]
  },
  {
   "cell_type": "code",
   "execution_count": 19,
   "metadata": {
    "ExecuteTime": {
     "end_time": "2022-09-12T13:59:44.047379Z",
     "start_time": "2022-09-12T13:57:25.410231Z"
    },
    "colab": {
     "base_uri": "https://localhost:8080/"
    },
    "executionInfo": {
     "elapsed": 1098223,
     "status": "ok",
     "timestamp": 1662917398252,
     "user": {
      "displayName": "김아무개",
      "userId": "08862640890602732374"
     },
     "user_tz": -540
    },
    "id": "xX6tNLIvYUB_",
    "outputId": "f30bc2a4-11df-43e0-f261-1cc46e833f87"
   },
   "outputs": [
    {
     "name": "stderr",
     "output_type": "stream",
     "text": [
      "C:\\Users\\User\\anaconda3\\envs\\modeling\\lib\\site-packages\\sklearn\\model_selection\\_validation.py:378: FitFailedWarning: \n",
      "385 fits failed out of a total of 500.\n",
      "The score on these train-test partitions for these parameters will be set to nan.\n",
      "If these failures are not expected, you can try to debug them by setting error_score='raise'.\n",
      "\n",
      "Below are more details about the failures:\n",
      "--------------------------------------------------------------------------------\n",
      "130 fits failed with the following error:\n",
      "Traceback (most recent call last):\n",
      "  File \"C:\\Users\\User\\anaconda3\\envs\\modeling\\lib\\site-packages\\sklearn\\model_selection\\_validation.py\", line 686, in _fit_and_score\n",
      "    estimator.fit(X_train, y_train, **fit_params)\n",
      "  File \"C:\\Users\\User\\anaconda3\\envs\\modeling\\lib\\site-packages\\lightgbm\\sklearn.py\", line 967, in fit\n",
      "    super().fit(X, _y, sample_weight=sample_weight, init_score=init_score, eval_set=valid_sets,\n",
      "  File \"C:\\Users\\User\\anaconda3\\envs\\modeling\\lib\\site-packages\\lightgbm\\sklearn.py\", line 748, in fit\n",
      "    self._Booster = train(\n",
      "  File \"C:\\Users\\User\\anaconda3\\envs\\modeling\\lib\\site-packages\\lightgbm\\engine.py\", line 271, in train\n",
      "    booster = Booster(params=params, train_set=train_set)\n",
      "  File \"C:\\Users\\User\\anaconda3\\envs\\modeling\\lib\\site-packages\\lightgbm\\basic.py\", line 2605, in __init__\n",
      "    train_set.construct()\n",
      "  File \"C:\\Users\\User\\anaconda3\\envs\\modeling\\lib\\site-packages\\lightgbm\\basic.py\", line 1815, in construct\n",
      "    self._lazy_init(self.data, label=self.label,\n",
      "  File \"C:\\Users\\User\\anaconda3\\envs\\modeling\\lib\\site-packages\\lightgbm\\basic.py\", line 1538, in _lazy_init\n",
      "    self.__init_from_np2d(data, params_str, ref_dataset)\n",
      "  File \"C:\\Users\\User\\anaconda3\\envs\\modeling\\lib\\site-packages\\lightgbm\\basic.py\", line 1659, in __init_from_np2d\n",
      "    _safe_call(_LIB.LGBM_DatasetCreateFromMat(\n",
      "  File \"C:\\Users\\User\\anaconda3\\envs\\modeling\\lib\\site-packages\\lightgbm\\basic.py\", line 125, in _safe_call\n",
      "    raise LightGBMError(_LIB.LGBM_GetLastError().decode('utf-8'))\n",
      "lightgbm.basic.LightGBMError: Unknown boosting type gdbt\n",
      "\n",
      "--------------------------------------------------------------------------------\n",
      "105 fits failed with the following error:\n",
      "Traceback (most recent call last):\n",
      "  File \"C:\\Users\\User\\anaconda3\\envs\\modeling\\lib\\site-packages\\sklearn\\model_selection\\_validation.py\", line 686, in _fit_and_score\n",
      "    estimator.fit(X_train, y_train, **fit_params)\n",
      "  File \"C:\\Users\\User\\anaconda3\\envs\\modeling\\lib\\site-packages\\lightgbm\\sklearn.py\", line 967, in fit\n",
      "    super().fit(X, _y, sample_weight=sample_weight, init_score=init_score, eval_set=valid_sets,\n",
      "  File \"C:\\Users\\User\\anaconda3\\envs\\modeling\\lib\\site-packages\\lightgbm\\sklearn.py\", line 748, in fit\n",
      "    self._Booster = train(\n",
      "  File \"C:\\Users\\User\\anaconda3\\envs\\modeling\\lib\\site-packages\\lightgbm\\engine.py\", line 302, in train\n",
      "    cb(callback.CallbackEnv(model=booster,\n",
      "  File \"C:\\Users\\User\\anaconda3\\envs\\modeling\\lib\\site-packages\\lightgbm\\callback.py\", line 256, in _callback\n",
      "    _init(env)\n",
      "  File \"C:\\Users\\User\\anaconda3\\envs\\modeling\\lib\\site-packages\\lightgbm\\callback.py\", line 226, in _init\n",
      "    raise ValueError('For early stopping, '\n",
      "ValueError: For early stopping, at least one dataset and eval metric is required for evaluation\n",
      "\n",
      "--------------------------------------------------------------------------------\n",
      "150 fits failed with the following error:\n",
      "Traceback (most recent call last):\n",
      "  File \"C:\\Users\\User\\anaconda3\\envs\\modeling\\lib\\site-packages\\sklearn\\model_selection\\_validation.py\", line 686, in _fit_and_score\n",
      "    estimator.fit(X_train, y_train, **fit_params)\n",
      "  File \"C:\\Users\\User\\anaconda3\\envs\\modeling\\lib\\site-packages\\lightgbm\\sklearn.py\", line 967, in fit\n",
      "    super().fit(X, _y, sample_weight=sample_weight, init_score=init_score, eval_set=valid_sets,\n",
      "  File \"C:\\Users\\User\\anaconda3\\envs\\modeling\\lib\\site-packages\\lightgbm\\sklearn.py\", line 748, in fit\n",
      "    self._Booster = train(\n",
      "  File \"C:\\Users\\User\\anaconda3\\envs\\modeling\\lib\\site-packages\\lightgbm\\engine.py\", line 271, in train\n",
      "    booster = Booster(params=params, train_set=train_set)\n",
      "  File \"C:\\Users\\User\\anaconda3\\envs\\modeling\\lib\\site-packages\\lightgbm\\basic.py\", line 2610, in __init__\n",
      "    _safe_call(_LIB.LGBM_BoosterCreate(\n",
      "  File \"C:\\Users\\User\\anaconda3\\envs\\modeling\\lib\\site-packages\\lightgbm\\basic.py\", line 125, in _safe_call\n",
      "    raise LightGBMError(_LIB.LGBM_GetLastError().decode('utf-8'))\n",
      "lightgbm.basic.LightGBMError: Check failed: config->bagging_freq > 0 && config->bagging_fraction < 1.0f && config->bagging_fraction > 0.0f at d:\\a\\1\\s\\python-package\\compile\\src\\boosting\\rf.hpp, line 35 .\n",
      "\n",
      "\n",
      "  warnings.warn(some_fits_failed_message, FitFailedWarning)\n",
      "C:\\Users\\User\\anaconda3\\envs\\modeling\\lib\\site-packages\\sklearn\\model_selection\\_search.py:953: UserWarning: One or more of the test scores are non-finite: [       nan        nan        nan        nan        nan        nan\n",
      "        nan        nan        nan        nan 0.55277074        nan\n",
      "        nan        nan        nan        nan        nan        nan\n",
      "        nan        nan        nan        nan        nan        nan\n",
      "        nan        nan        nan        nan        nan        nan\n",
      " 0.54618374        nan 0.54437479 0.55230915        nan        nan\n",
      "        nan        nan 0.53360853        nan 0.55525332        nan\n",
      "        nan        nan 0.46933556        nan        nan 0.5424661\n",
      "        nan        nan 0.53360853 0.54269062 0.54877861        nan\n",
      " 0.54181735        nan        nan        nan        nan        nan\n",
      "        nan        nan        nan        nan        nan        nan\n",
      "        nan        nan        nan 0.5431772         nan        nan\n",
      "        nan 0.46941041        nan 0.55530325        nan        nan\n",
      " 0.55550286        nan        nan        nan        nan        nan\n",
      "        nan 0.55283309        nan        nan 0.54106887        nan\n",
      " 0.4696724  0.53515549 0.54892832 0.540994          nan        nan\n",
      "        nan 0.46933556        nan        nan]\n",
      "  warnings.warn(\n",
      "C:\\Users\\User\\anaconda3\\envs\\modeling\\lib\\site-packages\\sklearn\\model_selection\\_search.py:953: UserWarning: One or more of the train scores are non-finite: [       nan        nan        nan        nan        nan        nan\n",
      "        nan        nan        nan        nan 0.56145363        nan\n",
      "        nan        nan        nan        nan        nan        nan\n",
      "        nan        nan        nan        nan        nan        nan\n",
      "        nan        nan        nan        nan        nan        nan\n",
      " 0.54877866        nan 0.54678572 0.56075501        nan        nan\n",
      "        nan        nan 0.53491854        nan 0.57288106        nan\n",
      "        nan        nan 0.46933556        nan        nan 0.54653933\n",
      "        nan        nan 0.53491854 0.54808004 0.55404638        nan\n",
      " 0.54315851        nan        nan        nan        nan        nan\n",
      "        nan        nan        nan        nan        nan        nan\n",
      "        nan        nan        nan 0.54890964        nan        nan\n",
      "        nan 0.46946655        nan 0.57308066        nan        nan\n",
      " 0.57761858        nan        nan        nan        nan        nan\n",
      "        nan 0.56231131        nan        nan 0.54394758        nan\n",
      " 0.46976908 0.53670563 0.55382494 0.54547581        nan        nan\n",
      "        nan 0.46933556        nan        nan]\n",
      "  warnings.warn(\n",
      "C:\\Users\\User\\anaconda3\\envs\\modeling\\lib\\site-packages\\lightgbm\\callback.py:223: UserWarning: Early stopping is not available in dart mode\n",
      "  _log_warning('Early stopping is not available in dart mode')\n"
     ]
    },
    {
     "name": "stdout",
     "output_type": "stream",
     "text": [
      "[LightGBM] [Warning] Unknown parameter: n_esimators\n",
      "[LightGBM] [Warning] boosting is set=dart, boosting_type=gbdt will be ignored. Current value: boosting=dart\n"
     ]
    },
    {
     "data": {
      "text/html": [
       "<style>#sk-container-id-1 {color: black;background-color: white;}#sk-container-id-1 pre{padding: 0;}#sk-container-id-1 div.sk-toggleable {background-color: white;}#sk-container-id-1 label.sk-toggleable__label {cursor: pointer;display: block;width: 100%;margin-bottom: 0;padding: 0.3em;box-sizing: border-box;text-align: center;}#sk-container-id-1 label.sk-toggleable__label-arrow:before {content: \"▸\";float: left;margin-right: 0.25em;color: #696969;}#sk-container-id-1 label.sk-toggleable__label-arrow:hover:before {color: black;}#sk-container-id-1 div.sk-estimator:hover label.sk-toggleable__label-arrow:before {color: black;}#sk-container-id-1 div.sk-toggleable__content {max-height: 0;max-width: 0;overflow: hidden;text-align: left;background-color: #f0f8ff;}#sk-container-id-1 div.sk-toggleable__content pre {margin: 0.2em;color: black;border-radius: 0.25em;background-color: #f0f8ff;}#sk-container-id-1 input.sk-toggleable__control:checked~div.sk-toggleable__content {max-height: 200px;max-width: 100%;overflow: auto;}#sk-container-id-1 input.sk-toggleable__control:checked~label.sk-toggleable__label-arrow:before {content: \"▾\";}#sk-container-id-1 div.sk-estimator input.sk-toggleable__control:checked~label.sk-toggleable__label {background-color: #d4ebff;}#sk-container-id-1 div.sk-label input.sk-toggleable__control:checked~label.sk-toggleable__label {background-color: #d4ebff;}#sk-container-id-1 input.sk-hidden--visually {border: 0;clip: rect(1px 1px 1px 1px);clip: rect(1px, 1px, 1px, 1px);height: 1px;margin: -1px;overflow: hidden;padding: 0;position: absolute;width: 1px;}#sk-container-id-1 div.sk-estimator {font-family: monospace;background-color: #f0f8ff;border: 1px dotted black;border-radius: 0.25em;box-sizing: border-box;margin-bottom: 0.5em;}#sk-container-id-1 div.sk-estimator:hover {background-color: #d4ebff;}#sk-container-id-1 div.sk-parallel-item::after {content: \"\";width: 100%;border-bottom: 1px solid gray;flex-grow: 1;}#sk-container-id-1 div.sk-label:hover label.sk-toggleable__label {background-color: #d4ebff;}#sk-container-id-1 div.sk-serial::before {content: \"\";position: absolute;border-left: 1px solid gray;box-sizing: border-box;top: 0;bottom: 0;left: 50%;z-index: 0;}#sk-container-id-1 div.sk-serial {display: flex;flex-direction: column;align-items: center;background-color: white;padding-right: 0.2em;padding-left: 0.2em;position: relative;}#sk-container-id-1 div.sk-item {position: relative;z-index: 1;}#sk-container-id-1 div.sk-parallel {display: flex;align-items: stretch;justify-content: center;background-color: white;position: relative;}#sk-container-id-1 div.sk-item::before, #sk-container-id-1 div.sk-parallel-item::before {content: \"\";position: absolute;border-left: 1px solid gray;box-sizing: border-box;top: 0;bottom: 0;left: 50%;z-index: -1;}#sk-container-id-1 div.sk-parallel-item {display: flex;flex-direction: column;z-index: 1;position: relative;background-color: white;}#sk-container-id-1 div.sk-parallel-item:first-child::after {align-self: flex-end;width: 50%;}#sk-container-id-1 div.sk-parallel-item:last-child::after {align-self: flex-start;width: 50%;}#sk-container-id-1 div.sk-parallel-item:only-child::after {width: 0;}#sk-container-id-1 div.sk-dashed-wrapped {border: 1px dashed gray;margin: 0 0.4em 0.5em 0.4em;box-sizing: border-box;padding-bottom: 0.4em;background-color: white;}#sk-container-id-1 div.sk-label label {font-family: monospace;font-weight: bold;display: inline-block;line-height: 1.2em;}#sk-container-id-1 div.sk-label-container {text-align: center;}#sk-container-id-1 div.sk-container {/* jupyter's `normalize.less` sets `[hidden] { display: none; }` but bootstrap.min.css set `[hidden] { display: none !important; }` so we also need the `!important` here to be able to override the default hidden behavior on the sphinx rendered scikit-learn.org. See: https://github.com/scikit-learn/scikit-learn/issues/21755 */display: inline-block !important;position: relative;}#sk-container-id-1 div.sk-text-repr-fallback {display: none;}</style><div id=\"sk-container-id-1\" class=\"sk-top-container\"><div class=\"sk-text-repr-fallback\"><pre>RandomizedSearchCV(cv=5,\n",
       "                   estimator=LGBMClassifier(application=&#x27;multiclass&#x27;,\n",
       "                                            metric=&#x27;multi_logloss&#x27;,\n",
       "                                            random_state=42),\n",
       "                   n_iter=100, n_jobs=-1,\n",
       "                   param_distributions={&#x27;boosting&#x27;: [&#x27;gdbt&#x27;, &#x27;rf&#x27;, &#x27;dart&#x27;,\n",
       "                                                     &#x27;goss&#x27;],\n",
       "                                        &#x27;early_stopping_round&#x27;: [100],\n",
       "                                        &#x27;learning_rate&#x27;: [0.1, 0.05, 0.01,\n",
       "                                                          0.001],\n",
       "                                        &#x27;max_depth&#x27;: array([3, 4, 5, 6, 7, 8, 9]),\n",
       "                                        &#x27;min_child_samples&#x27;: array([10, 11, 12, 13, 14, 15, 16, 17, 18, 19, 20, 21, 22, 23, 24, 25, 26,\n",
       "       27, 28, 29]),\n",
       "                                        &#x27;n_esimators&#x27;: array([ 500,  600,  700,  800,  900, 1000, 1100, 1200, 1300, 1400, 1500,\n",
       "       1600, 1700, 1800, 1900]),\n",
       "                                        &#x27;num_leaves&#x27;: array([25, 26, 27, 28, 29, 30, 31, 32, 33, 34, 35, 36, 37, 38, 39, 40, 41,\n",
       "       42, 43, 44, 45, 46, 47, 48, 49])},\n",
       "                   random_state=42, return_train_score=True,\n",
       "                   scoring=&#x27;accuracy&#x27;)</pre><b>In a Jupyter environment, please rerun this cell to show the HTML representation or trust the notebook. <br />On GitHub, the HTML representation is unable to render, please try loading this page with nbviewer.org.</b></div><div class=\"sk-container\" hidden><div class=\"sk-item sk-dashed-wrapped\"><div class=\"sk-label-container\"><div class=\"sk-label sk-toggleable\"><input class=\"sk-toggleable__control sk-hidden--visually\" id=\"sk-estimator-id-1\" type=\"checkbox\" ><label for=\"sk-estimator-id-1\" class=\"sk-toggleable__label sk-toggleable__label-arrow\">RandomizedSearchCV</label><div class=\"sk-toggleable__content\"><pre>RandomizedSearchCV(cv=5,\n",
       "                   estimator=LGBMClassifier(application=&#x27;multiclass&#x27;,\n",
       "                                            metric=&#x27;multi_logloss&#x27;,\n",
       "                                            random_state=42),\n",
       "                   n_iter=100, n_jobs=-1,\n",
       "                   param_distributions={&#x27;boosting&#x27;: [&#x27;gdbt&#x27;, &#x27;rf&#x27;, &#x27;dart&#x27;,\n",
       "                                                     &#x27;goss&#x27;],\n",
       "                                        &#x27;early_stopping_round&#x27;: [100],\n",
       "                                        &#x27;learning_rate&#x27;: [0.1, 0.05, 0.01,\n",
       "                                                          0.001],\n",
       "                                        &#x27;max_depth&#x27;: array([3, 4, 5, 6, 7, 8, 9]),\n",
       "                                        &#x27;min_child_samples&#x27;: array([10, 11, 12, 13, 14, 15, 16, 17, 18, 19, 20, 21, 22, 23, 24, 25, 26,\n",
       "       27, 28, 29]),\n",
       "                                        &#x27;n_esimators&#x27;: array([ 500,  600,  700,  800,  900, 1000, 1100, 1200, 1300, 1400, 1500,\n",
       "       1600, 1700, 1800, 1900]),\n",
       "                                        &#x27;num_leaves&#x27;: array([25, 26, 27, 28, 29, 30, 31, 32, 33, 34, 35, 36, 37, 38, 39, 40, 41,\n",
       "       42, 43, 44, 45, 46, 47, 48, 49])},\n",
       "                   random_state=42, return_train_score=True,\n",
       "                   scoring=&#x27;accuracy&#x27;)</pre></div></div></div><div class=\"sk-parallel\"><div class=\"sk-parallel-item\"><div class=\"sk-item\"><div class=\"sk-label-container\"><div class=\"sk-label sk-toggleable\"><input class=\"sk-toggleable__control sk-hidden--visually\" id=\"sk-estimator-id-2\" type=\"checkbox\" ><label for=\"sk-estimator-id-2\" class=\"sk-toggleable__label sk-toggleable__label-arrow\">estimator: LGBMClassifier</label><div class=\"sk-toggleable__content\"><pre>LGBMClassifier(application=&#x27;multiclass&#x27;, metric=&#x27;multi_logloss&#x27;,\n",
       "               random_state=42)</pre></div></div></div><div class=\"sk-serial\"><div class=\"sk-item\"><div class=\"sk-estimator sk-toggleable\"><input class=\"sk-toggleable__control sk-hidden--visually\" id=\"sk-estimator-id-3\" type=\"checkbox\" ><label for=\"sk-estimator-id-3\" class=\"sk-toggleable__label sk-toggleable__label-arrow\">LGBMClassifier</label><div class=\"sk-toggleable__content\"><pre>LGBMClassifier(application=&#x27;multiclass&#x27;, metric=&#x27;multi_logloss&#x27;,\n",
       "               random_state=42)</pre></div></div></div></div></div></div></div></div></div></div>"
      ],
      "text/plain": [
       "RandomizedSearchCV(cv=5,\n",
       "                   estimator=LGBMClassifier(application='multiclass',\n",
       "                                            metric='multi_logloss',\n",
       "                                            random_state=42),\n",
       "                   n_iter=100, n_jobs=-1,\n",
       "                   param_distributions={'boosting': ['gdbt', 'rf', 'dart',\n",
       "                                                     'goss'],\n",
       "                                        'early_stopping_round': [100],\n",
       "                                        'learning_rate': [0.1, 0.05, 0.01,\n",
       "                                                          0.001],\n",
       "                                        'max_depth': array([3, 4, 5, 6, 7, 8, 9]),\n",
       "                                        'min_child_samples': array([10, 11, 12, 13, 14, 15, 16, 17, 18, 19, 20, 21, 22, 23, 24, 25, 26,\n",
       "       27, 28, 29]),\n",
       "                                        'n_esimators': array([ 500,  600,  700,  800,  900, 1000, 1100, 1200, 1300, 1400, 1500,\n",
       "       1600, 1700, 1800, 1900]),\n",
       "                                        'num_leaves': array([25, 26, 27, 28, 29, 30, 31, 32, 33, 34, 35, 36, 37, 38, 39, 40, 41,\n",
       "       42, 43, 44, 45, 46, 47, 48, 49])},\n",
       "                   random_state=42, return_train_score=True,\n",
       "                   scoring='accuracy')"
      ]
     },
     "execution_count": 19,
     "metadata": {},
     "output_type": "execute_result"
    }
   ],
   "source": [
    "from sklearn.pipeline import Pipeline\n",
    "from sklearn.model_selection import RandomizedSearchCV\n",
    "from sklearn.compose import ColumnTransformer\n",
    "\n",
    "seed= 42\n",
    "light = LGBMClassifier(n_jobs=-1,application='multiclass', metric ='multi_logloss', random_state=seed)\n",
    "\n",
    "encoder = LabelEncoder()\n",
    "for column in X_train.columns:\n",
    "  X_train[column] = encoder.fit_transform(X_train[column])\n",
    "  X_test[column] = encoder.transform(X_test[column])\n",
    "\n",
    "# pipe = Pipeline([\n",
    "#     ('encoder', encoder),\n",
    "#     ('model', light)\n",
    "# ])\n",
    "\n",
    "params = {\n",
    "    # 반복 수행하려는 트리의 개수\n",
    "    'n_esimators' : np.arange(500, 2000, 100),\n",
    "    # 학습률\n",
    "    'learning_rate' : [0.1, 0.05, 0.01, 0.001],\n",
    "    # 트리의 깊이\n",
    "    'max_depth' : np.arange(3, 10, 1),\n",
    "    # 트리 생성하는 알고리즘\n",
    "    'boosting' : ['gdbt','rf','dart','goss'],\n",
    "    # 리프노드가 되기한 최소한의 수\n",
    "    'min_child_samples' : np.arange(10, 30, 1),\n",
    "    # 하나의 트리가 가질 수 있는 최대 리프의 수\n",
    "    'num_leaves' : np.arange(25, 50, 1),\n",
    "    'early_stopping_round' : [100]\n",
    "}\n",
    "\n",
    "clf = RandomizedSearchCV(light, param_distributions= params, n_jobs=-1, scoring='accuracy',cv=5, n_iter=100, random_state=seed, return_train_score=True)\n",
    "clf.fit(X_train, y_train)"
   ]
  },
  {
   "cell_type": "code",
   "execution_count": 20,
   "metadata": {
    "ExecuteTime": {
     "end_time": "2022-09-12T13:59:44.198388Z",
     "start_time": "2022-09-12T13:59:44.186381Z"
    },
    "colab": {
     "base_uri": "https://localhost:8080/"
    },
    "executionInfo": {
     "elapsed": 19,
     "status": "ok",
     "timestamp": 1662917398252,
     "user": {
      "displayName": "김아무개",
      "userId": "08862640890602732374"
     },
     "user_tz": -540
    },
    "id": "JiypbOOJsC4c",
    "outputId": "81688cbe-d5e9-41a2-9cb5-bd50c273bd45"
   },
   "outputs": [
    {
     "data": {
      "text/plain": [
       "{'num_leaves': 48,\n",
       " 'n_esimators': 500,\n",
       " 'min_child_samples': 16,\n",
       " 'max_depth': 8,\n",
       " 'learning_rate': 0.1,\n",
       " 'early_stopping_round': 100,\n",
       " 'boosting': 'dart'}"
      ]
     },
     "execution_count": 20,
     "metadata": {},
     "output_type": "execute_result"
    }
   ],
   "source": [
    "clf.best_params_"
   ]
  },
  {
   "cell_type": "code",
   "execution_count": 21,
   "metadata": {
    "ExecuteTime": {
     "end_time": "2022-09-12T13:59:44.333379Z",
     "start_time": "2022-09-12T13:59:44.320382Z"
    },
    "colab": {
     "base_uri": "https://localhost:8080/"
    },
    "executionInfo": {
     "elapsed": 4,
     "status": "ok",
     "timestamp": 1662917398252,
     "user": {
      "displayName": "김아무개",
      "userId": "08862640890602732374"
     },
     "user_tz": -540
    },
    "id": "xbGX6q77wiaG",
    "outputId": "894d5d17-800f-48eb-cb7a-bf715f4a8bda"
   },
   "outputs": [
    {
     "data": {
      "text/plain": [
       "0.5555028572696787"
      ]
     },
     "execution_count": 21,
     "metadata": {},
     "output_type": "execute_result"
    }
   ],
   "source": [
    "clf.best_score_"
   ]
  },
  {
   "cell_type": "code",
   "execution_count": 22,
   "metadata": {
    "ExecuteTime": {
     "end_time": "2022-09-12T13:59:44.651377Z",
     "start_time": "2022-09-12T13:59:44.441381Z"
    },
    "colab": {
     "base_uri": "https://localhost:8080/"
    },
    "executionInfo": {
     "elapsed": 916,
     "status": "ok",
     "timestamp": 1662918098838,
     "user": {
      "displayName": "김아무개",
      "userId": "08862640890602732374"
     },
     "user_tz": -540
    },
    "id": "ENZHGz7urULs",
    "outputId": "9f432e8e-7145-459b-a145-05c0410eb3eb"
   },
   "outputs": [
    {
     "data": {
      "text/plain": [
       "0.5575769924899575"
      ]
     },
     "execution_count": 22,
     "metadata": {},
     "output_type": "execute_result"
    }
   ],
   "source": [
    "pred = clf.predict(X_test)\n",
    "# predict = label.inverse_transform(pred)\n",
    "accuracy_score(y_test, pred)"
   ]
  },
  {
   "cell_type": "markdown",
   "metadata": {
    "id": "9orBXNEAUjek"
   },
   "source": [
    "### 그리드 서치"
   ]
  },
  {
   "cell_type": "code",
   "execution_count": null,
   "metadata": {
    "ExecuteTime": {
     "start_time": "2022-09-12T03:46:05.404Z"
    },
    "id": "1u5RM7UJU21t"
   },
   "outputs": [
    {
     "name": "stdout",
     "output_type": "stream",
     "text": [
      "Fitting 5 folds for each of 11520 candidates, totalling 57600 fits\n"
     ]
    }
   ],
   "source": [
    "from sklearn.pipeline import Pipeline\n",
    "from sklearn.model_selection import GridSearchCV\n",
    "from sklearn.compose import ColumnTransformer\n",
    "import warnings\n",
    "warnings.filterwarnings('ignore')\n",
    "seed= 42\n",
    "light = LGBMClassifier(n_jobs=-1,application='multiclass', metric ='multi_logloss', random_state=seed)\n",
    "\n",
    "encoder = LabelEncoder()\n",
    "for column in X_train.columns:\n",
    "  X_train[column] = encoder.fit_transform(X_train[column])\n",
    "  X_test[column] = encoder.transform(X_test[column])\n",
    "\n",
    "# pipe = Pipeline([\n",
    "#     ('encoder', encoder),\n",
    "#     ('model', light)\n",
    "# ])\n",
    "\n",
    "params = {\n",
    "    # 반복 수행하려는 트리의 개수\n",
    "    'n_esimators' : np.arange(1200, 1600, 100),\n",
    "    # 학습률\n",
    "    'learning_rate' : [0.05,0.08, 0.1, 0.15],\n",
    "    # 트리의 깊이\n",
    "    'max_depth' : np.arange(6, 11, 1),\n",
    "    # 트리 생성하는 알고리즘\n",
    "    'boosting' : ['gdbt','rf','dart','goss'],\n",
    "    # 리프노드가 되기한 최소한의 수\n",
    "    'min_child_samples' : np.arange(15, 21, 1),\n",
    "    # 하나의 트리가 가질 수 있는 최대 리프의 수\n",
    "    'num_leaves' : np.arange(35, 41, 1),\n",
    "    'early_stopping_round' : [100]\n",
    "}\n",
    "\n",
    "grid = GridSearchCV(light,param_grid=params, n_jobs=-1, scoring='accuracy',cv=5, return_train_score=True, verbose=1)\n",
    "grid.fit(X_train, y_train)"
   ]
  },
  {
   "cell_type": "code",
   "execution_count": null,
   "metadata": {
    "id": "jIXIh_fOWM6N"
   },
   "outputs": [],
   "source": [
    "grid.best_params_"
   ]
  },
  {
   "cell_type": "code",
   "execution_count": null,
   "metadata": {
    "id": "abrDOcx-WOcq"
   },
   "outputs": [],
   "source": [
    "grid.best_score_"
   ]
  },
  {
   "cell_type": "code",
   "execution_count": null,
   "metadata": {
    "id": "HY1JHn21WQ-b"
   },
   "outputs": [],
   "source": [
    "pred = grid.predict(X_test)\n",
    "# predict = label.inverse_transform(pred)\n",
    "accuracy_score(y_test, pred)"
   ]
  },
  {
   "cell_type": "markdown",
   "metadata": {
    "id": "qMrY1bO0x8uG"
   },
   "source": [
    "# 순열중요도"
   ]
  },
  {
   "cell_type": "code",
   "execution_count": null,
   "metadata": {
    "id": "bC-XwBObyI2z"
   },
   "outputs": [],
   "source": [
    "!pip install eli5"
   ]
  },
  {
   "cell_type": "code",
   "execution_count": null,
   "metadata": {
    "id": "i_0yNwUXsYtx"
   },
   "outputs": [],
   "source": [
    "import eli5\n",
    "from eli5.sklearn import PermutationImportance\n",
    "X_test_pre =clf.best_estimator_['encoder'].transform(X_test)\n",
    "permuter = PermutationImportance(\n",
    "    estimator = clf.best_estimator_['model'],\n",
    "    scoring = 'accuracy',\n",
    "    n_iter = 100,\n",
    "    random_state = seed\n",
    ")\n",
    "permuter.fit(X_test_pre, label.transform(y_test))"
   ]
  },
  {
   "cell_type": "code",
   "execution_count": null,
   "metadata": {
    "id": "PPJBR2JLyAVB"
   },
   "outputs": [],
   "source": [
    "feature_names = X_train.columns.tolist()\n",
    "eli5.show_weights(\n",
    "    permuter,\n",
    "    top=None,\n",
    "    feature_names = feature_names\n",
    ")"
   ]
  },
  {
   "cell_type": "markdown",
   "metadata": {
    "id": "D0nuG0x7_Ine"
   },
   "source": [
    "# 모델 저장"
   ]
  },
  {
   "cell_type": "code",
   "execution_count": 23,
   "metadata": {
    "ExecuteTime": {
     "end_time": "2022-09-12T14:01:30.141686Z",
     "start_time": "2022-09-12T14:01:30.131689Z"
    },
    "id": "Va-soXOm_JPc"
   },
   "outputs": [
    {
     "data": {
      "text/plain": [
       "'4.0'"
      ]
     },
     "execution_count": 23,
     "metadata": {},
     "output_type": "execute_result"
    }
   ],
   "source": [
    "import pickle\n",
    "\n",
    "pickle.format_version"
   ]
  },
  {
   "cell_type": "code",
   "execution_count": 25,
   "metadata": {
    "ExecuteTime": {
     "end_time": "2022-09-12T14:01:40.311683Z",
     "start_time": "2022-09-12T14:01:40.250686Z"
    },
    "id": "DA9uuKYwAYF8"
   },
   "outputs": [],
   "source": [
    "path = '/content/drive/MyDrive/CP1/modeling/'\n",
    "# with open(path+'grid_encoder_pickle_ver4.pickle', 'wb') as file:\n",
    "#   pickle.dump(encoder, file)\n",
    "\n",
    "# with open(path + 'grid_model_pickle_ver4.pickle', 'wb') as file:\n",
    "#   pickle.dump(grid, file)\n",
    "\n",
    "# with open(path+'random_encoder_pickle_ver4.pickle', 'wb') as file:\n",
    "#   pickle.dump(encoder, file)\n",
    "\n",
    "with open('random_model2_pickle_ver4.pickle', 'wb') as file:\n",
    "  pickle.dump(clf, file)"
   ]
  },
  {
   "cell_type": "code",
   "execution_count": null,
   "metadata": {
    "id": "1Bee9vXdCBwu"
   },
   "outputs": [],
   "source": [
    "#load\n",
    "\n",
    "# with open(path + 'encoder_pickle_ver4.pickle', 'rb') as file:\n",
    "#   pickle.load(file)\n",
    "\n",
    "# with open(path + 'model_pickle_ver4.pickle', 'rb') as file:\n",
    "#   pickle.load(file)"
   ]
  },
  {
   "cell_type": "code",
   "execution_count": null,
   "metadata": {
    "id": "gqh_TgeVBduh"
   },
   "outputs": [],
   "source": [
    "# !pip3 install pickle5"
   ]
  },
  {
   "cell_type": "code",
   "execution_count": 28,
   "metadata": {
    "ExecuteTime": {
     "end_time": "2022-09-12T14:02:35.573262Z",
     "start_time": "2022-09-12T14:02:35.549259Z"
    },
    "id": "sGutZPCoBvne"
   },
   "outputs": [
    {
     "ename": "ModuleNotFoundError",
     "evalue": "No module named 'pickle5'",
     "output_type": "error",
     "traceback": [
      "\u001b[1;31m---------------------------------------------------------------------------\u001b[0m",
      "\u001b[1;31mModuleNotFoundError\u001b[0m                       Traceback (most recent call last)",
      "Input \u001b[1;32mIn [28]\u001b[0m, in \u001b[0;36m<cell line: 1>\u001b[1;34m()\u001b[0m\n\u001b[1;32m----> 1\u001b[0m \u001b[38;5;28;01mimport\u001b[39;00m \u001b[38;5;21;01mpickle5\u001b[39;00m\n",
      "\u001b[1;31mModuleNotFoundError\u001b[0m: No module named 'pickle5'"
     ]
    }
   ],
   "source": [
    "import pickle5"
   ]
  },
  {
   "cell_type": "code",
   "execution_count": 26,
   "metadata": {
    "ExecuteTime": {
     "end_time": "2022-09-12T14:01:44.376684Z",
     "start_time": "2022-09-12T14:01:44.339686Z"
    },
    "id": "G9Vwu-zLDzOt"
   },
   "outputs": [
    {
     "ename": "NameError",
     "evalue": "name 'pickle5' is not defined",
     "output_type": "error",
     "traceback": [
      "\u001b[1;31m---------------------------------------------------------------------------\u001b[0m",
      "\u001b[1;31mNameError\u001b[0m                                 Traceback (most recent call last)",
      "Input \u001b[1;32mIn [26]\u001b[0m, in \u001b[0;36m<cell line: 11>\u001b[1;34m()\u001b[0m\n\u001b[0;32m      1\u001b[0m \u001b[38;5;66;03m# path = '/content/drive/MyDrive/CP1/modeling/'\u001b[39;00m\n\u001b[0;32m      2\u001b[0m \u001b[38;5;66;03m# with open(path+'grid_encoder_pickle_ver5.pickle', 'wb') as file:\u001b[39;00m\n\u001b[0;32m      3\u001b[0m \u001b[38;5;66;03m#   pickle5.dump(encoder, file, protocol=5)\u001b[39;00m\n\u001b[1;32m   (...)\u001b[0m\n\u001b[0;32m      8\u001b[0m \u001b[38;5;66;03m# with open(path+'random_encoder_pickle_ver5.pickle', 'wb') as file:\u001b[39;00m\n\u001b[0;32m      9\u001b[0m \u001b[38;5;66;03m#   pickle5.dump(encoder, file, protocol=5)\u001b[39;00m\n\u001b[0;32m     11\u001b[0m \u001b[38;5;28;01mwith\u001b[39;00m \u001b[38;5;28mopen\u001b[39m(\u001b[38;5;124m'\u001b[39m\u001b[38;5;124mrandom_model2_pickle_ver5.pickle\u001b[39m\u001b[38;5;124m'\u001b[39m, \u001b[38;5;124m'\u001b[39m\u001b[38;5;124mwb\u001b[39m\u001b[38;5;124m'\u001b[39m) \u001b[38;5;28;01mas\u001b[39;00m file:\n\u001b[1;32m---> 12\u001b[0m   \u001b[43mpickle5\u001b[49m\u001b[38;5;241m.\u001b[39mdump(clf, file, protocol\u001b[38;5;241m=\u001b[39m\u001b[38;5;241m5\u001b[39m)\n",
      "\u001b[1;31mNameError\u001b[0m: name 'pickle5' is not defined"
     ]
    }
   ],
   "source": [
    "# path = '/content/drive/MyDrive/CP1/modeling/'\n",
    "# with open(path+'grid_encoder_pickle_ver5.pickle', 'wb') as file:\n",
    "#   pickle5.dump(encoder, file, protocol=5)\n",
    "\n",
    "# with open(path + 'grid_model_pickle_ver5.pickle', 'wb') as file:\n",
    "#   pickle5.dump(grid, file, protocol=5)\n",
    "\n",
    "# with open(path+'random_encoder_pickle_ver5.pickle', 'wb') as file:\n",
    "#   pickle5.dump(encoder, file, protocol=5)\n",
    "\n",
    "with open('random_model2_pickle_ver5.pickle', 'wb') as file:\n",
    "  pickle5.dump(clf, file, protocol=5)"
   ]
  },
  {
   "cell_type": "code",
   "execution_count": null,
   "metadata": {
    "id": "VEBNRuYQCOUW"
   },
   "outputs": [],
   "source": [
    "#load\n",
    "\n",
    "# with open(path + 'encoder_pickle_ver5.pickle', 'rb') as file:\n",
    "#   pickle5.load(file)\n",
    "\n",
    "# with open(path + 'model_pickle_ver5.pickle', 'rb') as file:\n",
    "#   pickle5.load(file)"
   ]
  }
 ],
 "metadata": {
  "colab": {
   "collapsed_sections": [],
   "provenance": []
  },
  "kernelspec": {
   "display_name": "Python 3 (ipykernel)",
   "language": "python",
   "name": "python3"
  },
  "language_info": {
   "codemirror_mode": {
    "name": "ipython",
    "version": 3
   },
   "file_extension": ".py",
   "mimetype": "text/x-python",
   "name": "python",
   "nbconvert_exporter": "python",
   "pygments_lexer": "ipython3",
   "version": "3.8.13"
  },
  "toc": {
   "base_numbering": 1,
   "nav_menu": {},
   "number_sections": true,
   "sideBar": true,
   "skip_h1_title": false,
   "title_cell": "Table of Contents",
   "title_sidebar": "Contents",
   "toc_cell": false,
   "toc_position": {},
   "toc_section_display": true,
   "toc_window_display": true
  },
  "varInspector": {
   "cols": {
    "lenName": 16,
    "lenType": 16,
    "lenVar": 40
   },
   "kernels_config": {
    "python": {
     "delete_cmd_postfix": "",
     "delete_cmd_prefix": "del ",
     "library": "var_list.py",
     "varRefreshCmd": "print(var_dic_list())"
    },
    "r": {
     "delete_cmd_postfix": ") ",
     "delete_cmd_prefix": "rm(",
     "library": "var_list.r",
     "varRefreshCmd": "cat(var_dic_list()) "
    }
   },
   "types_to_exclude": [
    "module",
    "function",
    "builtin_function_or_method",
    "instance",
    "_Feature"
   ],
   "window_display": false
  }
 },
 "nbformat": 4,
 "nbformat_minor": 1
}
