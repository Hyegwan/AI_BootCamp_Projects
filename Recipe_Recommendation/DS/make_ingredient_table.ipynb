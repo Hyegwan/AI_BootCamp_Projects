{
  "nbformat": 4,
  "nbformat_minor": 0,
  "metadata": {
    "colab": {
      "provenance": [],
      "collapsed_sections": [],
      "mount_file_id": "1T5W4U0ev49KexJhqZIPGuvZ4a5pCxMzv",
      "authorship_tag": "ABX9TyND2JBYAACY+kD88k2RM7xh",
      "include_colab_link": true
    },
    "kernelspec": {
      "name": "python3",
      "display_name": "Python 3"
    },
    "language_info": {
      "name": "python"
    }
  },
  "cells": [
    {
      "cell_type": "markdown",
      "metadata": {
        "id": "view-in-github",
        "colab_type": "text"
      },
      "source": [
        "<a href=\"https://colab.research.google.com/github/HwangHanJae/CP1_Project/blob/main/make_ingredient_table.ipynb\" target=\"_parent\"><img src=\"https://colab.research.google.com/assets/colab-badge.svg\" alt=\"Open In Colab\"/></a>"
      ]
    },
    {
      "cell_type": "code",
      "source": [
        "!pip install fastparquet"
      ],
      "metadata": {
        "colab": {
          "base_uri": "https://localhost:8080/"
        },
        "id": "1OAI4n5tGVOQ",
        "outputId": "ce15c5e7-a135-4c35-c791-0719110069be"
      },
      "execution_count": null,
      "outputs": [
        {
          "output_type": "stream",
          "name": "stdout",
          "text": [
            "Looking in indexes: https://pypi.org/simple, https://us-python.pkg.dev/colab-wheels/public/simple/\n",
            "Collecting fastparquet\n",
            "  Downloading fastparquet-0.8.1-cp37-cp37m-manylinux_2_17_x86_64.manylinux2014_x86_64.whl (1.5 MB)\n",
            "\u001b[K     |████████████████████████████████| 1.5 MB 12.9 MB/s \n",
            "\u001b[?25hRequirement already satisfied: pandas>=1.1.0 in /usr/local/lib/python3.7/dist-packages (from fastparquet) (1.3.5)\n",
            "Requirement already satisfied: numpy>=1.18 in /usr/local/lib/python3.7/dist-packages (from fastparquet) (1.21.6)\n",
            "Collecting cramjam>=2.3.0\n",
            "  Downloading cramjam-2.5.0-cp37-cp37m-manylinux_2_5_x86_64.manylinux1_x86_64.whl (1.6 MB)\n",
            "\u001b[K     |████████████████████████████████| 1.6 MB 65.1 MB/s \n",
            "\u001b[?25hRequirement already satisfied: fsspec in /usr/local/lib/python3.7/dist-packages (from fastparquet) (2022.8.1)\n",
            "Requirement already satisfied: pytz>=2017.3 in /usr/local/lib/python3.7/dist-packages (from pandas>=1.1.0->fastparquet) (2022.2.1)\n",
            "Requirement already satisfied: python-dateutil>=2.7.3 in /usr/local/lib/python3.7/dist-packages (from pandas>=1.1.0->fastparquet) (2.8.2)\n",
            "Requirement already satisfied: six>=1.5 in /usr/local/lib/python3.7/dist-packages (from python-dateutil>=2.7.3->pandas>=1.1.0->fastparquet) (1.15.0)\n",
            "Installing collected packages: cramjam, fastparquet\n",
            "Successfully installed cramjam-2.5.0 fastparquet-0.8.1\n"
          ]
        }
      ]
    },
    {
      "cell_type": "code",
      "execution_count": null,
      "metadata": {
        "id": "KR-s3MzKFx3g"
      },
      "outputs": [],
      "source": [
        "import pandas as pd"
      ]
    },
    {
      "cell_type": "code",
      "source": [
        "ingredient_path = '/content/drive/MyDrive/CP1/ingredient_text_preprocessing2.parquet'\n",
        "df_path = '/content/drive/MyDrive/CP1/만개의 레시피.csv'\n",
        "df = pd.read_csv(df_path, encoding='cp949')\n",
        "ingredient_df = pd.read_parquet(ingredient_path, engine='fastparquet')\n",
        "\n",
        "df.shape, ingredient_df.shape"
      ],
      "metadata": {
        "colab": {
          "base_uri": "https://localhost:8080/"
        },
        "id": "G42sQc-yF68S",
        "outputId": "c94c21d7-7741-4926-9b94-f73afa9d7044"
      },
      "execution_count": null,
      "outputs": [
        {
          "output_type": "execute_result",
          "data": {
            "text/plain": [
              "((128400, 18), (56744, 3))"
            ]
          },
          "metadata": {},
          "execution_count": 5
        }
      ]
    },
    {
      "cell_type": "code",
      "source": [
        "ingredient_df.head()"
      ],
      "metadata": {
        "colab": {
          "base_uri": "https://localhost:8080/",
          "height": 206
        },
        "id": "Ww2Wu-IlIl32",
        "outputId": "1f2bb1e8-5622-42be-da12-fb20a9c183c1"
      },
      "execution_count": null,
      "outputs": [
        {
          "output_type": "execute_result",
          "data": {
            "text/plain": [
              "       id                                         ingredient  \\\n",
              "0  128671  [[어묵, 2, 개], [김밥용김, 3, 장], [당면, 1, 움큼], [양파, 0...   \n",
              "1  131871  [[현미, 4, 컵], [찹쌀, 2, 컵], [호두, 50, g], [물, 0.5,...   \n",
              "2  139247                       [[북어포, 1, 마리], [찹쌀가루, 1, C]]   \n",
              "3  149207                                    [[파스타면, 1, 단위]]   \n",
              "4  151148  [[건표고버섯, 9, 개], [오이, 0.5, 개], [당근, 0.5, 개], [양...   \n",
              "\n",
              "                                       only_ingred  \n",
              "0  [어묵, 김밥용김, 당면, 양파, 당근, 깻잎, 튀김가루, 올리브유, 간장, 참기름]  \n",
              "1                              [현미, 찹쌀, 호두, 물, 소금]  \n",
              "2                                      [북어포, 찹쌀가루]  \n",
              "3                                           [파스타면]  \n",
              "4                 [건표고버섯, 오이, 당근, 양파, 사과, 그외의, 과일]  "
            ],
            "text/html": [
              "\n",
              "  <div id=\"df-cd65f502-ce21-4c9c-844a-4bdf0f3683f2\">\n",
              "    <div class=\"colab-df-container\">\n",
              "      <div>\n",
              "<style scoped>\n",
              "    .dataframe tbody tr th:only-of-type {\n",
              "        vertical-align: middle;\n",
              "    }\n",
              "\n",
              "    .dataframe tbody tr th {\n",
              "        vertical-align: top;\n",
              "    }\n",
              "\n",
              "    .dataframe thead th {\n",
              "        text-align: right;\n",
              "    }\n",
              "</style>\n",
              "<table border=\"1\" class=\"dataframe\">\n",
              "  <thead>\n",
              "    <tr style=\"text-align: right;\">\n",
              "      <th></th>\n",
              "      <th>id</th>\n",
              "      <th>ingredient</th>\n",
              "      <th>only_ingred</th>\n",
              "    </tr>\n",
              "  </thead>\n",
              "  <tbody>\n",
              "    <tr>\n",
              "      <th>0</th>\n",
              "      <td>128671</td>\n",
              "      <td>[[어묵, 2, 개], [김밥용김, 3, 장], [당면, 1, 움큼], [양파, 0...</td>\n",
              "      <td>[어묵, 김밥용김, 당면, 양파, 당근, 깻잎, 튀김가루, 올리브유, 간장, 참기름]</td>\n",
              "    </tr>\n",
              "    <tr>\n",
              "      <th>1</th>\n",
              "      <td>131871</td>\n",
              "      <td>[[현미, 4, 컵], [찹쌀, 2, 컵], [호두, 50, g], [물, 0.5,...</td>\n",
              "      <td>[현미, 찹쌀, 호두, 물, 소금]</td>\n",
              "    </tr>\n",
              "    <tr>\n",
              "      <th>2</th>\n",
              "      <td>139247</td>\n",
              "      <td>[[북어포, 1, 마리], [찹쌀가루, 1, C]]</td>\n",
              "      <td>[북어포, 찹쌀가루]</td>\n",
              "    </tr>\n",
              "    <tr>\n",
              "      <th>3</th>\n",
              "      <td>149207</td>\n",
              "      <td>[[파스타면, 1, 단위]]</td>\n",
              "      <td>[파스타면]</td>\n",
              "    </tr>\n",
              "    <tr>\n",
              "      <th>4</th>\n",
              "      <td>151148</td>\n",
              "      <td>[[건표고버섯, 9, 개], [오이, 0.5, 개], [당근, 0.5, 개], [양...</td>\n",
              "      <td>[건표고버섯, 오이, 당근, 양파, 사과, 그외의, 과일]</td>\n",
              "    </tr>\n",
              "  </tbody>\n",
              "</table>\n",
              "</div>\n",
              "      <button class=\"colab-df-convert\" onclick=\"convertToInteractive('df-cd65f502-ce21-4c9c-844a-4bdf0f3683f2')\"\n",
              "              title=\"Convert this dataframe to an interactive table.\"\n",
              "              style=\"display:none;\">\n",
              "        \n",
              "  <svg xmlns=\"http://www.w3.org/2000/svg\" height=\"24px\"viewBox=\"0 0 24 24\"\n",
              "       width=\"24px\">\n",
              "    <path d=\"M0 0h24v24H0V0z\" fill=\"none\"/>\n",
              "    <path d=\"M18.56 5.44l.94 2.06.94-2.06 2.06-.94-2.06-.94-.94-2.06-.94 2.06-2.06.94zm-11 1L8.5 8.5l.94-2.06 2.06-.94-2.06-.94L8.5 2.5l-.94 2.06-2.06.94zm10 10l.94 2.06.94-2.06 2.06-.94-2.06-.94-.94-2.06-.94 2.06-2.06.94z\"/><path d=\"M17.41 7.96l-1.37-1.37c-.4-.4-.92-.59-1.43-.59-.52 0-1.04.2-1.43.59L10.3 9.45l-7.72 7.72c-.78.78-.78 2.05 0 2.83L4 21.41c.39.39.9.59 1.41.59.51 0 1.02-.2 1.41-.59l7.78-7.78 2.81-2.81c.8-.78.8-2.07 0-2.86zM5.41 20L4 18.59l7.72-7.72 1.47 1.35L5.41 20z\"/>\n",
              "  </svg>\n",
              "      </button>\n",
              "      \n",
              "  <style>\n",
              "    .colab-df-container {\n",
              "      display:flex;\n",
              "      flex-wrap:wrap;\n",
              "      gap: 12px;\n",
              "    }\n",
              "\n",
              "    .colab-df-convert {\n",
              "      background-color: #E8F0FE;\n",
              "      border: none;\n",
              "      border-radius: 50%;\n",
              "      cursor: pointer;\n",
              "      display: none;\n",
              "      fill: #1967D2;\n",
              "      height: 32px;\n",
              "      padding: 0 0 0 0;\n",
              "      width: 32px;\n",
              "    }\n",
              "\n",
              "    .colab-df-convert:hover {\n",
              "      background-color: #E2EBFA;\n",
              "      box-shadow: 0px 1px 2px rgba(60, 64, 67, 0.3), 0px 1px 3px 1px rgba(60, 64, 67, 0.15);\n",
              "      fill: #174EA6;\n",
              "    }\n",
              "\n",
              "    [theme=dark] .colab-df-convert {\n",
              "      background-color: #3B4455;\n",
              "      fill: #D2E3FC;\n",
              "    }\n",
              "\n",
              "    [theme=dark] .colab-df-convert:hover {\n",
              "      background-color: #434B5C;\n",
              "      box-shadow: 0px 1px 3px 1px rgba(0, 0, 0, 0.15);\n",
              "      filter: drop-shadow(0px 1px 2px rgba(0, 0, 0, 0.3));\n",
              "      fill: #FFFFFF;\n",
              "    }\n",
              "  </style>\n",
              "\n",
              "      <script>\n",
              "        const buttonEl =\n",
              "          document.querySelector('#df-cd65f502-ce21-4c9c-844a-4bdf0f3683f2 button.colab-df-convert');\n",
              "        buttonEl.style.display =\n",
              "          google.colab.kernel.accessAllowed ? 'block' : 'none';\n",
              "\n",
              "        async function convertToInteractive(key) {\n",
              "          const element = document.querySelector('#df-cd65f502-ce21-4c9c-844a-4bdf0f3683f2');\n",
              "          const dataTable =\n",
              "            await google.colab.kernel.invokeFunction('convertToInteractive',\n",
              "                                                     [key], {});\n",
              "          if (!dataTable) return;\n",
              "\n",
              "          const docLinkHtml = 'Like what you see? Visit the ' +\n",
              "            '<a target=\"_blank\" href=https://colab.research.google.com/notebooks/data_table.ipynb>data table notebook</a>'\n",
              "            + ' to learn more about interactive tables.';\n",
              "          element.innerHTML = '';\n",
              "          dataTable['output_type'] = 'display_data';\n",
              "          await google.colab.output.renderOutput(dataTable, element);\n",
              "          const docLink = document.createElement('div');\n",
              "          docLink.innerHTML = docLinkHtml;\n",
              "          element.appendChild(docLink);\n",
              "        }\n",
              "      </script>\n",
              "    </div>\n",
              "  </div>\n",
              "  "
            ]
          },
          "metadata": {},
          "execution_count": 6
        }
      ]
    },
    {
      "cell_type": "markdown",
      "source": [
        "# 전체 원본 데이터에서 필요한 칼럼만 추출\n",
        "- 추출 칼럼 : 레시피 일련번호, 요리명"
      ],
      "metadata": {
        "id": "Lb52A6GyG6KK"
      }
    },
    {
      "cell_type": "code",
      "source": [
        "copy_df = df[['RCP_SNO', 'CKG_NM']].copy()\n",
        "copy_df.head()"
      ],
      "metadata": {
        "colab": {
          "base_uri": "https://localhost:8080/",
          "height": 206
        },
        "id": "Mgs6n5JZGRx5",
        "outputId": "2ca76b33-a6db-409a-de5b-1f84d65c9241"
      },
      "execution_count": null,
      "outputs": [
        {
          "output_type": "execute_result",
          "data": {
            "text/plain": [
              "   RCP_SNO CKG_NM\n",
              "0   128671  어묵김말이\n",
              "1   128892    NaN\n",
              "2   128932    NaN\n",
              "3   131871  현미호두죽\n",
              "4   139247   북어갈비"
            ],
            "text/html": [
              "\n",
              "  <div id=\"df-b7b68efe-66ff-471d-b84f-34d9e9fc6d04\">\n",
              "    <div class=\"colab-df-container\">\n",
              "      <div>\n",
              "<style scoped>\n",
              "    .dataframe tbody tr th:only-of-type {\n",
              "        vertical-align: middle;\n",
              "    }\n",
              "\n",
              "    .dataframe tbody tr th {\n",
              "        vertical-align: top;\n",
              "    }\n",
              "\n",
              "    .dataframe thead th {\n",
              "        text-align: right;\n",
              "    }\n",
              "</style>\n",
              "<table border=\"1\" class=\"dataframe\">\n",
              "  <thead>\n",
              "    <tr style=\"text-align: right;\">\n",
              "      <th></th>\n",
              "      <th>RCP_SNO</th>\n",
              "      <th>CKG_NM</th>\n",
              "    </tr>\n",
              "  </thead>\n",
              "  <tbody>\n",
              "    <tr>\n",
              "      <th>0</th>\n",
              "      <td>128671</td>\n",
              "      <td>어묵김말이</td>\n",
              "    </tr>\n",
              "    <tr>\n",
              "      <th>1</th>\n",
              "      <td>128892</td>\n",
              "      <td>NaN</td>\n",
              "    </tr>\n",
              "    <tr>\n",
              "      <th>2</th>\n",
              "      <td>128932</td>\n",
              "      <td>NaN</td>\n",
              "    </tr>\n",
              "    <tr>\n",
              "      <th>3</th>\n",
              "      <td>131871</td>\n",
              "      <td>현미호두죽</td>\n",
              "    </tr>\n",
              "    <tr>\n",
              "      <th>4</th>\n",
              "      <td>139247</td>\n",
              "      <td>북어갈비</td>\n",
              "    </tr>\n",
              "  </tbody>\n",
              "</table>\n",
              "</div>\n",
              "      <button class=\"colab-df-convert\" onclick=\"convertToInteractive('df-b7b68efe-66ff-471d-b84f-34d9e9fc6d04')\"\n",
              "              title=\"Convert this dataframe to an interactive table.\"\n",
              "              style=\"display:none;\">\n",
              "        \n",
              "  <svg xmlns=\"http://www.w3.org/2000/svg\" height=\"24px\"viewBox=\"0 0 24 24\"\n",
              "       width=\"24px\">\n",
              "    <path d=\"M0 0h24v24H0V0z\" fill=\"none\"/>\n",
              "    <path d=\"M18.56 5.44l.94 2.06.94-2.06 2.06-.94-2.06-.94-.94-2.06-.94 2.06-2.06.94zm-11 1L8.5 8.5l.94-2.06 2.06-.94-2.06-.94L8.5 2.5l-.94 2.06-2.06.94zm10 10l.94 2.06.94-2.06 2.06-.94-2.06-.94-.94-2.06-.94 2.06-2.06.94z\"/><path d=\"M17.41 7.96l-1.37-1.37c-.4-.4-.92-.59-1.43-.59-.52 0-1.04.2-1.43.59L10.3 9.45l-7.72 7.72c-.78.78-.78 2.05 0 2.83L4 21.41c.39.39.9.59 1.41.59.51 0 1.02-.2 1.41-.59l7.78-7.78 2.81-2.81c.8-.78.8-2.07 0-2.86zM5.41 20L4 18.59l7.72-7.72 1.47 1.35L5.41 20z\"/>\n",
              "  </svg>\n",
              "      </button>\n",
              "      \n",
              "  <style>\n",
              "    .colab-df-container {\n",
              "      display:flex;\n",
              "      flex-wrap:wrap;\n",
              "      gap: 12px;\n",
              "    }\n",
              "\n",
              "    .colab-df-convert {\n",
              "      background-color: #E8F0FE;\n",
              "      border: none;\n",
              "      border-radius: 50%;\n",
              "      cursor: pointer;\n",
              "      display: none;\n",
              "      fill: #1967D2;\n",
              "      height: 32px;\n",
              "      padding: 0 0 0 0;\n",
              "      width: 32px;\n",
              "    }\n",
              "\n",
              "    .colab-df-convert:hover {\n",
              "      background-color: #E2EBFA;\n",
              "      box-shadow: 0px 1px 2px rgba(60, 64, 67, 0.3), 0px 1px 3px 1px rgba(60, 64, 67, 0.15);\n",
              "      fill: #174EA6;\n",
              "    }\n",
              "\n",
              "    [theme=dark] .colab-df-convert {\n",
              "      background-color: #3B4455;\n",
              "      fill: #D2E3FC;\n",
              "    }\n",
              "\n",
              "    [theme=dark] .colab-df-convert:hover {\n",
              "      background-color: #434B5C;\n",
              "      box-shadow: 0px 1px 3px 1px rgba(0, 0, 0, 0.15);\n",
              "      filter: drop-shadow(0px 1px 2px rgba(0, 0, 0, 0.3));\n",
              "      fill: #FFFFFF;\n",
              "    }\n",
              "  </style>\n",
              "\n",
              "      <script>\n",
              "        const buttonEl =\n",
              "          document.querySelector('#df-b7b68efe-66ff-471d-b84f-34d9e9fc6d04 button.colab-df-convert');\n",
              "        buttonEl.style.display =\n",
              "          google.colab.kernel.accessAllowed ? 'block' : 'none';\n",
              "\n",
              "        async function convertToInteractive(key) {\n",
              "          const element = document.querySelector('#df-b7b68efe-66ff-471d-b84f-34d9e9fc6d04');\n",
              "          const dataTable =\n",
              "            await google.colab.kernel.invokeFunction('convertToInteractive',\n",
              "                                                     [key], {});\n",
              "          if (!dataTable) return;\n",
              "\n",
              "          const docLinkHtml = 'Like what you see? Visit the ' +\n",
              "            '<a target=\"_blank\" href=https://colab.research.google.com/notebooks/data_table.ipynb>data table notebook</a>'\n",
              "            + ' to learn more about interactive tables.';\n",
              "          element.innerHTML = '';\n",
              "          dataTable['output_type'] = 'display_data';\n",
              "          await google.colab.output.renderOutput(dataTable, element);\n",
              "          const docLink = document.createElement('div');\n",
              "          docLink.innerHTML = docLinkHtml;\n",
              "          element.appendChild(docLink);\n",
              "        }\n",
              "      </script>\n",
              "    </div>\n",
              "  </div>\n",
              "  "
            ]
          },
          "metadata": {},
          "execution_count": 7
        }
      ]
    },
    {
      "cell_type": "markdown",
      "source": [
        "## 칼럼명 변경\n",
        "- RCP_SNO : id\n",
        "- CKG_NM : menu"
      ],
      "metadata": {
        "id": "Bx4vku4EIFZr"
      }
    },
    {
      "cell_type": "code",
      "source": [
        "copy_df = copy_df.rename(columns = {\"RCP_SNO\" : \"id\", \"CKG_NM\" :\"menu\"})"
      ],
      "metadata": {
        "id": "_w4srYV5IE7N"
      },
      "execution_count": null,
      "outputs": []
    },
    {
      "cell_type": "markdown",
      "source": [
        "# 텍스트 전처리 진행 후 [재료명, 단위, 단위명]으로 분류한 칼럼 추출"
      ],
      "metadata": {
        "id": "JxamK9CrHl5V"
      }
    },
    {
      "cell_type": "code",
      "source": [
        "copy_ingredient_df = ingredient_df[['id','ingredient']].copy()"
      ],
      "metadata": {
        "id": "hbQimmlhIy9K"
      },
      "execution_count": null,
      "outputs": []
    },
    {
      "cell_type": "markdown",
      "source": [
        "# 추출한 데이터 합치기"
      ],
      "metadata": {
        "id": "ZUIigZ69JDzi"
      }
    },
    {
      "cell_type": "code",
      "source": [
        "new_df = pd.merge(copy_ingredient_df, copy_df, on='id')\n",
        "new_df.head()"
      ],
      "metadata": {
        "colab": {
          "base_uri": "https://localhost:8080/",
          "height": 206
        },
        "id": "5-sUT1PNG9ct",
        "outputId": "237f5177-6aba-4e65-e78a-df5a359d75b2"
      },
      "execution_count": null,
      "outputs": [
        {
          "output_type": "execute_result",
          "data": {
            "text/plain": [
              "       id                                         ingredient     menu\n",
              "0  128671  [[어묵, 2, 개], [김밥용김, 3, 장], [당면, 1, 움큼], [양파, 0...    어묵김말이\n",
              "1  131871  [[현미, 4, 컵], [찹쌀, 2, 컵], [호두, 50, g], [물, 0.5,...    현미호두죽\n",
              "2  139247                       [[북어포, 1, 마리], [찹쌀가루, 1, C]]     북어갈비\n",
              "3  149207                                    [[파스타면, 1, 단위]]  토마토스파게티\n",
              "4  151148  [[건표고버섯, 9, 개], [오이, 0.5, 개], [당근, 0.5, 개], [양...   표고버섯탕수"
            ],
            "text/html": [
              "\n",
              "  <div id=\"df-2e177233-9c11-4514-8460-cc7dee74392e\">\n",
              "    <div class=\"colab-df-container\">\n",
              "      <div>\n",
              "<style scoped>\n",
              "    .dataframe tbody tr th:only-of-type {\n",
              "        vertical-align: middle;\n",
              "    }\n",
              "\n",
              "    .dataframe tbody tr th {\n",
              "        vertical-align: top;\n",
              "    }\n",
              "\n",
              "    .dataframe thead th {\n",
              "        text-align: right;\n",
              "    }\n",
              "</style>\n",
              "<table border=\"1\" class=\"dataframe\">\n",
              "  <thead>\n",
              "    <tr style=\"text-align: right;\">\n",
              "      <th></th>\n",
              "      <th>id</th>\n",
              "      <th>ingredient</th>\n",
              "      <th>menu</th>\n",
              "    </tr>\n",
              "  </thead>\n",
              "  <tbody>\n",
              "    <tr>\n",
              "      <th>0</th>\n",
              "      <td>128671</td>\n",
              "      <td>[[어묵, 2, 개], [김밥용김, 3, 장], [당면, 1, 움큼], [양파, 0...</td>\n",
              "      <td>어묵김말이</td>\n",
              "    </tr>\n",
              "    <tr>\n",
              "      <th>1</th>\n",
              "      <td>131871</td>\n",
              "      <td>[[현미, 4, 컵], [찹쌀, 2, 컵], [호두, 50, g], [물, 0.5,...</td>\n",
              "      <td>현미호두죽</td>\n",
              "    </tr>\n",
              "    <tr>\n",
              "      <th>2</th>\n",
              "      <td>139247</td>\n",
              "      <td>[[북어포, 1, 마리], [찹쌀가루, 1, C]]</td>\n",
              "      <td>북어갈비</td>\n",
              "    </tr>\n",
              "    <tr>\n",
              "      <th>3</th>\n",
              "      <td>149207</td>\n",
              "      <td>[[파스타면, 1, 단위]]</td>\n",
              "      <td>토마토스파게티</td>\n",
              "    </tr>\n",
              "    <tr>\n",
              "      <th>4</th>\n",
              "      <td>151148</td>\n",
              "      <td>[[건표고버섯, 9, 개], [오이, 0.5, 개], [당근, 0.5, 개], [양...</td>\n",
              "      <td>표고버섯탕수</td>\n",
              "    </tr>\n",
              "  </tbody>\n",
              "</table>\n",
              "</div>\n",
              "      <button class=\"colab-df-convert\" onclick=\"convertToInteractive('df-2e177233-9c11-4514-8460-cc7dee74392e')\"\n",
              "              title=\"Convert this dataframe to an interactive table.\"\n",
              "              style=\"display:none;\">\n",
              "        \n",
              "  <svg xmlns=\"http://www.w3.org/2000/svg\" height=\"24px\"viewBox=\"0 0 24 24\"\n",
              "       width=\"24px\">\n",
              "    <path d=\"M0 0h24v24H0V0z\" fill=\"none\"/>\n",
              "    <path d=\"M18.56 5.44l.94 2.06.94-2.06 2.06-.94-2.06-.94-.94-2.06-.94 2.06-2.06.94zm-11 1L8.5 8.5l.94-2.06 2.06-.94-2.06-.94L8.5 2.5l-.94 2.06-2.06.94zm10 10l.94 2.06.94-2.06 2.06-.94-2.06-.94-.94-2.06-.94 2.06-2.06.94z\"/><path d=\"M17.41 7.96l-1.37-1.37c-.4-.4-.92-.59-1.43-.59-.52 0-1.04.2-1.43.59L10.3 9.45l-7.72 7.72c-.78.78-.78 2.05 0 2.83L4 21.41c.39.39.9.59 1.41.59.51 0 1.02-.2 1.41-.59l7.78-7.78 2.81-2.81c.8-.78.8-2.07 0-2.86zM5.41 20L4 18.59l7.72-7.72 1.47 1.35L5.41 20z\"/>\n",
              "  </svg>\n",
              "      </button>\n",
              "      \n",
              "  <style>\n",
              "    .colab-df-container {\n",
              "      display:flex;\n",
              "      flex-wrap:wrap;\n",
              "      gap: 12px;\n",
              "    }\n",
              "\n",
              "    .colab-df-convert {\n",
              "      background-color: #E8F0FE;\n",
              "      border: none;\n",
              "      border-radius: 50%;\n",
              "      cursor: pointer;\n",
              "      display: none;\n",
              "      fill: #1967D2;\n",
              "      height: 32px;\n",
              "      padding: 0 0 0 0;\n",
              "      width: 32px;\n",
              "    }\n",
              "\n",
              "    .colab-df-convert:hover {\n",
              "      background-color: #E2EBFA;\n",
              "      box-shadow: 0px 1px 2px rgba(60, 64, 67, 0.3), 0px 1px 3px 1px rgba(60, 64, 67, 0.15);\n",
              "      fill: #174EA6;\n",
              "    }\n",
              "\n",
              "    [theme=dark] .colab-df-convert {\n",
              "      background-color: #3B4455;\n",
              "      fill: #D2E3FC;\n",
              "    }\n",
              "\n",
              "    [theme=dark] .colab-df-convert:hover {\n",
              "      background-color: #434B5C;\n",
              "      box-shadow: 0px 1px 3px 1px rgba(0, 0, 0, 0.15);\n",
              "      filter: drop-shadow(0px 1px 2px rgba(0, 0, 0, 0.3));\n",
              "      fill: #FFFFFF;\n",
              "    }\n",
              "  </style>\n",
              "\n",
              "      <script>\n",
              "        const buttonEl =\n",
              "          document.querySelector('#df-2e177233-9c11-4514-8460-cc7dee74392e button.colab-df-convert');\n",
              "        buttonEl.style.display =\n",
              "          google.colab.kernel.accessAllowed ? 'block' : 'none';\n",
              "\n",
              "        async function convertToInteractive(key) {\n",
              "          const element = document.querySelector('#df-2e177233-9c11-4514-8460-cc7dee74392e');\n",
              "          const dataTable =\n",
              "            await google.colab.kernel.invokeFunction('convertToInteractive',\n",
              "                                                     [key], {});\n",
              "          if (!dataTable) return;\n",
              "\n",
              "          const docLinkHtml = 'Like what you see? Visit the ' +\n",
              "            '<a target=\"_blank\" href=https://colab.research.google.com/notebooks/data_table.ipynb>data table notebook</a>'\n",
              "            + ' to learn more about interactive tables.';\n",
              "          element.innerHTML = '';\n",
              "          dataTable['output_type'] = 'display_data';\n",
              "          await google.colab.output.renderOutput(dataTable, element);\n",
              "          const docLink = document.createElement('div');\n",
              "          docLink.innerHTML = docLinkHtml;\n",
              "          element.appendChild(docLink);\n",
              "        }\n",
              "      </script>\n",
              "    </div>\n",
              "  </div>\n",
              "  "
            ]
          },
          "metadata": {},
          "execution_count": 10
        }
      ]
    },
    {
      "cell_type": "markdown",
      "source": [
        "# 새로생긴 데이터프레임 칼럼순서 변경"
      ],
      "metadata": {
        "id": "ZmzlCa0jJGW2"
      }
    },
    {
      "cell_type": "code",
      "source": [
        "new_df.shape"
      ],
      "metadata": {
        "colab": {
          "base_uri": "https://localhost:8080/"
        },
        "id": "Q19HDdi9L3H2",
        "outputId": "f3f13a65-50cf-440f-9cc6-9747d5ebf829"
      },
      "execution_count": null,
      "outputs": [
        {
          "output_type": "execute_result",
          "data": {
            "text/plain": [
              "(56744, 3)"
            ]
          },
          "metadata": {},
          "execution_count": 11
        }
      ]
    },
    {
      "cell_type": "code",
      "source": [
        "new_df = new_df[['id', 'menu','ingredient']]\n",
        "new_df.head()"
      ],
      "metadata": {
        "colab": {
          "base_uri": "https://localhost:8080/",
          "height": 206
        },
        "id": "0WKvIn-_I3DR",
        "outputId": "e9143a5d-4af3-4ad4-abab-af5b01559b30"
      },
      "execution_count": null,
      "outputs": [
        {
          "output_type": "execute_result",
          "data": {
            "text/plain": [
              "       id     menu                                         ingredient\n",
              "0  128671    어묵김말이  [[어묵, 2, 개], [김밥용김, 3, 장], [당면, 1, 움큼], [양파, 0...\n",
              "1  131871    현미호두죽  [[현미, 4, 컵], [찹쌀, 2, 컵], [호두, 50, g], [물, 0.5,...\n",
              "2  139247     북어갈비                       [[북어포, 1, 마리], [찹쌀가루, 1, C]]\n",
              "3  149207  토마토스파게티                                    [[파스타면, 1, 단위]]\n",
              "4  151148   표고버섯탕수  [[건표고버섯, 9, 개], [오이, 0.5, 개], [당근, 0.5, 개], [양..."
            ],
            "text/html": [
              "\n",
              "  <div id=\"df-b6ee11fb-7802-4d64-9f81-f72aab41677c\">\n",
              "    <div class=\"colab-df-container\">\n",
              "      <div>\n",
              "<style scoped>\n",
              "    .dataframe tbody tr th:only-of-type {\n",
              "        vertical-align: middle;\n",
              "    }\n",
              "\n",
              "    .dataframe tbody tr th {\n",
              "        vertical-align: top;\n",
              "    }\n",
              "\n",
              "    .dataframe thead th {\n",
              "        text-align: right;\n",
              "    }\n",
              "</style>\n",
              "<table border=\"1\" class=\"dataframe\">\n",
              "  <thead>\n",
              "    <tr style=\"text-align: right;\">\n",
              "      <th></th>\n",
              "      <th>id</th>\n",
              "      <th>menu</th>\n",
              "      <th>ingredient</th>\n",
              "    </tr>\n",
              "  </thead>\n",
              "  <tbody>\n",
              "    <tr>\n",
              "      <th>0</th>\n",
              "      <td>128671</td>\n",
              "      <td>어묵김말이</td>\n",
              "      <td>[[어묵, 2, 개], [김밥용김, 3, 장], [당면, 1, 움큼], [양파, 0...</td>\n",
              "    </tr>\n",
              "    <tr>\n",
              "      <th>1</th>\n",
              "      <td>131871</td>\n",
              "      <td>현미호두죽</td>\n",
              "      <td>[[현미, 4, 컵], [찹쌀, 2, 컵], [호두, 50, g], [물, 0.5,...</td>\n",
              "    </tr>\n",
              "    <tr>\n",
              "      <th>2</th>\n",
              "      <td>139247</td>\n",
              "      <td>북어갈비</td>\n",
              "      <td>[[북어포, 1, 마리], [찹쌀가루, 1, C]]</td>\n",
              "    </tr>\n",
              "    <tr>\n",
              "      <th>3</th>\n",
              "      <td>149207</td>\n",
              "      <td>토마토스파게티</td>\n",
              "      <td>[[파스타면, 1, 단위]]</td>\n",
              "    </tr>\n",
              "    <tr>\n",
              "      <th>4</th>\n",
              "      <td>151148</td>\n",
              "      <td>표고버섯탕수</td>\n",
              "      <td>[[건표고버섯, 9, 개], [오이, 0.5, 개], [당근, 0.5, 개], [양...</td>\n",
              "    </tr>\n",
              "  </tbody>\n",
              "</table>\n",
              "</div>\n",
              "      <button class=\"colab-df-convert\" onclick=\"convertToInteractive('df-b6ee11fb-7802-4d64-9f81-f72aab41677c')\"\n",
              "              title=\"Convert this dataframe to an interactive table.\"\n",
              "              style=\"display:none;\">\n",
              "        \n",
              "  <svg xmlns=\"http://www.w3.org/2000/svg\" height=\"24px\"viewBox=\"0 0 24 24\"\n",
              "       width=\"24px\">\n",
              "    <path d=\"M0 0h24v24H0V0z\" fill=\"none\"/>\n",
              "    <path d=\"M18.56 5.44l.94 2.06.94-2.06 2.06-.94-2.06-.94-.94-2.06-.94 2.06-2.06.94zm-11 1L8.5 8.5l.94-2.06 2.06-.94-2.06-.94L8.5 2.5l-.94 2.06-2.06.94zm10 10l.94 2.06.94-2.06 2.06-.94-2.06-.94-.94-2.06-.94 2.06-2.06.94z\"/><path d=\"M17.41 7.96l-1.37-1.37c-.4-.4-.92-.59-1.43-.59-.52 0-1.04.2-1.43.59L10.3 9.45l-7.72 7.72c-.78.78-.78 2.05 0 2.83L4 21.41c.39.39.9.59 1.41.59.51 0 1.02-.2 1.41-.59l7.78-7.78 2.81-2.81c.8-.78.8-2.07 0-2.86zM5.41 20L4 18.59l7.72-7.72 1.47 1.35L5.41 20z\"/>\n",
              "  </svg>\n",
              "      </button>\n",
              "      \n",
              "  <style>\n",
              "    .colab-df-container {\n",
              "      display:flex;\n",
              "      flex-wrap:wrap;\n",
              "      gap: 12px;\n",
              "    }\n",
              "\n",
              "    .colab-df-convert {\n",
              "      background-color: #E8F0FE;\n",
              "      border: none;\n",
              "      border-radius: 50%;\n",
              "      cursor: pointer;\n",
              "      display: none;\n",
              "      fill: #1967D2;\n",
              "      height: 32px;\n",
              "      padding: 0 0 0 0;\n",
              "      width: 32px;\n",
              "    }\n",
              "\n",
              "    .colab-df-convert:hover {\n",
              "      background-color: #E2EBFA;\n",
              "      box-shadow: 0px 1px 2px rgba(60, 64, 67, 0.3), 0px 1px 3px 1px rgba(60, 64, 67, 0.15);\n",
              "      fill: #174EA6;\n",
              "    }\n",
              "\n",
              "    [theme=dark] .colab-df-convert {\n",
              "      background-color: #3B4455;\n",
              "      fill: #D2E3FC;\n",
              "    }\n",
              "\n",
              "    [theme=dark] .colab-df-convert:hover {\n",
              "      background-color: #434B5C;\n",
              "      box-shadow: 0px 1px 3px 1px rgba(0, 0, 0, 0.15);\n",
              "      filter: drop-shadow(0px 1px 2px rgba(0, 0, 0, 0.3));\n",
              "      fill: #FFFFFF;\n",
              "    }\n",
              "  </style>\n",
              "\n",
              "      <script>\n",
              "        const buttonEl =\n",
              "          document.querySelector('#df-b6ee11fb-7802-4d64-9f81-f72aab41677c button.colab-df-convert');\n",
              "        buttonEl.style.display =\n",
              "          google.colab.kernel.accessAllowed ? 'block' : 'none';\n",
              "\n",
              "        async function convertToInteractive(key) {\n",
              "          const element = document.querySelector('#df-b6ee11fb-7802-4d64-9f81-f72aab41677c');\n",
              "          const dataTable =\n",
              "            await google.colab.kernel.invokeFunction('convertToInteractive',\n",
              "                                                     [key], {});\n",
              "          if (!dataTable) return;\n",
              "\n",
              "          const docLinkHtml = 'Like what you see? Visit the ' +\n",
              "            '<a target=\"_blank\" href=https://colab.research.google.com/notebooks/data_table.ipynb>data table notebook</a>'\n",
              "            + ' to learn more about interactive tables.';\n",
              "          element.innerHTML = '';\n",
              "          dataTable['output_type'] = 'display_data';\n",
              "          await google.colab.output.renderOutput(dataTable, element);\n",
              "          const docLink = document.createElement('div');\n",
              "          docLink.innerHTML = docLinkHtml;\n",
              "          element.appendChild(docLink);\n",
              "        }\n",
              "      </script>\n",
              "    </div>\n",
              "  </div>\n",
              "  "
            ]
          },
          "metadata": {},
          "execution_count": 12
        }
      ]
    },
    {
      "cell_type": "markdown",
      "source": [
        "# 밑에 데이터 구조 만들기"
      ],
      "metadata": {
        "id": "3oeaC1dMMcAd"
      }
    },
    {
      "cell_type": "markdown",
      "source": [
        "![image.png](data:image/png;base64,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)"
      ],
      "metadata": {
        "id": "fCvcqJobMZP0"
      }
    },
    {
      "cell_type": "code",
      "source": [
        "from tqdm import tqdm\n",
        "dfs = []\n",
        "\n",
        "for i in tqdm(range(len(new_df))):\n",
        "  data1 = pd.DataFrame(columns=['id','menu'])\n",
        "  data2 = pd.DataFrame(new_df.iloc[i,:]['ingredient'], columns=['ingred','num','unit'])\n",
        "\n",
        "  concat_df = pd.concat([data1, data2],axis=1)\n",
        "  concat_df['id'] = new_df.iloc[i]['id']\n",
        "  concat_df['menu'] = new_df.iloc[i]['menu']\n",
        "  dfs.append(concat_df)"
      ],
      "metadata": {
        "colab": {
          "base_uri": "https://localhost:8080/"
        },
        "id": "BJhG31cOOCX4",
        "outputId": "b45f31eb-b610-4c35-df09-cd229ed24601"
      },
      "execution_count": null,
      "outputs": [
        {
          "output_type": "stream",
          "name": "stderr",
          "text": [
            "100%|██████████| 56744/56744 [02:43<00:00, 346.98it/s]\n"
          ]
        }
      ]
    },
    {
      "cell_type": "code",
      "source": [
        "df_recipe = pd.concat(dfs, axis=0).reset_index(drop=True)\n",
        "df_recipe.shape"
      ],
      "metadata": {
        "colab": {
          "base_uri": "https://localhost:8080/"
        },
        "id": "rv3MZK2KRZ49",
        "outputId": "84cd885b-0f87-405a-fe95-76c279aaf7fe"
      },
      "execution_count": null,
      "outputs": [
        {
          "output_type": "execute_result",
          "data": {
            "text/plain": [
              "(331572, 5)"
            ]
          },
          "metadata": {},
          "execution_count": 41
        }
      ]
    },
    {
      "cell_type": "code",
      "source": [
        "df_recipe.head()"
      ],
      "metadata": {
        "colab": {
          "base_uri": "https://localhost:8080/",
          "height": 206
        },
        "id": "h3thaPbqTBIb",
        "outputId": "d4e4a6a2-a086-4811-ad2d-51a8b387e161"
      },
      "execution_count": null,
      "outputs": [
        {
          "output_type": "execute_result",
          "data": {
            "text/plain": [
              "       id   menu ingred  num unit\n",
              "0  128671  어묵김말이     어묵    2    개\n",
              "1  128671  어묵김말이   김밥용김    3    장\n",
              "2  128671  어묵김말이     당면    1   움큼\n",
              "3  128671  어묵김말이     양파  0.5    개\n",
              "4  128671  어묵김말이     당근  0.5    개"
            ],
            "text/html": [
              "\n",
              "  <div id=\"df-e04f2a22-7135-4124-85b6-dfdf4ba54a1d\">\n",
              "    <div class=\"colab-df-container\">\n",
              "      <div>\n",
              "<style scoped>\n",
              "    .dataframe tbody tr th:only-of-type {\n",
              "        vertical-align: middle;\n",
              "    }\n",
              "\n",
              "    .dataframe tbody tr th {\n",
              "        vertical-align: top;\n",
              "    }\n",
              "\n",
              "    .dataframe thead th {\n",
              "        text-align: right;\n",
              "    }\n",
              "</style>\n",
              "<table border=\"1\" class=\"dataframe\">\n",
              "  <thead>\n",
              "    <tr style=\"text-align: right;\">\n",
              "      <th></th>\n",
              "      <th>id</th>\n",
              "      <th>menu</th>\n",
              "      <th>ingred</th>\n",
              "      <th>num</th>\n",
              "      <th>unit</th>\n",
              "    </tr>\n",
              "  </thead>\n",
              "  <tbody>\n",
              "    <tr>\n",
              "      <th>0</th>\n",
              "      <td>128671</td>\n",
              "      <td>어묵김말이</td>\n",
              "      <td>어묵</td>\n",
              "      <td>2</td>\n",
              "      <td>개</td>\n",
              "    </tr>\n",
              "    <tr>\n",
              "      <th>1</th>\n",
              "      <td>128671</td>\n",
              "      <td>어묵김말이</td>\n",
              "      <td>김밥용김</td>\n",
              "      <td>3</td>\n",
              "      <td>장</td>\n",
              "    </tr>\n",
              "    <tr>\n",
              "      <th>2</th>\n",
              "      <td>128671</td>\n",
              "      <td>어묵김말이</td>\n",
              "      <td>당면</td>\n",
              "      <td>1</td>\n",
              "      <td>움큼</td>\n",
              "    </tr>\n",
              "    <tr>\n",
              "      <th>3</th>\n",
              "      <td>128671</td>\n",
              "      <td>어묵김말이</td>\n",
              "      <td>양파</td>\n",
              "      <td>0.5</td>\n",
              "      <td>개</td>\n",
              "    </tr>\n",
              "    <tr>\n",
              "      <th>4</th>\n",
              "      <td>128671</td>\n",
              "      <td>어묵김말이</td>\n",
              "      <td>당근</td>\n",
              "      <td>0.5</td>\n",
              "      <td>개</td>\n",
              "    </tr>\n",
              "  </tbody>\n",
              "</table>\n",
              "</div>\n",
              "      <button class=\"colab-df-convert\" onclick=\"convertToInteractive('df-e04f2a22-7135-4124-85b6-dfdf4ba54a1d')\"\n",
              "              title=\"Convert this dataframe to an interactive table.\"\n",
              "              style=\"display:none;\">\n",
              "        \n",
              "  <svg xmlns=\"http://www.w3.org/2000/svg\" height=\"24px\"viewBox=\"0 0 24 24\"\n",
              "       width=\"24px\">\n",
              "    <path d=\"M0 0h24v24H0V0z\" fill=\"none\"/>\n",
              "    <path d=\"M18.56 5.44l.94 2.06.94-2.06 2.06-.94-2.06-.94-.94-2.06-.94 2.06-2.06.94zm-11 1L8.5 8.5l.94-2.06 2.06-.94-2.06-.94L8.5 2.5l-.94 2.06-2.06.94zm10 10l.94 2.06.94-2.06 2.06-.94-2.06-.94-.94-2.06-.94 2.06-2.06.94z\"/><path d=\"M17.41 7.96l-1.37-1.37c-.4-.4-.92-.59-1.43-.59-.52 0-1.04.2-1.43.59L10.3 9.45l-7.72 7.72c-.78.78-.78 2.05 0 2.83L4 21.41c.39.39.9.59 1.41.59.51 0 1.02-.2 1.41-.59l7.78-7.78 2.81-2.81c.8-.78.8-2.07 0-2.86zM5.41 20L4 18.59l7.72-7.72 1.47 1.35L5.41 20z\"/>\n",
              "  </svg>\n",
              "      </button>\n",
              "      \n",
              "  <style>\n",
              "    .colab-df-container {\n",
              "      display:flex;\n",
              "      flex-wrap:wrap;\n",
              "      gap: 12px;\n",
              "    }\n",
              "\n",
              "    .colab-df-convert {\n",
              "      background-color: #E8F0FE;\n",
              "      border: none;\n",
              "      border-radius: 50%;\n",
              "      cursor: pointer;\n",
              "      display: none;\n",
              "      fill: #1967D2;\n",
              "      height: 32px;\n",
              "      padding: 0 0 0 0;\n",
              "      width: 32px;\n",
              "    }\n",
              "\n",
              "    .colab-df-convert:hover {\n",
              "      background-color: #E2EBFA;\n",
              "      box-shadow: 0px 1px 2px rgba(60, 64, 67, 0.3), 0px 1px 3px 1px rgba(60, 64, 67, 0.15);\n",
              "      fill: #174EA6;\n",
              "    }\n",
              "\n",
              "    [theme=dark] .colab-df-convert {\n",
              "      background-color: #3B4455;\n",
              "      fill: #D2E3FC;\n",
              "    }\n",
              "\n",
              "    [theme=dark] .colab-df-convert:hover {\n",
              "      background-color: #434B5C;\n",
              "      box-shadow: 0px 1px 3px 1px rgba(0, 0, 0, 0.15);\n",
              "      filter: drop-shadow(0px 1px 2px rgba(0, 0, 0, 0.3));\n",
              "      fill: #FFFFFF;\n",
              "    }\n",
              "  </style>\n",
              "\n",
              "      <script>\n",
              "        const buttonEl =\n",
              "          document.querySelector('#df-e04f2a22-7135-4124-85b6-dfdf4ba54a1d button.colab-df-convert');\n",
              "        buttonEl.style.display =\n",
              "          google.colab.kernel.accessAllowed ? 'block' : 'none';\n",
              "\n",
              "        async function convertToInteractive(key) {\n",
              "          const element = document.querySelector('#df-e04f2a22-7135-4124-85b6-dfdf4ba54a1d');\n",
              "          const dataTable =\n",
              "            await google.colab.kernel.invokeFunction('convertToInteractive',\n",
              "                                                     [key], {});\n",
              "          if (!dataTable) return;\n",
              "\n",
              "          const docLinkHtml = 'Like what you see? Visit the ' +\n",
              "            '<a target=\"_blank\" href=https://colab.research.google.com/notebooks/data_table.ipynb>data table notebook</a>'\n",
              "            + ' to learn more about interactive tables.';\n",
              "          element.innerHTML = '';\n",
              "          dataTable['output_type'] = 'display_data';\n",
              "          await google.colab.output.renderOutput(dataTable, element);\n",
              "          const docLink = document.createElement('div');\n",
              "          docLink.innerHTML = docLinkHtml;\n",
              "          element.appendChild(docLink);\n",
              "        }\n",
              "      </script>\n",
              "    </div>\n",
              "  </div>\n",
              "  "
            ]
          },
          "metadata": {},
          "execution_count": 42
        }
      ]
    }
  ]
}