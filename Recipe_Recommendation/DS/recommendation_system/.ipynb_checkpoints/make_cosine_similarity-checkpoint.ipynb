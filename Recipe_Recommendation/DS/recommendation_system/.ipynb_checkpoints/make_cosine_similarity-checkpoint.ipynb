{
 "cells": [
  {
   "cell_type": "markdown",
   "id": "30af8fca",
   "metadata": {},
   "source": [
    "# 추천시스템에 사용할 코사인 유사도\n",
    "기존의 노트북을 사용하면 MemoryError가 발생하였기 때문에 다른 노트북을 사용하여 진행하겠습니다."
   ]
  },
  {
   "cell_type": "code",
   "execution_count": 1,
   "id": "39e046da",
   "metadata": {
    "ExecuteTime": {
     "end_time": "2022-09-07T12:41:01.334372Z",
     "start_time": "2022-09-07T12:40:58.509471Z"
    }
   },
   "outputs": [],
   "source": [
    "import pandas as pd\n",
    "from sklearn.preprocessing import StandardScaler\n",
    "from sklearn.metrics.pairwise import cosine_similarity"
   ]
  },
  {
   "cell_type": "markdown",
   "id": "f4d28965",
   "metadata": {},
   "source": [
    "텍스트 전처리한 파일을 불러옵니다."
   ]
  },
  {
   "cell_type": "code",
   "execution_count": 2,
   "id": "c78c8225",
   "metadata": {
    "ExecuteTime": {
     "end_time": "2022-09-07T12:41:22.228631Z",
     "start_time": "2022-09-07T12:41:02.241823Z"
    }
   },
   "outputs": [
    {
     "data": {
      "text/plain": [
       "(56744, 21114)"
      ]
     },
     "execution_count": 2,
     "metadata": {},
     "output_type": "execute_result"
    }
   ],
   "source": [
    "df = pd.read_pickle('modeling_text_data2.pkl')\n",
    "index = df['id']\n",
    "df.shape"
   ]
  },
  {
   "cell_type": "markdown",
   "id": "e94e30f8",
   "metadata": {},
   "source": [
    "데이터의 스케일을 맞추어줍니다.\n",
    "- ex) 100g, 1개 등등"
   ]
  },
  {
   "cell_type": "code",
   "execution_count": 3,
   "id": "f056cb30",
   "metadata": {
    "ExecuteTime": {
     "end_time": "2022-09-07T12:42:18.820148Z",
     "start_time": "2022-09-07T12:41:34.018487Z"
    }
   },
   "outputs": [
    {
     "data": {
      "text/plain": [
       "array([[-4.11902464, -0.03383911, -0.00587727, ..., -0.00419801,\n",
       "        -0.00419801, -0.00419801],\n",
       "       [-4.11688109, -0.03383911, -0.00587727, ..., -0.00419801,\n",
       "        -0.00419801, -0.00419801],\n",
       "       [-4.1119402 , -0.03383911, -0.00587727, ..., -0.00419801,\n",
       "        -0.00419801, -0.00419801],\n",
       "       ...,\n",
       "       [ 0.45194348, -0.03383911, -0.00587727, ..., -0.00419801,\n",
       "        -0.00419801, -0.00419801],\n",
       "       [ 0.45194549, -0.03383911, -0.00587727, ..., -0.00419801,\n",
       "        -0.00419801, -0.00419801],\n",
       "       [ 0.4519475 , -0.03383911, -0.00587727, ..., -0.00419801,\n",
       "        -0.00419801, -0.00419801]])"
      ]
     },
     "execution_count": 3,
     "metadata": {},
     "output_type": "execute_result"
    }
   ],
   "source": [
    "scaler =StandardScaler()\n",
    "scaled_df = scaler.fit_transform(df)\n",
    "scaled_df"
   ]
  },
  {
   "cell_type": "markdown",
   "id": "2195a6a0",
   "metadata": {},
   "source": [
    "코사인 유사도를 구해줍니다."
   ]
  },
  {
   "cell_type": "code",
   "execution_count": 4,
   "id": "2cc332df",
   "metadata": {
    "ExecuteTime": {
     "end_time": "2022-09-07T12:50:18.524548Z",
     "start_time": "2022-09-07T12:42:20.099107Z"
    }
   },
   "outputs": [
    {
     "name": "stdout",
     "output_type": "stream",
     "text": [
      "코사인 유사도 연산 결과 :  (56744, 56744)\n"
     ]
    }
   ],
   "source": [
    "scaled_cos = cosine_similarity(scaled_df, scaled_df)\n",
    "print('코사인 유사도 연산 결과 : ', scaled_cos.shape)"
   ]
  },
  {
   "cell_type": "markdown",
   "id": "d81feed0",
   "metadata": {
    "ExecuteTime": {
     "end_time": "2022-09-13T03:03:53.946539Z",
     "start_time": "2022-09-13T03:03:53.936538Z"
    }
   },
   "source": [
    "램의 공간을 확보하기 위하여 사용하지 않는 변수를 제거해줍니다."
   ]
  },
  {
   "cell_type": "code",
   "execution_count": 5,
   "id": "0815d47b",
   "metadata": {
    "ExecuteTime": {
     "end_time": "2022-09-07T12:50:36.219760Z",
     "start_time": "2022-09-07T12:50:36.202757Z"
    }
   },
   "outputs": [],
   "source": [
    "del scaled_df"
   ]
  },
  {
   "cell_type": "code",
   "execution_count": 6,
   "id": "a5490d5c",
   "metadata": {
    "ExecuteTime": {
     "end_time": "2022-09-07T12:50:38.667025Z",
     "start_time": "2022-09-07T12:50:38.649022Z"
    }
   },
   "outputs": [
    {
     "data": {
      "text/plain": [
       "array([[ 1.        ,  0.02099662,  0.1632386 , ..., -0.00567935,\n",
       "        -0.0129643 , -0.04767167],\n",
       "       [ 0.02099662,  1.        ,  0.11523747, ..., -0.0026846 ,\n",
       "        -0.00493963, -0.01717929],\n",
       "       [ 0.1632386 ,  0.11523747,  1.        , ..., -0.01499806,\n",
       "        -0.02012817, -0.06075413],\n",
       "       ...,\n",
       "       [-0.00567935, -0.0026846 , -0.01499806, ...,  1.        ,\n",
       "        -0.00101715,  0.00952434],\n",
       "       [-0.0129643 , -0.00493963, -0.02012817, ..., -0.00101715,\n",
       "         1.        ,  0.06019024],\n",
       "       [-0.04767167, -0.01717929, -0.06075413, ...,  0.00952434,\n",
       "         0.06019024,  1.        ]])"
      ]
     },
     "execution_count": 6,
     "metadata": {},
     "output_type": "execute_result"
    }
   ],
   "source": [
    "scaled_cos"
   ]
  },
  {
   "cell_type": "markdown",
   "id": "5dc9bb77",
   "metadata": {},
   "source": [
    "일련변호를 확인하기 위하여 데이터프레임으로 변경해줍니다."
   ]
  },
  {
   "cell_type": "code",
   "execution_count": 7,
   "id": "9f7fb1c6",
   "metadata": {
    "ExecuteTime": {
     "end_time": "2022-09-07T12:50:48.773923Z",
     "start_time": "2022-09-07T12:50:48.682927Z"
    }
   },
   "outputs": [
    {
     "data": {
      "text/html": [
       "<div>\n",
       "<style scoped>\n",
       "    .dataframe tbody tr th:only-of-type {\n",
       "        vertical-align: middle;\n",
       "    }\n",
       "\n",
       "    .dataframe tbody tr th {\n",
       "        vertical-align: top;\n",
       "    }\n",
       "\n",
       "    .dataframe thead th {\n",
       "        text-align: right;\n",
       "    }\n",
       "</style>\n",
       "<table border=\"1\" class=\"dataframe\">\n",
       "  <thead>\n",
       "    <tr style=\"text-align: right;\">\n",
       "      <th>id</th>\n",
       "      <th>128671</th>\n",
       "      <th>131871</th>\n",
       "      <th>139247</th>\n",
       "      <th>149207</th>\n",
       "      <th>151148</th>\n",
       "      <th>153040</th>\n",
       "      <th>221094</th>\n",
       "      <th>221097</th>\n",
       "      <th>221098</th>\n",
       "      <th>221101</th>\n",
       "      <th>...</th>\n",
       "      <th>6952431</th>\n",
       "      <th>6952433</th>\n",
       "      <th>6952434</th>\n",
       "      <th>6952435</th>\n",
       "      <th>6952436</th>\n",
       "      <th>6952437</th>\n",
       "      <th>6952438</th>\n",
       "      <th>6952443</th>\n",
       "      <th>6952446</th>\n",
       "      <th>6952449</th>\n",
       "    </tr>\n",
       "    <tr>\n",
       "      <th>id</th>\n",
       "      <th></th>\n",
       "      <th></th>\n",
       "      <th></th>\n",
       "      <th></th>\n",
       "      <th></th>\n",
       "      <th></th>\n",
       "      <th></th>\n",
       "      <th></th>\n",
       "      <th></th>\n",
       "      <th></th>\n",
       "      <th></th>\n",
       "      <th></th>\n",
       "      <th></th>\n",
       "      <th></th>\n",
       "      <th></th>\n",
       "      <th></th>\n",
       "      <th></th>\n",
       "      <th></th>\n",
       "      <th></th>\n",
       "      <th></th>\n",
       "      <th></th>\n",
       "    </tr>\n",
       "  </thead>\n",
       "  <tbody>\n",
       "    <tr>\n",
       "      <th>128671</th>\n",
       "      <td>1.000000</td>\n",
       "      <td>0.020997</td>\n",
       "      <td>0.163239</td>\n",
       "      <td>0.172677</td>\n",
       "      <td>0.002692</td>\n",
       "      <td>0.172736</td>\n",
       "      <td>0.132333</td>\n",
       "      <td>0.046045</td>\n",
       "      <td>0.062765</td>\n",
       "      <td>0.002869</td>\n",
       "      <td>...</td>\n",
       "      <td>0.000922</td>\n",
       "      <td>-0.001055</td>\n",
       "      <td>-0.010069</td>\n",
       "      <td>-0.008509</td>\n",
       "      <td>-0.073098</td>\n",
       "      <td>-0.073990</td>\n",
       "      <td>-0.001984</td>\n",
       "      <td>-0.005679</td>\n",
       "      <td>-0.012964</td>\n",
       "      <td>-0.047672</td>\n",
       "    </tr>\n",
       "    <tr>\n",
       "      <th>131871</th>\n",
       "      <td>0.020997</td>\n",
       "      <td>1.000000</td>\n",
       "      <td>0.115237</td>\n",
       "      <td>0.121909</td>\n",
       "      <td>0.001914</td>\n",
       "      <td>0.121953</td>\n",
       "      <td>0.093496</td>\n",
       "      <td>0.002822</td>\n",
       "      <td>0.044254</td>\n",
       "      <td>0.002035</td>\n",
       "      <td>...</td>\n",
       "      <td>-0.002276</td>\n",
       "      <td>-0.000513</td>\n",
       "      <td>-0.005374</td>\n",
       "      <td>-0.003137</td>\n",
       "      <td>-0.025270</td>\n",
       "      <td>-0.024805</td>\n",
       "      <td>-0.000826</td>\n",
       "      <td>-0.002685</td>\n",
       "      <td>-0.004940</td>\n",
       "      <td>-0.017179</td>\n",
       "    </tr>\n",
       "    <tr>\n",
       "      <th>139247</th>\n",
       "      <td>0.163239</td>\n",
       "      <td>0.115237</td>\n",
       "      <td>1.000000</td>\n",
       "      <td>0.944339</td>\n",
       "      <td>0.014898</td>\n",
       "      <td>0.944696</td>\n",
       "      <td>0.724774</td>\n",
       "      <td>0.021935</td>\n",
       "      <td>0.343365</td>\n",
       "      <td>0.015808</td>\n",
       "      <td>...</td>\n",
       "      <td>-0.013676</td>\n",
       "      <td>-0.003649</td>\n",
       "      <td>-0.034028</td>\n",
       "      <td>-0.021018</td>\n",
       "      <td>-0.080133</td>\n",
       "      <td>-0.071908</td>\n",
       "      <td>-0.003830</td>\n",
       "      <td>-0.014998</td>\n",
       "      <td>-0.020128</td>\n",
       "      <td>-0.060754</td>\n",
       "    </tr>\n",
       "    <tr>\n",
       "      <th>149207</th>\n",
       "      <td>0.172677</td>\n",
       "      <td>0.121909</td>\n",
       "      <td>0.944339</td>\n",
       "      <td>1.000000</td>\n",
       "      <td>0.015760</td>\n",
       "      <td>0.999427</td>\n",
       "      <td>0.766762</td>\n",
       "      <td>0.023204</td>\n",
       "      <td>0.363248</td>\n",
       "      <td>0.016723</td>\n",
       "      <td>...</td>\n",
       "      <td>-0.014419</td>\n",
       "      <td>-0.003853</td>\n",
       "      <td>-0.035918</td>\n",
       "      <td>-0.022103</td>\n",
       "      <td>-0.082790</td>\n",
       "      <td>-0.073989</td>\n",
       "      <td>-0.004011</td>\n",
       "      <td>-0.015786</td>\n",
       "      <td>-0.020991</td>\n",
       "      <td>-0.063050</td>\n",
       "    </tr>\n",
       "    <tr>\n",
       "      <th>151148</th>\n",
       "      <td>0.002692</td>\n",
       "      <td>0.001914</td>\n",
       "      <td>0.014898</td>\n",
       "      <td>0.015760</td>\n",
       "      <td>1.000000</td>\n",
       "      <td>0.015765</td>\n",
       "      <td>0.012072</td>\n",
       "      <td>0.000362</td>\n",
       "      <td>0.005703</td>\n",
       "      <td>0.000261</td>\n",
       "      <td>...</td>\n",
       "      <td>-0.000453</td>\n",
       "      <td>-0.000105</td>\n",
       "      <td>-0.001001</td>\n",
       "      <td>-0.000874</td>\n",
       "      <td>-0.007879</td>\n",
       "      <td>-0.008008</td>\n",
       "      <td>-0.000208</td>\n",
       "      <td>-0.000580</td>\n",
       "      <td>-0.001376</td>\n",
       "      <td>-0.005107</td>\n",
       "    </tr>\n",
       "  </tbody>\n",
       "</table>\n",
       "<p>5 rows × 56744 columns</p>\n",
       "</div>"
      ],
      "text/plain": [
       "id       128671    131871    139247    149207    151148    153040    221094   \\\n",
       "id                                                                             \n",
       "128671  1.000000  0.020997  0.163239  0.172677  0.002692  0.172736  0.132333   \n",
       "131871  0.020997  1.000000  0.115237  0.121909  0.001914  0.121953  0.093496   \n",
       "139247  0.163239  0.115237  1.000000  0.944339  0.014898  0.944696  0.724774   \n",
       "149207  0.172677  0.121909  0.944339  1.000000  0.015760  0.999427  0.766762   \n",
       "151148  0.002692  0.001914  0.014898  0.015760  1.000000  0.015765  0.012072   \n",
       "\n",
       "id       221097    221098    221101   ...   6952431   6952433   6952434  \\\n",
       "id                                    ...                                 \n",
       "128671  0.046045  0.062765  0.002869  ...  0.000922 -0.001055 -0.010069   \n",
       "131871  0.002822  0.044254  0.002035  ... -0.002276 -0.000513 -0.005374   \n",
       "139247  0.021935  0.343365  0.015808  ... -0.013676 -0.003649 -0.034028   \n",
       "149207  0.023204  0.363248  0.016723  ... -0.014419 -0.003853 -0.035918   \n",
       "151148  0.000362  0.005703  0.000261  ... -0.000453 -0.000105 -0.001001   \n",
       "\n",
       "id       6952435   6952436   6952437   6952438   6952443   6952446   6952449  \n",
       "id                                                                            \n",
       "128671 -0.008509 -0.073098 -0.073990 -0.001984 -0.005679 -0.012964 -0.047672  \n",
       "131871 -0.003137 -0.025270 -0.024805 -0.000826 -0.002685 -0.004940 -0.017179  \n",
       "139247 -0.021018 -0.080133 -0.071908 -0.003830 -0.014998 -0.020128 -0.060754  \n",
       "149207 -0.022103 -0.082790 -0.073989 -0.004011 -0.015786 -0.020991 -0.063050  \n",
       "151148 -0.000874 -0.007879 -0.008008 -0.000208 -0.000580 -0.001376 -0.005107  \n",
       "\n",
       "[5 rows x 56744 columns]"
      ]
     },
     "execution_count": 7,
     "metadata": {},
     "output_type": "execute_result"
    }
   ],
   "source": [
    "cosine_df = pd.DataFrame(scaled_cos, index=index, columns=index)\n",
    "cosine_df.head()"
   ]
  },
  {
   "cell_type": "markdown",
   "id": "96abd197",
   "metadata": {},
   "source": [
    "위와 같은 이유로 제거합니다."
   ]
  },
  {
   "cell_type": "code",
   "execution_count": 8,
   "id": "1bd5b9e1",
   "metadata": {
    "ExecuteTime": {
     "end_time": "2022-09-07T12:50:53.052939Z",
     "start_time": "2022-09-07T12:50:53.043938Z"
    }
   },
   "outputs": [],
   "source": [
    "del scaled_cos"
   ]
  },
  {
   "cell_type": "markdown",
   "id": "88f7e928",
   "metadata": {
    "ExecuteTime": {
     "end_time": "2022-09-13T03:05:18.369808Z",
     "start_time": "2022-09-13T03:05:18.363807Z"
    }
   },
   "source": [
    "위에서 생성한 코사인유사도 데이터프레임을 이용하여  \n",
    "number로 들어오는 일련번호와 가장 유사한 일련번호 10개를 추출합니다."
   ]
  },
  {
   "cell_type": "code",
   "execution_count": 9,
   "id": "09206b54",
   "metadata": {
    "ExecuteTime": {
     "end_time": "2022-09-07T12:50:55.259962Z",
     "start_time": "2022-09-07T12:50:55.251961Z"
    }
   },
   "outputs": [],
   "source": [
    "def new_get_recommendations(number):\n",
    "    return cosine_df[number].sort_values(ascending=False).index[1:11]"
   ]
  },
  {
   "cell_type": "code",
   "execution_count": 10,
   "id": "bea8524c",
   "metadata": {
    "ExecuteTime": {
     "end_time": "2022-09-07T12:50:57.455535Z",
     "start_time": "2022-09-07T12:50:57.377537Z"
    }
   },
   "outputs": [],
   "source": [
    "cosine_df.columns = cosine_df.columns.map(str)"
   ]
  },
  {
   "cell_type": "code",
   "execution_count": 11,
   "id": "2a230595",
   "metadata": {
    "ExecuteTime": {
     "end_time": "2022-09-07T12:51:00.471846Z",
     "start_time": "2022-09-07T12:51:00.443848Z"
    },
    "scrolled": true
   },
   "outputs": [
    {
     "data": {
      "text/html": [
       "<div>\n",
       "<style scoped>\n",
       "    .dataframe tbody tr th:only-of-type {\n",
       "        vertical-align: middle;\n",
       "    }\n",
       "\n",
       "    .dataframe tbody tr th {\n",
       "        vertical-align: top;\n",
       "    }\n",
       "\n",
       "    .dataframe thead th {\n",
       "        text-align: right;\n",
       "    }\n",
       "</style>\n",
       "<table border=\"1\" class=\"dataframe\">\n",
       "  <thead>\n",
       "    <tr style=\"text-align: right;\">\n",
       "      <th>id</th>\n",
       "      <th>128671</th>\n",
       "      <th>131871</th>\n",
       "      <th>139247</th>\n",
       "      <th>149207</th>\n",
       "      <th>151148</th>\n",
       "      <th>153040</th>\n",
       "      <th>221094</th>\n",
       "      <th>221097</th>\n",
       "      <th>221098</th>\n",
       "      <th>221101</th>\n",
       "      <th>...</th>\n",
       "      <th>6952431</th>\n",
       "      <th>6952433</th>\n",
       "      <th>6952434</th>\n",
       "      <th>6952435</th>\n",
       "      <th>6952436</th>\n",
       "      <th>6952437</th>\n",
       "      <th>6952438</th>\n",
       "      <th>6952443</th>\n",
       "      <th>6952446</th>\n",
       "      <th>6952449</th>\n",
       "    </tr>\n",
       "    <tr>\n",
       "      <th>id</th>\n",
       "      <th></th>\n",
       "      <th></th>\n",
       "      <th></th>\n",
       "      <th></th>\n",
       "      <th></th>\n",
       "      <th></th>\n",
       "      <th></th>\n",
       "      <th></th>\n",
       "      <th></th>\n",
       "      <th></th>\n",
       "      <th></th>\n",
       "      <th></th>\n",
       "      <th></th>\n",
       "      <th></th>\n",
       "      <th></th>\n",
       "      <th></th>\n",
       "      <th></th>\n",
       "      <th></th>\n",
       "      <th></th>\n",
       "      <th></th>\n",
       "      <th></th>\n",
       "    </tr>\n",
       "  </thead>\n",
       "  <tbody>\n",
       "    <tr>\n",
       "      <th>128671</th>\n",
       "      <td>1.000000</td>\n",
       "      <td>0.020997</td>\n",
       "      <td>0.163239</td>\n",
       "      <td>0.172677</td>\n",
       "      <td>0.002692</td>\n",
       "      <td>0.172736</td>\n",
       "      <td>0.132333</td>\n",
       "      <td>0.046045</td>\n",
       "      <td>0.062765</td>\n",
       "      <td>0.002869</td>\n",
       "      <td>...</td>\n",
       "      <td>0.000922</td>\n",
       "      <td>-0.001055</td>\n",
       "      <td>-0.010069</td>\n",
       "      <td>-0.008509</td>\n",
       "      <td>-0.073098</td>\n",
       "      <td>-0.073990</td>\n",
       "      <td>-0.001984</td>\n",
       "      <td>-0.005679</td>\n",
       "      <td>-0.012964</td>\n",
       "      <td>-0.047672</td>\n",
       "    </tr>\n",
       "    <tr>\n",
       "      <th>131871</th>\n",
       "      <td>0.020997</td>\n",
       "      <td>1.000000</td>\n",
       "      <td>0.115237</td>\n",
       "      <td>0.121909</td>\n",
       "      <td>0.001914</td>\n",
       "      <td>0.121953</td>\n",
       "      <td>0.093496</td>\n",
       "      <td>0.002822</td>\n",
       "      <td>0.044254</td>\n",
       "      <td>0.002035</td>\n",
       "      <td>...</td>\n",
       "      <td>-0.002276</td>\n",
       "      <td>-0.000513</td>\n",
       "      <td>-0.005374</td>\n",
       "      <td>-0.003137</td>\n",
       "      <td>-0.025270</td>\n",
       "      <td>-0.024805</td>\n",
       "      <td>-0.000826</td>\n",
       "      <td>-0.002685</td>\n",
       "      <td>-0.004940</td>\n",
       "      <td>-0.017179</td>\n",
       "    </tr>\n",
       "    <tr>\n",
       "      <th>139247</th>\n",
       "      <td>0.163239</td>\n",
       "      <td>0.115237</td>\n",
       "      <td>1.000000</td>\n",
       "      <td>0.944339</td>\n",
       "      <td>0.014898</td>\n",
       "      <td>0.944696</td>\n",
       "      <td>0.724774</td>\n",
       "      <td>0.021935</td>\n",
       "      <td>0.343365</td>\n",
       "      <td>0.015808</td>\n",
       "      <td>...</td>\n",
       "      <td>-0.013676</td>\n",
       "      <td>-0.003649</td>\n",
       "      <td>-0.034028</td>\n",
       "      <td>-0.021018</td>\n",
       "      <td>-0.080133</td>\n",
       "      <td>-0.071908</td>\n",
       "      <td>-0.003830</td>\n",
       "      <td>-0.014998</td>\n",
       "      <td>-0.020128</td>\n",
       "      <td>-0.060754</td>\n",
       "    </tr>\n",
       "    <tr>\n",
       "      <th>149207</th>\n",
       "      <td>0.172677</td>\n",
       "      <td>0.121909</td>\n",
       "      <td>0.944339</td>\n",
       "      <td>1.000000</td>\n",
       "      <td>0.015760</td>\n",
       "      <td>0.999427</td>\n",
       "      <td>0.766762</td>\n",
       "      <td>0.023204</td>\n",
       "      <td>0.363248</td>\n",
       "      <td>0.016723</td>\n",
       "      <td>...</td>\n",
       "      <td>-0.014419</td>\n",
       "      <td>-0.003853</td>\n",
       "      <td>-0.035918</td>\n",
       "      <td>-0.022103</td>\n",
       "      <td>-0.082790</td>\n",
       "      <td>-0.073989</td>\n",
       "      <td>-0.004011</td>\n",
       "      <td>-0.015786</td>\n",
       "      <td>-0.020991</td>\n",
       "      <td>-0.063050</td>\n",
       "    </tr>\n",
       "    <tr>\n",
       "      <th>151148</th>\n",
       "      <td>0.002692</td>\n",
       "      <td>0.001914</td>\n",
       "      <td>0.014898</td>\n",
       "      <td>0.015760</td>\n",
       "      <td>1.000000</td>\n",
       "      <td>0.015765</td>\n",
       "      <td>0.012072</td>\n",
       "      <td>0.000362</td>\n",
       "      <td>0.005703</td>\n",
       "      <td>0.000261</td>\n",
       "      <td>...</td>\n",
       "      <td>-0.000453</td>\n",
       "      <td>-0.000105</td>\n",
       "      <td>-0.001001</td>\n",
       "      <td>-0.000874</td>\n",
       "      <td>-0.007879</td>\n",
       "      <td>-0.008008</td>\n",
       "      <td>-0.000208</td>\n",
       "      <td>-0.000580</td>\n",
       "      <td>-0.001376</td>\n",
       "      <td>-0.005107</td>\n",
       "    </tr>\n",
       "  </tbody>\n",
       "</table>\n",
       "<p>5 rows × 56744 columns</p>\n",
       "</div>"
      ],
      "text/plain": [
       "id        128671    131871    139247    149207    151148    153040    221094  \\\n",
       "id                                                                             \n",
       "128671  1.000000  0.020997  0.163239  0.172677  0.002692  0.172736  0.132333   \n",
       "131871  0.020997  1.000000  0.115237  0.121909  0.001914  0.121953  0.093496   \n",
       "139247  0.163239  0.115237  1.000000  0.944339  0.014898  0.944696  0.724774   \n",
       "149207  0.172677  0.121909  0.944339  1.000000  0.015760  0.999427  0.766762   \n",
       "151148  0.002692  0.001914  0.014898  0.015760  1.000000  0.015765  0.012072   \n",
       "\n",
       "id        221097    221098    221101  ...   6952431   6952433   6952434  \\\n",
       "id                                    ...                                 \n",
       "128671  0.046045  0.062765  0.002869  ...  0.000922 -0.001055 -0.010069   \n",
       "131871  0.002822  0.044254  0.002035  ... -0.002276 -0.000513 -0.005374   \n",
       "139247  0.021935  0.343365  0.015808  ... -0.013676 -0.003649 -0.034028   \n",
       "149207  0.023204  0.363248  0.016723  ... -0.014419 -0.003853 -0.035918   \n",
       "151148  0.000362  0.005703  0.000261  ... -0.000453 -0.000105 -0.001001   \n",
       "\n",
       "id       6952435   6952436   6952437   6952438   6952443   6952446   6952449  \n",
       "id                                                                            \n",
       "128671 -0.008509 -0.073098 -0.073990 -0.001984 -0.005679 -0.012964 -0.047672  \n",
       "131871 -0.003137 -0.025270 -0.024805 -0.000826 -0.002685 -0.004940 -0.017179  \n",
       "139247 -0.021018 -0.080133 -0.071908 -0.003830 -0.014998 -0.020128 -0.060754  \n",
       "149207 -0.022103 -0.082790 -0.073989 -0.004011 -0.015786 -0.020991 -0.063050  \n",
       "151148 -0.000874 -0.007879 -0.008008 -0.000208 -0.000580 -0.001376 -0.005107  \n",
       "\n",
       "[5 rows x 56744 columns]"
      ]
     },
     "execution_count": 11,
     "metadata": {},
     "output_type": "execute_result"
    }
   ],
   "source": [
    "cosine_df.head()"
   ]
  },
  {
   "cell_type": "code",
   "execution_count": 12,
   "id": "56c99446",
   "metadata": {
    "ExecuteTime": {
     "end_time": "2022-09-07T12:51:02.843540Z",
     "start_time": "2022-09-07T12:51:02.822541Z"
    }
   },
   "outputs": [
    {
     "data": {
      "text/plain": [
       "Int64Index([5008005, 3641944, 3933232, 6925602, 6944586, 5352105, 2957910,\n",
       "            2579264, 6890606, 5839673],\n",
       "           dtype='int64', name='id')"
      ]
     },
     "execution_count": 12,
     "metadata": {},
     "output_type": "execute_result"
    }
   ],
   "source": [
    "new_get_recommendations('128671')"
   ]
  },
  {
   "cell_type": "code",
   "execution_count": 13,
   "id": "88956a49",
   "metadata": {
    "ExecuteTime": {
     "end_time": "2022-09-07T12:51:07.067909Z",
     "start_time": "2022-09-07T12:51:07.036912Z"
    }
   },
   "outputs": [
    {
     "data": {
      "text/plain": [
       "[5008005,\n",
       " 3641944,\n",
       " 3933232,\n",
       " 6925602,\n",
       " 6944586,\n",
       " 5352105,\n",
       " 2957910,\n",
       " 2579264,\n",
       " 6890606,\n",
       " 5839673]"
      ]
     },
     "execution_count": 13,
     "metadata": {},
     "output_type": "execute_result"
    }
   ],
   "source": [
    "list(new_get_recommendations('128671'))"
   ]
  },
  {
   "cell_type": "markdown",
   "id": "5f007297",
   "metadata": {},
   "source": [
    "결과를 담을 데이터 프레임을 생성해줍니다."
   ]
  },
  {
   "cell_type": "code",
   "execution_count": 23,
   "id": "a13e09fe",
   "metadata": {
    "ExecuteTime": {
     "end_time": "2022-09-07T12:54:08.582133Z",
     "start_time": "2022-09-07T12:54:08.531139Z"
    }
   },
   "outputs": [
    {
     "data": {
      "text/html": [
       "<div>\n",
       "<style scoped>\n",
       "    .dataframe tbody tr th:only-of-type {\n",
       "        vertical-align: middle;\n",
       "    }\n",
       "\n",
       "    .dataframe tbody tr th {\n",
       "        vertical-align: top;\n",
       "    }\n",
       "\n",
       "    .dataframe thead th {\n",
       "        text-align: right;\n",
       "    }\n",
       "</style>\n",
       "<table border=\"1\" class=\"dataframe\">\n",
       "  <thead>\n",
       "    <tr style=\"text-align: right;\">\n",
       "      <th></th>\n",
       "      <th>1</th>\n",
       "      <th>2</th>\n",
       "      <th>3</th>\n",
       "      <th>4</th>\n",
       "      <th>5</th>\n",
       "      <th>6</th>\n",
       "      <th>7</th>\n",
       "      <th>8</th>\n",
       "      <th>9</th>\n",
       "      <th>10</th>\n",
       "    </tr>\n",
       "    <tr>\n",
       "      <th>id</th>\n",
       "      <th></th>\n",
       "      <th></th>\n",
       "      <th></th>\n",
       "      <th></th>\n",
       "      <th></th>\n",
       "      <th></th>\n",
       "      <th></th>\n",
       "      <th></th>\n",
       "      <th></th>\n",
       "      <th></th>\n",
       "    </tr>\n",
       "  </thead>\n",
       "  <tbody>\n",
       "    <tr>\n",
       "      <th>128671</th>\n",
       "      <td>5008005</td>\n",
       "      <td>3641944</td>\n",
       "      <td>3933232</td>\n",
       "      <td>6925602</td>\n",
       "      <td>6944586</td>\n",
       "      <td>5352105</td>\n",
       "      <td>2957910</td>\n",
       "      <td>2579264</td>\n",
       "      <td>6890606</td>\n",
       "      <td>5839673</td>\n",
       "    </tr>\n",
       "    <tr>\n",
       "      <th>131871</th>\n",
       "      <td>NaN</td>\n",
       "      <td>NaN</td>\n",
       "      <td>NaN</td>\n",
       "      <td>NaN</td>\n",
       "      <td>NaN</td>\n",
       "      <td>NaN</td>\n",
       "      <td>NaN</td>\n",
       "      <td>NaN</td>\n",
       "      <td>NaN</td>\n",
       "      <td>NaN</td>\n",
       "    </tr>\n",
       "    <tr>\n",
       "      <th>139247</th>\n",
       "      <td>NaN</td>\n",
       "      <td>NaN</td>\n",
       "      <td>NaN</td>\n",
       "      <td>NaN</td>\n",
       "      <td>NaN</td>\n",
       "      <td>NaN</td>\n",
       "      <td>NaN</td>\n",
       "      <td>NaN</td>\n",
       "      <td>NaN</td>\n",
       "      <td>NaN</td>\n",
       "    </tr>\n",
       "    <tr>\n",
       "      <th>149207</th>\n",
       "      <td>NaN</td>\n",
       "      <td>NaN</td>\n",
       "      <td>NaN</td>\n",
       "      <td>NaN</td>\n",
       "      <td>NaN</td>\n",
       "      <td>NaN</td>\n",
       "      <td>NaN</td>\n",
       "      <td>NaN</td>\n",
       "      <td>NaN</td>\n",
       "      <td>NaN</td>\n",
       "    </tr>\n",
       "    <tr>\n",
       "      <th>151148</th>\n",
       "      <td>NaN</td>\n",
       "      <td>NaN</td>\n",
       "      <td>NaN</td>\n",
       "      <td>NaN</td>\n",
       "      <td>NaN</td>\n",
       "      <td>NaN</td>\n",
       "      <td>NaN</td>\n",
       "      <td>NaN</td>\n",
       "      <td>NaN</td>\n",
       "      <td>NaN</td>\n",
       "    </tr>\n",
       "    <tr>\n",
       "      <th>...</th>\n",
       "      <td>...</td>\n",
       "      <td>...</td>\n",
       "      <td>...</td>\n",
       "      <td>...</td>\n",
       "      <td>...</td>\n",
       "      <td>...</td>\n",
       "      <td>...</td>\n",
       "      <td>...</td>\n",
       "      <td>...</td>\n",
       "      <td>...</td>\n",
       "    </tr>\n",
       "    <tr>\n",
       "      <th>6952437</th>\n",
       "      <td>NaN</td>\n",
       "      <td>NaN</td>\n",
       "      <td>NaN</td>\n",
       "      <td>NaN</td>\n",
       "      <td>NaN</td>\n",
       "      <td>NaN</td>\n",
       "      <td>NaN</td>\n",
       "      <td>NaN</td>\n",
       "      <td>NaN</td>\n",
       "      <td>NaN</td>\n",
       "    </tr>\n",
       "    <tr>\n",
       "      <th>6952438</th>\n",
       "      <td>NaN</td>\n",
       "      <td>NaN</td>\n",
       "      <td>NaN</td>\n",
       "      <td>NaN</td>\n",
       "      <td>NaN</td>\n",
       "      <td>NaN</td>\n",
       "      <td>NaN</td>\n",
       "      <td>NaN</td>\n",
       "      <td>NaN</td>\n",
       "      <td>NaN</td>\n",
       "    </tr>\n",
       "    <tr>\n",
       "      <th>6952443</th>\n",
       "      <td>NaN</td>\n",
       "      <td>NaN</td>\n",
       "      <td>NaN</td>\n",
       "      <td>NaN</td>\n",
       "      <td>NaN</td>\n",
       "      <td>NaN</td>\n",
       "      <td>NaN</td>\n",
       "      <td>NaN</td>\n",
       "      <td>NaN</td>\n",
       "      <td>NaN</td>\n",
       "    </tr>\n",
       "    <tr>\n",
       "      <th>6952446</th>\n",
       "      <td>NaN</td>\n",
       "      <td>NaN</td>\n",
       "      <td>NaN</td>\n",
       "      <td>NaN</td>\n",
       "      <td>NaN</td>\n",
       "      <td>NaN</td>\n",
       "      <td>NaN</td>\n",
       "      <td>NaN</td>\n",
       "      <td>NaN</td>\n",
       "      <td>NaN</td>\n",
       "    </tr>\n",
       "    <tr>\n",
       "      <th>6952449</th>\n",
       "      <td>NaN</td>\n",
       "      <td>NaN</td>\n",
       "      <td>NaN</td>\n",
       "      <td>NaN</td>\n",
       "      <td>NaN</td>\n",
       "      <td>NaN</td>\n",
       "      <td>NaN</td>\n",
       "      <td>NaN</td>\n",
       "      <td>NaN</td>\n",
       "      <td>NaN</td>\n",
       "    </tr>\n",
       "  </tbody>\n",
       "</table>\n",
       "<p>56744 rows × 10 columns</p>\n",
       "</div>"
      ],
      "text/plain": [
       "               1        2        3        4        5        6        7  \\\n",
       "id                                                                       \n",
       "128671   5008005  3641944  3933232  6925602  6944586  5352105  2957910   \n",
       "131871       NaN      NaN      NaN      NaN      NaN      NaN      NaN   \n",
       "139247       NaN      NaN      NaN      NaN      NaN      NaN      NaN   \n",
       "149207       NaN      NaN      NaN      NaN      NaN      NaN      NaN   \n",
       "151148       NaN      NaN      NaN      NaN      NaN      NaN      NaN   \n",
       "...          ...      ...      ...      ...      ...      ...      ...   \n",
       "6952437      NaN      NaN      NaN      NaN      NaN      NaN      NaN   \n",
       "6952438      NaN      NaN      NaN      NaN      NaN      NaN      NaN   \n",
       "6952443      NaN      NaN      NaN      NaN      NaN      NaN      NaN   \n",
       "6952446      NaN      NaN      NaN      NaN      NaN      NaN      NaN   \n",
       "6952449      NaN      NaN      NaN      NaN      NaN      NaN      NaN   \n",
       "\n",
       "               8        9       10  \n",
       "id                                  \n",
       "128671   2579264  6890606  5839673  \n",
       "131871       NaN      NaN      NaN  \n",
       "139247       NaN      NaN      NaN  \n",
       "149207       NaN      NaN      NaN  \n",
       "151148       NaN      NaN      NaN  \n",
       "...          ...      ...      ...  \n",
       "6952437      NaN      NaN      NaN  \n",
       "6952438      NaN      NaN      NaN  \n",
       "6952443      NaN      NaN      NaN  \n",
       "6952446      NaN      NaN      NaN  \n",
       "6952449      NaN      NaN      NaN  \n",
       "\n",
       "[56744 rows x 10 columns]"
      ]
     },
     "execution_count": 23,
     "metadata": {},
     "output_type": "execute_result"
    }
   ],
   "source": [
    "cosine_similarity = pd.DataFrame(index=cosine_df.index, columns=['1','2','3','4','5','6','7','8','9','10'])\n",
    "cosine_similarity.loc[128671, :] = list(new_get_recommendations(str(128671)))\n",
    "cosine_similarity                                        "
   ]
  },
  {
   "cell_type": "code",
   "execution_count": 25,
   "id": "c6e0a741",
   "metadata": {
    "ExecuteTime": {
     "end_time": "2022-09-07T13:09:49.992892Z",
     "start_time": "2022-09-07T12:55:29.143224Z"
    }
   },
   "outputs": [
    {
     "name": "stderr",
     "output_type": "stream",
     "text": [
      "100%|████████████████████████████████████████████████████████████████████████████| 56744/56744 [14:20<00:00, 65.92it/s]\n"
     ]
    }
   ],
   "source": [
    "from tqdm import tqdm\n",
    "for index in tqdm(cosine_df.index):\n",
    "    cosine_similarity.loc[index, :] = list(new_get_recommendations(str(index)))"
   ]
  },
  {
   "cell_type": "code",
   "execution_count": 26,
   "id": "53db0169",
   "metadata": {
    "ExecuteTime": {
     "end_time": "2022-09-07T13:15:18.166871Z",
     "start_time": "2022-09-07T13:15:18.154867Z"
    }
   },
   "outputs": [
    {
     "data": {
      "text/html": [
       "<div>\n",
       "<style scoped>\n",
       "    .dataframe tbody tr th:only-of-type {\n",
       "        vertical-align: middle;\n",
       "    }\n",
       "\n",
       "    .dataframe tbody tr th {\n",
       "        vertical-align: top;\n",
       "    }\n",
       "\n",
       "    .dataframe thead th {\n",
       "        text-align: right;\n",
       "    }\n",
       "</style>\n",
       "<table border=\"1\" class=\"dataframe\">\n",
       "  <thead>\n",
       "    <tr style=\"text-align: right;\">\n",
       "      <th></th>\n",
       "      <th>1</th>\n",
       "      <th>2</th>\n",
       "      <th>3</th>\n",
       "      <th>4</th>\n",
       "      <th>5</th>\n",
       "      <th>6</th>\n",
       "      <th>7</th>\n",
       "      <th>8</th>\n",
       "      <th>9</th>\n",
       "      <th>10</th>\n",
       "    </tr>\n",
       "    <tr>\n",
       "      <th>id</th>\n",
       "      <th></th>\n",
       "      <th></th>\n",
       "      <th></th>\n",
       "      <th></th>\n",
       "      <th></th>\n",
       "      <th></th>\n",
       "      <th></th>\n",
       "      <th></th>\n",
       "      <th></th>\n",
       "      <th></th>\n",
       "    </tr>\n",
       "  </thead>\n",
       "  <tbody>\n",
       "    <tr>\n",
       "      <th>128671</th>\n",
       "      <td>5008005</td>\n",
       "      <td>3641944</td>\n",
       "      <td>3933232</td>\n",
       "      <td>6925602</td>\n",
       "      <td>6944586</td>\n",
       "      <td>5352105</td>\n",
       "      <td>2957910</td>\n",
       "      <td>2579264</td>\n",
       "      <td>6890606</td>\n",
       "      <td>5839673</td>\n",
       "    </tr>\n",
       "    <tr>\n",
       "      <th>131871</th>\n",
       "      <td>4678183</td>\n",
       "      <td>3113453</td>\n",
       "      <td>6460600</td>\n",
       "      <td>5637217</td>\n",
       "      <td>6653633</td>\n",
       "      <td>1723961</td>\n",
       "      <td>6914543</td>\n",
       "      <td>6061517</td>\n",
       "      <td>6888361</td>\n",
       "      <td>3133338</td>\n",
       "    </tr>\n",
       "    <tr>\n",
       "      <th>139247</th>\n",
       "      <td>153040</td>\n",
       "      <td>149207</td>\n",
       "      <td>702096</td>\n",
       "      <td>742233</td>\n",
       "      <td>723670</td>\n",
       "      <td>841548</td>\n",
       "      <td>922763</td>\n",
       "      <td>997040</td>\n",
       "      <td>829070</td>\n",
       "      <td>558801</td>\n",
       "    </tr>\n",
       "    <tr>\n",
       "      <th>149207</th>\n",
       "      <td>153040</td>\n",
       "      <td>702096</td>\n",
       "      <td>742233</td>\n",
       "      <td>723670</td>\n",
       "      <td>841548</td>\n",
       "      <td>922763</td>\n",
       "      <td>997040</td>\n",
       "      <td>829070</td>\n",
       "      <td>1025981</td>\n",
       "      <td>558801</td>\n",
       "    </tr>\n",
       "    <tr>\n",
       "      <th>151148</th>\n",
       "      <td>3868741</td>\n",
       "      <td>6630762</td>\n",
       "      <td>6668626</td>\n",
       "      <td>6860224</td>\n",
       "      <td>6856572</td>\n",
       "      <td>6910878</td>\n",
       "      <td>6880773</td>\n",
       "      <td>6897435</td>\n",
       "      <td>6889785</td>\n",
       "      <td>2693646</td>\n",
       "    </tr>\n",
       "  </tbody>\n",
       "</table>\n",
       "</div>"
      ],
      "text/plain": [
       "              1        2        3        4        5        6        7  \\\n",
       "id                                                                      \n",
       "128671  5008005  3641944  3933232  6925602  6944586  5352105  2957910   \n",
       "131871  4678183  3113453  6460600  5637217  6653633  1723961  6914543   \n",
       "139247   153040   149207   702096   742233   723670   841548   922763   \n",
       "149207   153040   702096   742233   723670   841548   922763   997040   \n",
       "151148  3868741  6630762  6668626  6860224  6856572  6910878  6880773   \n",
       "\n",
       "              8        9       10  \n",
       "id                                 \n",
       "128671  2579264  6890606  5839673  \n",
       "131871  6061517  6888361  3133338  \n",
       "139247   997040   829070   558801  \n",
       "149207   829070  1025981   558801  \n",
       "151148  6897435  6889785  2693646  "
      ]
     },
     "execution_count": 26,
     "metadata": {},
     "output_type": "execute_result"
    }
   ],
   "source": [
    "cosine_similarity.head()"
   ]
  },
  {
   "cell_type": "code",
   "execution_count": 27,
   "id": "643a2e03",
   "metadata": {
    "ExecuteTime": {
     "end_time": "2022-09-07T13:15:21.348907Z",
     "start_time": "2022-09-07T13:15:21.308909Z"
    }
   },
   "outputs": [],
   "source": [
    "del cosine_df"
   ]
  },
  {
   "cell_type": "markdown",
   "id": "29697f0b",
   "metadata": {},
   "source": [
    "서비스에서 사용할 수 있도록 저장해줍니다."
   ]
  },
  {
   "cell_type": "code",
   "execution_count": 28,
   "id": "9285d678",
   "metadata": {
    "ExecuteTime": {
     "end_time": "2022-09-07T13:15:24.923796Z",
     "start_time": "2022-09-07T13:15:24.281838Z"
    }
   },
   "outputs": [],
   "source": [
    "cosine_similarity.to_parquet('cosine_similarity.parquet')"
   ]
  }
 ],
 "metadata": {
  "kernelspec": {
   "display_name": "Python 3 (ipykernel)",
   "language": "python",
   "name": "python3"
  },
  "language_info": {
   "codemirror_mode": {
    "name": "ipython",
    "version": 3
   },
   "file_extension": ".py",
   "mimetype": "text/x-python",
   "name": "python",
   "nbconvert_exporter": "python",
   "pygments_lexer": "ipython3",
   "version": "3.7.13"
  },
  "toc": {
   "base_numbering": 1,
   "nav_menu": {},
   "number_sections": true,
   "sideBar": true,
   "skip_h1_title": false,
   "title_cell": "Table of Contents",
   "title_sidebar": "Contents",
   "toc_cell": false,
   "toc_position": {},
   "toc_section_display": true,
   "toc_window_display": true
  },
  "varInspector": {
   "cols": {
    "lenName": 16,
    "lenType": 16,
    "lenVar": 40
   },
   "kernels_config": {
    "python": {
     "delete_cmd_postfix": "",
     "delete_cmd_prefix": "del ",
     "library": "var_list.py",
     "varRefreshCmd": "print(var_dic_list())"
    },
    "r": {
     "delete_cmd_postfix": ") ",
     "delete_cmd_prefix": "rm(",
     "library": "var_list.r",
     "varRefreshCmd": "cat(var_dic_list()) "
    }
   },
   "types_to_exclude": [
    "module",
    "function",
    "builtin_function_or_method",
    "instance",
    "_Feature"
   ],
   "window_display": false
  }
 },
 "nbformat": 4,
 "nbformat_minor": 5
}
