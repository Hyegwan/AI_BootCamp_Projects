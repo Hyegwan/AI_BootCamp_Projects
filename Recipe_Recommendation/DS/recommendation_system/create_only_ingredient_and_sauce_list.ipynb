{
 "cells": [
  {
   "cell_type": "markdown",
   "id": "9942479e",
   "metadata": {},
   "source": [
    "# 만개의 레시피 csv파일에서 재료부분만 추출하기 위한 노트북\n",
    "- 양념 리스트 또한 추출"
   ]
  },
  {
   "cell_type": "code",
   "execution_count": 1,
   "id": "c66ead2a",
   "metadata": {
    "ExecuteTime": {
     "end_time": "2022-09-07T14:03:35.063324Z",
     "start_time": "2022-09-07T14:03:33.931126Z"
    }
   },
   "outputs": [],
   "source": [
    "import pandas as pd\n",
    "from tqdm import tqdm"
   ]
  },
  {
   "cell_type": "code",
   "execution_count": 2,
   "id": "4dc47490",
   "metadata": {
    "ExecuteTime": {
     "end_time": "2022-09-07T14:03:36.671422Z",
     "start_time": "2022-09-07T14:03:36.624425Z"
    },
    "scrolled": true
   },
   "outputs": [
    {
     "data": {
      "text/html": [
       "<div>\n",
       "<style scoped>\n",
       "    .dataframe tbody tr th:only-of-type {\n",
       "        vertical-align: middle;\n",
       "    }\n",
       "\n",
       "    .dataframe tbody tr th {\n",
       "        vertical-align: top;\n",
       "    }\n",
       "\n",
       "    .dataframe thead th {\n",
       "        text-align: right;\n",
       "    }\n",
       "</style>\n",
       "<table border=\"1\" class=\"dataframe\">\n",
       "  <thead>\n",
       "    <tr style=\"text-align: right;\">\n",
       "      <th></th>\n",
       "      <th>레시피일련번호</th>\n",
       "      <th>데이터</th>\n",
       "      <th>재료만</th>\n",
       "    </tr>\n",
       "  </thead>\n",
       "  <tbody>\n",
       "    <tr>\n",
       "      <th>0</th>\n",
       "      <td>12345</td>\n",
       "      <td>[[당근, 1개], [양파, 2개], [밀가루, 500g], [참기름, 1스푼], []]</td>\n",
       "      <td>[당근, 양파, 밀가루]</td>\n",
       "    </tr>\n",
       "    <tr>\n",
       "      <th>1</th>\n",
       "      <td>23456</td>\n",
       "      <td>[[양배추, 1개], [고추장, 2스푼], [식용유, 1컵]]</td>\n",
       "      <td>[양배추]</td>\n",
       "    </tr>\n",
       "    <tr>\n",
       "      <th>2</th>\n",
       "      <td>34567</td>\n",
       "      <td>[[당근, 1개], [밥, 2공기], [찰밥, 2공기], [드라이 이스트, 2개],...</td>\n",
       "      <td>[인스턴스 드라이 이스트, 밥, 찰밥, 당근 1/2개]</td>\n",
       "    </tr>\n",
       "    <tr>\n",
       "      <th>3</th>\n",
       "      <td>45678</td>\n",
       "      <td>[[고추장, 2스푼], [식용유, 1컵]]</td>\n",
       "      <td>[]</td>\n",
       "    </tr>\n",
       "  </tbody>\n",
       "</table>\n",
       "</div>"
      ],
      "text/plain": [
       "   레시피일련번호                                                데이터  \\\n",
       "0    12345  [[당근, 1개], [양파, 2개], [밀가루, 500g], [참기름, 1스푼], []]   \n",
       "1    23456                 [[양배추, 1개], [고추장, 2스푼], [식용유, 1컵]]   \n",
       "2    34567  [[당근, 1개], [밥, 2공기], [찰밥, 2공기], [드라이 이스트, 2개],...   \n",
       "3    45678                            [[고추장, 2스푼], [식용유, 1컵]]   \n",
       "\n",
       "                              재료만  \n",
       "0                   [당근, 양파, 밀가루]  \n",
       "1                           [양배추]  \n",
       "2  [인스턴스 드라이 이스트, 밥, 찰밥, 당근 1/2개]  \n",
       "3                              []  "
      ]
     },
     "execution_count": 2,
     "metadata": {},
     "output_type": "execute_result"
    }
   ],
   "source": [
    "columns = ['레시피일련번호','데이터','재료만']\n",
    "data = {'레시피일련번호' :  [12345, 23456, 34567, 45678],\n",
    "        '데이터' : [[['당근','1개'],['양파', '2개'], ['밀가루', '500g'], ['참기름', '1스푼'],[]],\n",
    "                    [['양배추', '1개'], ['고추장','2스푼'],['식용유', '1컵']],\n",
    "                    [['당근','1개'],['밥','2공기'],['찰밥','2공기'],['드라이 이스트', '2개'],['소금','약간'],['올리브유','적당량']],\n",
    "                    [['고추장','2스푼'],['식용유', '1컵']]],\n",
    "        '재료만' : [['당근','양파','밀가루'],\n",
    "                    ['양배추'],\n",
    "                    ['인스턴스 드라이 이스트','밥','찰밥','당근 1/2개'],\n",
    "                 []]\n",
    "       }\n",
    "test_df = pd.DataFrame(columns=columns, data=data)\n",
    "test_df"
   ]
  },
  {
   "cell_type": "code",
   "execution_count": 3,
   "id": "9032c50b",
   "metadata": {
    "ExecuteTime": {
     "end_time": "2022-09-07T14:03:40.342752Z",
     "start_time": "2022-09-07T14:03:40.325753Z"
    }
   },
   "outputs": [
    {
     "name": "stdout",
     "output_type": "stream",
     "text": [
      "[['당근', '1개'], ['양파', '2개'], ['밀가루', '500g']]\n",
      "[['양배추', '1개']]\n",
      "[['당근', '1개'], ['밥', '2공기'], ['밥', '2공기'], ['찰밥', '2공기'], ['드라이 이스트', '2개']]\n",
      "[['고추장', '2스푼'], ['식용유', '1컵']]\n"
     ]
    }
   ],
   "source": [
    "for i in range(len(test_df)):\n",
    "    lst = []\n",
    "    for data in test_df['데이터'][i]:\n",
    "        if len(data) == 0:\n",
    "            pass\n",
    "        else:\n",
    "            if len(test_df['재료만'][i]) == 0:\n",
    "                    lst.append(data)\n",
    "            for word in test_df['재료만'][i]:\n",
    "                if data[0] in word:\n",
    "                    lst.append(data)\n",
    "    print(lst)"
   ]
  },
  {
   "cell_type": "code",
   "execution_count": 4,
   "id": "d0b82e2b",
   "metadata": {
    "ExecuteTime": {
     "end_time": "2022-09-07T14:03:43.979924Z",
     "start_time": "2022-09-07T14:03:42.078944Z"
    }
   },
   "outputs": [
    {
     "data": {
      "text/plain": [
       "(114512, 18)"
      ]
     },
     "execution_count": 4,
     "metadata": {},
     "output_type": "execute_result"
    }
   ],
   "source": [
    "try:\n",
    "    path = 'C:\\\\Users\\\\User\\\\Desktop\\\\AIB_13\\\\CP1\\\\data\\\\만개의 레시피.csv'\n",
    "except:\n",
    "    path = '/content/drive/MyDrive/CP1/만개의 레시피.csv'\n",
    "df = pd.read_csv(path, encoding='cp949')\n",
    "df = df.dropna()\n",
    "df = df.reset_index(drop=True)\n",
    "df.shape\n"
   ]
  },
  {
   "cell_type": "code",
   "execution_count": 5,
   "id": "edd5ef17",
   "metadata": {
    "ExecuteTime": {
     "end_time": "2022-09-07T14:03:47.483462Z",
     "start_time": "2022-09-07T14:03:47.453468Z"
    },
    "scrolled": true
   },
   "outputs": [
    {
     "data": {
      "text/plain": [
       "0         [재료] 어묵 2개| 김밥용김 3장| 당면 1움큼| 양파 1/2개| 당근 1/2개|...\n",
       "1                  [재료] 현미 4컵| 찹쌀 2컵| 호두 50g| 물 1/2컵| 소금 약간\n",
       "2         [재료] 북어포 1마리| 찹쌀가루 1C [양념] 간장 2T| 설탕 1T| 물 1T|...\n",
       "3         [재료] 파스타면 [양념] 토마토 1개| 토마토 페이스트 3T| 양파 1/2개| 다...\n",
       "4         [재료] 건표고버섯 9개| 오이 1/2개| 당근 1/2개| 양파 1/2개| 사과 1...\n",
       "                                ...                        \n",
       "114507    [재료] 양배추 1/4통| 양파 1/2개| 편마늘 1숟가락| 식용유 적당히| 물 2...\n",
       "114508    [재료] 박력분 200g| 버터 70g| 크림치즈 70g| 설탕 100g| 계란 1...\n",
       "114509    [재료] 포항초 300g| 건다시마 작은크기4~5장| 다시멸치 1줌| 홍고추 1개|...\n",
       "114510    [재료] 식빵 4장| 감자 2개| 양파 1/4개| 피망 1/4개| 계란 2개| 치즈...\n",
       "114511    [재료] 배추잎 8~10장| 홍고추 1개| 계란 2개 [양념] 부침가루(메밀) 5큰...\n",
       "Name: CKG_MTRL_CN, Length: 114512, dtype: object"
      ]
     },
     "execution_count": 5,
     "metadata": {},
     "output_type": "execute_result"
    }
   ],
   "source": [
    "data = df['CKG_MTRL_CN'].copy()\n",
    "data = data.dropna()\n",
    "data"
   ]
  },
  {
   "cell_type": "markdown",
   "id": "7ec0ab96",
   "metadata": {},
   "source": [
    "소괄호 제거하는 함수"
   ]
  },
  {
   "cell_type": "code",
   "execution_count": 6,
   "id": "b32fa28a",
   "metadata": {
    "ExecuteTime": {
     "end_time": "2022-09-07T14:03:50.245912Z",
     "start_time": "2022-09-07T14:03:50.222913Z"
    }
   },
   "outputs": [],
   "source": [
    "from collections import deque\n",
    "def remove_small_brackets(word):\n",
    "  start_q = deque()\n",
    "  end_q = deque()\n",
    "  index = set()\n",
    "  for i in range(len(word)):\n",
    "    if word[i] == '(':\n",
    "      start_q.append(i)\n",
    "  for i in range(len(word)):\n",
    "    if word[i] == ')':\n",
    "      end_q.append(i)\n",
    "  \n",
    "  while True:\n",
    "    if len(start_q) == 0 or len(end_q) == 0:\n",
    "      break\n",
    "    index.add((start_q.popleft(), end_q.popleft()))\n",
    "  index_list = list(index)\n",
    "  if len(start_q) != 0 or len(end_q) != 0:\n",
    "    return word\n",
    "  else:\n",
    "    for index in index_list:\n",
    "      drop_word = word[index[0]:index[1]+1]\n",
    "      word = word.replace(drop_word, '')\n",
    "    return word"
   ]
  },
  {
   "cell_type": "markdown",
   "id": "5e3ef958",
   "metadata": {},
   "source": [
    "# 재료만 추출"
   ]
  },
  {
   "cell_type": "markdown",
   "id": "c2b0c848",
   "metadata": {},
   "source": [
    "대괄호를 제거하는 함수"
   ]
  },
  {
   "cell_type": "code",
   "execution_count": 7,
   "id": "8998e3e7",
   "metadata": {
    "ExecuteTime": {
     "end_time": "2022-09-07T14:03:52.238922Z",
     "start_time": "2022-09-07T14:03:52.219905Z"
    }
   },
   "outputs": [],
   "source": [
    "from collections import deque\n",
    "def remove_big_brackets(word):\n",
    "  start_q = deque()\n",
    "  end_q = deque()\n",
    "  index = set()\n",
    "  for i in range(len(word)):\n",
    "    if word[i] == '[':\n",
    "      start_q.append(i)\n",
    "  for i in range(len(word)):\n",
    "    if word[i] == ']':\n",
    "      end_q.append(i)\n",
    "  \n",
    "  while True:\n",
    "    if len(start_q) == 0 or len(end_q) == 0:\n",
    "      break\n",
    "    index.add((start_q.popleft(), end_q.popleft()))\n",
    "  index_list = list(index)\n",
    "  if len(start_q) != 0 or len(end_q) != 0:\n",
    "    return word\n",
    "  else:\n",
    "    for index in index_list:\n",
    "      drop_word = word[index[0]:index[1]+1]\n",
    "      word = word.replace(drop_word, '')\n",
    "    return word"
   ]
  },
  {
   "cell_type": "markdown",
   "id": "72d8979e",
   "metadata": {},
   "source": [
    "전체 데이터를 돌면서 대괄호를 파악하여 '[양념]'을 포함하여 뒷 부분을 제거합니다.  \n",
    "데이터의 모든 '[재료]'를 포함한 모든 대괄호를 제거합니다."
   ]
  },
  {
   "cell_type": "code",
   "execution_count": 8,
   "id": "8698af90",
   "metadata": {
    "ExecuteTime": {
     "end_time": "2022-09-07T14:04:55.150874Z",
     "start_time": "2022-09-07T14:03:54.603328Z"
    },
    "scrolled": true
   },
   "outputs": [
    {
     "name": "stderr",
     "output_type": "stream",
     "text": [
      "100%|████████████████████████████████████████████████████████████████████████| 114512/114512 [01:00<00:00, 1892.23it/s]\n"
     ]
    }
   ],
   "source": [
    "for i in tqdm(range(len(data))):\n",
    "    temp = []\n",
    "    for j in range(len(data[i])):\n",
    "        if data[i][j] =='[':\n",
    "            temp.append(j)\n",
    "    end_index = len(data[i])\n",
    "    if len(temp) > 1:\n",
    "        end_index = temp[1]\n",
    "    ingre = data[i][:end_index]\n",
    "    ingre = remove_big_brackets(ingre).strip()\n",
    "    data[i] = ingre"
   ]
  },
  {
   "cell_type": "markdown",
   "id": "1be81b04",
   "metadata": {},
   "source": [
    "새로운 컬럼을 생성해줍니다."
   ]
  },
  {
   "cell_type": "code",
   "execution_count": 9,
   "id": "e1d4d355",
   "metadata": {
    "ExecuteTime": {
     "end_time": "2022-09-07T14:05:20.615736Z",
     "start_time": "2022-09-07T14:05:20.601740Z"
    }
   },
   "outputs": [
    {
     "data": {
      "text/plain": [
       "0         None\n",
       "1         None\n",
       "2         None\n",
       "3         None\n",
       "4         None\n",
       "          ... \n",
       "114507    None\n",
       "114508    None\n",
       "114509    None\n",
       "114510    None\n",
       "114511    None\n",
       "Name: only_ingred, Length: 114512, dtype: object"
      ]
     },
     "execution_count": 9,
     "metadata": {},
     "output_type": "execute_result"
    }
   ],
   "source": [
    "df['only_ingred'] = None\n",
    "df['only_ingred']"
   ]
  },
  {
   "cell_type": "markdown",
   "id": "fd4604fa",
   "metadata": {},
   "source": [
    "'|'기준으로 문장을 나누고, 나누어진 리스트에서 문자를 추출하여 양 옆 공백을 제거해준뒤  \n",
    "문자에 포함되어 있는 소괄호를 제거해줍니다.\n",
    "\n",
    "다시 공백을 기준으로 문자를 나눈 후에  \n",
    "생성된 리스트의 길이가 3개가 이상이라면 마지막(단위부분)을 제외하고 추출합니다.  \n",
    "만약 3개 이하라면 앞에 있는 데이터만 추출합니다."
   ]
  },
  {
   "cell_type": "code",
   "execution_count": 10,
   "id": "da7595e5",
   "metadata": {
    "ExecuteTime": {
     "end_time": "2022-09-07T14:05:23.133191Z",
     "start_time": "2022-09-07T14:05:23.114191Z"
    }
   },
   "outputs": [],
   "source": [
    "#한쪽만 존재하는 소괄호를 제거하는 함수\n",
    "def remove_one_bracket(word):\n",
    "    if word.find('(') > -1:\n",
    "        idx = word.find('(')\n",
    "        return word[:idx]\n",
    "    if word.find(')') > -1:\n",
    "        idx = word.find(')')\n",
    "        return word[:idx]\n",
    "    return word"
   ]
  },
  {
   "cell_type": "code",
   "execution_count": 11,
   "id": "50487b4d",
   "metadata": {
    "ExecuteTime": {
     "end_time": "2022-09-07T14:05:23.418205Z",
     "start_time": "2022-09-07T14:05:23.399206Z"
    }
   },
   "outputs": [
    {
     "data": {
      "text/plain": [
       "'소금'"
      ]
     },
     "execution_count": 11,
     "metadata": {},
     "output_type": "execute_result"
    }
   ],
   "source": [
    "word = '소금(asd'\n",
    "remove_one_bracket(word)"
   ]
  },
  {
   "cell_type": "code",
   "execution_count": 12,
   "id": "2a8da62e",
   "metadata": {
    "ExecuteTime": {
     "end_time": "2022-09-07T14:05:57.111222Z",
     "start_time": "2022-09-07T14:05:24.929654Z"
    },
    "scrolled": true
   },
   "outputs": [
    {
     "name": "stderr",
     "output_type": "stream",
     "text": [
      "  0%|                                                                                       | 0/114512 [00:00<?, ?it/s]C:\\Users\\User\\AppData\\Local\\Temp\\ipykernel_24348\\445727793.py:14: SettingWithCopyWarning: \n",
      "A value is trying to be set on a copy of a slice from a DataFrame\n",
      "\n",
      "See the caveats in the documentation: https://pandas.pydata.org/pandas-docs/stable/user_guide/indexing.html#returning-a-view-versus-a-copy\n",
      "  df['only_ingred'][i] = lst\n",
      "100%|████████████████████████████████████████████████████████████████████████| 114512/114512 [00:32<00:00, 3559.31it/s]\n"
     ]
    }
   ],
   "source": [
    "for i in tqdm(range(len(data))):\n",
    "    lst =[]\n",
    "    for word in data[i].split('|'):\n",
    "        word = word.strip()\n",
    "        word = remove_small_brackets(word)\n",
    "        word = remove_one_bracket(word)\n",
    "        li = word.split()\n",
    "        if li != []:\n",
    "            if len(li) < 3:\n",
    "                lst.append(li[0])\n",
    "            else:\n",
    "                string = ' '\n",
    "                lst.append(string.join(li[:-1]))\n",
    "    df['only_ingred'][i] = lst"
   ]
  },
  {
   "cell_type": "code",
   "execution_count": 13,
   "id": "d8acf514",
   "metadata": {
    "ExecuteTime": {
     "end_time": "2022-09-07T14:06:12.760668Z",
     "start_time": "2022-09-07T14:06:12.702669Z"
    },
    "scrolled": false
   },
   "outputs": [
    {
     "data": {
      "text/html": [
       "<div>\n",
       "<style scoped>\n",
       "    .dataframe tbody tr th:only-of-type {\n",
       "        vertical-align: middle;\n",
       "    }\n",
       "\n",
       "    .dataframe tbody tr th {\n",
       "        vertical-align: top;\n",
       "    }\n",
       "\n",
       "    .dataframe thead th {\n",
       "        text-align: right;\n",
       "    }\n",
       "</style>\n",
       "<table border=\"1\" class=\"dataframe\">\n",
       "  <thead>\n",
       "    <tr style=\"text-align: right;\">\n",
       "      <th></th>\n",
       "      <th>CKG_MTRL_CN</th>\n",
       "      <th>only_ingred</th>\n",
       "    </tr>\n",
       "  </thead>\n",
       "  <tbody>\n",
       "    <tr>\n",
       "      <th>0</th>\n",
       "      <td>[재료] 어묵 2개| 김밥용김 3장| 당면 1움큼| 양파 1/2개| 당근 1/2개|...</td>\n",
       "      <td>[어묵, 김밥용김, 당면, 양파, 당근, 깻잎, 튀김가루, 올리브유, 간장, 참기름]</td>\n",
       "    </tr>\n",
       "    <tr>\n",
       "      <th>1</th>\n",
       "      <td>[재료] 현미 4컵| 찹쌀 2컵| 호두 50g| 물 1/2컵| 소금 약간</td>\n",
       "      <td>[현미, 찹쌀, 호두, 물, 소금]</td>\n",
       "    </tr>\n",
       "    <tr>\n",
       "      <th>2</th>\n",
       "      <td>[재료] 북어포 1마리| 찹쌀가루 1C [양념] 간장 2T| 설탕 1T| 물 1T|...</td>\n",
       "      <td>[북어포, 찹쌀가루]</td>\n",
       "    </tr>\n",
       "    <tr>\n",
       "      <th>3</th>\n",
       "      <td>[재료] 파스타면 [양념] 토마토 1개| 토마토 페이스트 3T| 양파 1/2개| 다...</td>\n",
       "      <td>[파스타면]</td>\n",
       "    </tr>\n",
       "    <tr>\n",
       "      <th>4</th>\n",
       "      <td>[재료] 건표고버섯 9개| 오이 1/2개| 당근 1/2개| 양파 1/2개| 사과 1...</td>\n",
       "      <td>[건표고버섯, 오이, 당근, 양파, 사과, 그외의, 과일]</td>\n",
       "    </tr>\n",
       "    <tr>\n",
       "      <th>...</th>\n",
       "      <td>...</td>\n",
       "      <td>...</td>\n",
       "    </tr>\n",
       "    <tr>\n",
       "      <th>114507</th>\n",
       "      <td>[재료] 양배추 1/4통| 양파 1/2개| 편마늘 1숟가락| 식용유 적당히| 물 2...</td>\n",
       "      <td>[양배추, 양파, 편마늘, 식용유, 물, 고체 카레]</td>\n",
       "    </tr>\n",
       "    <tr>\n",
       "      <th>114508</th>\n",
       "      <td>[재료] 박력분 200g| 버터 70g| 크림치즈 70g| 설탕 100g| 계란 1...</td>\n",
       "      <td>[박력분, 버터, 크림치즈, 설탕, 계란, 소금, 바닐라향]</td>\n",
       "    </tr>\n",
       "    <tr>\n",
       "      <th>114509</th>\n",
       "      <td>[재료] 포항초 300g| 건다시마 작은크기4~5장| 다시멸치 1줌| 홍고추 1개|...</td>\n",
       "      <td>[포항초, 건다시마, 다시멸치, 홍고추, 대파, 새송이버섯]</td>\n",
       "    </tr>\n",
       "    <tr>\n",
       "      <th>114510</th>\n",
       "      <td>[재료] 식빵 4장| 감자 2개| 양파 1/4개| 피망 1/4개| 계란 2개| 치즈...</td>\n",
       "      <td>[식빵, 감자, 양파, 피망, 계란, 치즈, 게맛살]</td>\n",
       "    </tr>\n",
       "    <tr>\n",
       "      <th>114511</th>\n",
       "      <td>[재료] 배추잎 8~10장| 홍고추 1개| 계란 2개 [양념] 부침가루(메밀) 5큰...</td>\n",
       "      <td>[배추잎, 홍고추, 계란]</td>\n",
       "    </tr>\n",
       "  </tbody>\n",
       "</table>\n",
       "<p>114512 rows × 2 columns</p>\n",
       "</div>"
      ],
      "text/plain": [
       "                                              CKG_MTRL_CN  \\\n",
       "0       [재료] 어묵 2개| 김밥용김 3장| 당면 1움큼| 양파 1/2개| 당근 1/2개|...   \n",
       "1                [재료] 현미 4컵| 찹쌀 2컵| 호두 50g| 물 1/2컵| 소금 약간   \n",
       "2       [재료] 북어포 1마리| 찹쌀가루 1C [양념] 간장 2T| 설탕 1T| 물 1T|...   \n",
       "3       [재료] 파스타면 [양념] 토마토 1개| 토마토 페이스트 3T| 양파 1/2개| 다...   \n",
       "4       [재료] 건표고버섯 9개| 오이 1/2개| 당근 1/2개| 양파 1/2개| 사과 1...   \n",
       "...                                                   ...   \n",
       "114507  [재료] 양배추 1/4통| 양파 1/2개| 편마늘 1숟가락| 식용유 적당히| 물 2...   \n",
       "114508  [재료] 박력분 200g| 버터 70g| 크림치즈 70g| 설탕 100g| 계란 1...   \n",
       "114509  [재료] 포항초 300g| 건다시마 작은크기4~5장| 다시멸치 1줌| 홍고추 1개|...   \n",
       "114510  [재료] 식빵 4장| 감자 2개| 양파 1/4개| 피망 1/4개| 계란 2개| 치즈...   \n",
       "114511  [재료] 배추잎 8~10장| 홍고추 1개| 계란 2개 [양념] 부침가루(메밀) 5큰...   \n",
       "\n",
       "                                            only_ingred  \n",
       "0       [어묵, 김밥용김, 당면, 양파, 당근, 깻잎, 튀김가루, 올리브유, 간장, 참기름]  \n",
       "1                                   [현미, 찹쌀, 호두, 물, 소금]  \n",
       "2                                           [북어포, 찹쌀가루]  \n",
       "3                                                [파스타면]  \n",
       "4                      [건표고버섯, 오이, 당근, 양파, 사과, 그외의, 과일]  \n",
       "...                                                 ...  \n",
       "114507                    [양배추, 양파, 편마늘, 식용유, 물, 고체 카레]  \n",
       "114508                [박력분, 버터, 크림치즈, 설탕, 계란, 소금, 바닐라향]  \n",
       "114509                [포항초, 건다시마, 다시멸치, 홍고추, 대파, 새송이버섯]  \n",
       "114510                    [식빵, 감자, 양파, 피망, 계란, 치즈, 게맛살]  \n",
       "114511                                   [배추잎, 홍고추, 계란]  \n",
       "\n",
       "[114512 rows x 2 columns]"
      ]
     },
     "execution_count": 13,
     "metadata": {},
     "output_type": "execute_result"
    }
   ],
   "source": [
    "df[['CKG_MTRL_CN','only_ingred']]"
   ]
  },
  {
   "cell_type": "code",
   "execution_count": 14,
   "id": "b8d8e477",
   "metadata": {
    "ExecuteTime": {
     "end_time": "2022-09-07T14:06:36.578535Z",
     "start_time": "2022-09-07T14:06:35.683535Z"
    }
   },
   "outputs": [],
   "source": [
    "empty_index_lst = []\n",
    "for i in range(len(df['only_ingred'])):\n",
    "    if df['only_ingred'][i] == []:\n",
    "        empty_index_lst.append(i)"
   ]
  },
  {
   "cell_type": "code",
   "execution_count": 15,
   "id": "28e4c35f",
   "metadata": {
    "ExecuteTime": {
     "end_time": "2022-09-07T14:06:36.698535Z",
     "start_time": "2022-09-07T14:06:36.670536Z"
    }
   },
   "outputs": [
    {
     "data": {
      "text/html": [
       "<div>\n",
       "<style scoped>\n",
       "    .dataframe tbody tr th:only-of-type {\n",
       "        vertical-align: middle;\n",
       "    }\n",
       "\n",
       "    .dataframe tbody tr th {\n",
       "        vertical-align: top;\n",
       "    }\n",
       "\n",
       "    .dataframe thead th {\n",
       "        text-align: right;\n",
       "    }\n",
       "</style>\n",
       "<table border=\"1\" class=\"dataframe\">\n",
       "  <thead>\n",
       "    <tr style=\"text-align: right;\">\n",
       "      <th></th>\n",
       "      <th>RCP_SNO</th>\n",
       "      <th>CKG_MTRL_CN</th>\n",
       "      <th>only_ingred</th>\n",
       "    </tr>\n",
       "  </thead>\n",
       "  <tbody>\n",
       "    <tr>\n",
       "      <th>21796</th>\n",
       "      <td>6829965</td>\n",
       "      <td>[재료] [냉면무]| 냉면무 800g | 소금 3작은술| 식초 6큰술 | 매실청(설...</td>\n",
       "      <td>[]</td>\n",
       "    </tr>\n",
       "    <tr>\n",
       "      <th>36007</th>\n",
       "      <td>6849719</td>\n",
       "      <td>[재료]  [다쿠아즈] 흰자 95g(3개 분량)| 설탕 40g| 박력분 20g| 슈...</td>\n",
       "      <td>[]</td>\n",
       "    </tr>\n",
       "    <tr>\n",
       "      <th>38915</th>\n",
       "      <td>6853598</td>\n",
       "      <td>[]  [탕종] 밀가루 15g| 물 75g [본반죽] 우리밀 60g| 강력분 175...</td>\n",
       "      <td>[]</td>\n",
       "    </tr>\n",
       "    <tr>\n",
       "      <th>40838</th>\n",
       "      <td>6856687</td>\n",
       "      <td>[재료 : 고등어 2마리| 대파 1뿌리  무 조림 재료 : 무1개| 물 1|200c...</td>\n",
       "      <td>[]</td>\n",
       "    </tr>\n",
       "    <tr>\n",
       "      <th>40896</th>\n",
       "      <td>6856769</td>\n",
       "      <td>[재료]  [쿠키] 우리밀고소밀 160g| 비정제 설탕 40g| 계피가루 1ts| ...</td>\n",
       "      <td>[]</td>\n",
       "    </tr>\n",
       "    <tr>\n",
       "      <th>41369</th>\n",
       "      <td>6857405</td>\n",
       "      <td>[분량]  [쿠키부분] 녹인버터 100g| 설탕 50g| 박력분 150g| 베이킹 ...</td>\n",
       "      <td>[]</td>\n",
       "    </tr>\n",
       "    <tr>\n",
       "      <th>41398</th>\n",
       "      <td>6857441</td>\n",
       "      <td>[분량]  [쿠키반죽] 박력분 125g| 황치즈 분말 15g| 슈가파우더 50g| ...</td>\n",
       "      <td>[]</td>\n",
       "    </tr>\n",
       "    <tr>\n",
       "      <th>41447</th>\n",
       "      <td>6857503</td>\n",
       "      <td>[분량]  [땅콩쿠키] 박력분 120g| 버터 40g| 땅콩버터 45g| 설탕 40...</td>\n",
       "      <td>[]</td>\n",
       "    </tr>\n",
       "    <tr>\n",
       "      <th>43900</th>\n",
       "      <td>6861605</td>\n",
       "      <td>[재료] [배우유빙수]| 우유 450g| 배 450g| 연유 60g| [연유배밀크잼...</td>\n",
       "      <td>[]</td>\n",
       "    </tr>\n",
       "    <tr>\n",
       "      <th>43940</th>\n",
       "      <td>6861670</td>\n",
       "      <td>[재료]  [빵(8개 분량)] 강력분 200g| 물 95~115 g| 인스턴트 드라...</td>\n",
       "      <td>[]</td>\n",
       "    </tr>\n",
       "    <tr>\n",
       "      <th>43983</th>\n",
       "      <td>6861738</td>\n",
       "      <td>[]  [꼬끄(12개분량)] 흰자 65g| 아몬드 가루 77g| 코코아 파우더 10...</td>\n",
       "      <td>[]</td>\n",
       "    </tr>\n",
       "    <tr>\n",
       "      <th>44201</th>\n",
       "      <td>6862084</td>\n",
       "      <td>[재료]  [슈껍질(18개 분량)] 박력분 45g| 달걀 65g| 우유 35g| 물...</td>\n",
       "      <td>[]</td>\n",
       "    </tr>\n",
       "    <tr>\n",
       "      <th>44224</th>\n",
       "      <td>6862110</td>\n",
       "      <td>[재료]  [꼬끄(18개 정도 분량)] 흰자 67g| 아몬드가루 91g| 분당 91...</td>\n",
       "      <td>[]</td>\n",
       "    </tr>\n",
       "    <tr>\n",
       "      <th>62175</th>\n",
       "      <td>6885238</td>\n",
       "      <td>[재료(8개분량)]  [마들렌 반죽] 달걀 1개| 설탕 38g| 유자잼 24g| 우...</td>\n",
       "      <td>[]</td>\n",
       "    </tr>\n",
       "    <tr>\n",
       "      <th>89118</th>\n",
       "      <td>6920092</td>\n",
       "      <td>[재]  [필수재료] 찰옥수수 1개| 양파 1/4개| 마늘 2톨| 청양고추 2개| ...</td>\n",
       "      <td>[]</td>\n",
       "    </tr>\n",
       "    <tr>\n",
       "      <th>89860</th>\n",
       "      <td>6921043</td>\n",
       "      <td>[재료]  [재료] 채 썬 우엉 5줌| 물 1컵| 간장 6큰술| 고추장 1큰술| 청...</td>\n",
       "      <td>[]</td>\n",
       "    </tr>\n",
       "    <tr>\n",
       "      <th>92607</th>\n",
       "      <td>6924652</td>\n",
       "      <td>[재료]  [재료] 육수 건더기| 물 1L| 황설탕 1/2컵| 꽃소금 1/2 큰 술...</td>\n",
       "      <td>[]</td>\n",
       "    </tr>\n",
       "    <tr>\n",
       "      <th>92790</th>\n",
       "      <td>6924876</td>\n",
       "      <td>[재료(8개 분량)]  [다쿠아즈 시트] 흰자 110g| 아몬드가루 80g| 슈가파...</td>\n",
       "      <td>[]</td>\n",
       "    </tr>\n",
       "    <tr>\n",
       "      <th>96749</th>\n",
       "      <td>6929977</td>\n",
       "      <td>[재료(11개 분량)]  [단팥빵] 강력분 180g| 박력분 70g| 비정제 설탕 ...</td>\n",
       "      <td>[]</td>\n",
       "    </tr>\n",
       "    <tr>\n",
       "      <th>99408</th>\n",
       "      <td>6933406</td>\n",
       "      <td>[재료(12개분량)]  [탕종] 강력분 15g| 물 75g [본반죽] 강력분 235...</td>\n",
       "      <td>[]</td>\n",
       "    </tr>\n",
       "    <tr>\n",
       "      <th>101912</th>\n",
       "      <td>6936596</td>\n",
       "      <td>[]  [재료] 돼지고기 후지 슬라이스 260g| 숙주 약 1+1/3컵| 양파 약 ...</td>\n",
       "      <td>[]</td>\n",
       "    </tr>\n",
       "    <tr>\n",
       "      <th>108175</th>\n",
       "      <td>6944456</td>\n",
       "      <td>[재료]  [재료] 떡볶이 떡 20개| 사각어묵 2장| 대파 1/2대| 물 3컵 [...</td>\n",
       "      <td>[]</td>\n",
       "    </tr>\n",
       "    <tr>\n",
       "      <th>110358</th>\n",
       "      <td>6947227</td>\n",
       "      <td>[재료]  [풀리시] 강력분 63g| 물 63g| 인스턴트 드라이 이스트 크게 1꼬...</td>\n",
       "      <td>[]</td>\n",
       "    </tr>\n",
       "    <tr>\n",
       "      <th>111204</th>\n",
       "      <td>6948304</td>\n",
       "      <td>[재료]  [5개 분량] ? 박력분 115g| 버터 115g| 설탕 60g| 계란 ...</td>\n",
       "      <td>[]</td>\n",
       "    </tr>\n",
       "    <tr>\n",
       "      <th>111459</th>\n",
       "      <td>6948623</td>\n",
       "      <td>[재료]  [재료] 깍두기 2컵| 깍두기 국물 1/2컵| 참치캔 1개| 대파 1대|...</td>\n",
       "      <td>[]</td>\n",
       "    </tr>\n",
       "    <tr>\n",
       "      <th>113592</th>\n",
       "      <td>6951269</td>\n",
       "      <td>[재료]  [초코 시트] 박력분 70g| 코코아 파우더 10g| 달걀 3개| 설탕 ...</td>\n",
       "      <td>[]</td>\n",
       "    </tr>\n",
       "    <tr>\n",
       "      <th>113639</th>\n",
       "      <td>6951322</td>\n",
       "      <td>[재료]  [주재료] 신김치 1~1.5컵| 대파 1개| 프랑크소세지 4줄| 통조림 ...</td>\n",
       "      <td>[]</td>\n",
       "    </tr>\n",
       "  </tbody>\n",
       "</table>\n",
       "</div>"
      ],
      "text/plain": [
       "        RCP_SNO                                        CKG_MTRL_CN only_ingred\n",
       "21796   6829965  [재료] [냉면무]| 냉면무 800g | 소금 3작은술| 식초 6큰술 | 매실청(설...          []\n",
       "36007   6849719  [재료]  [다쿠아즈] 흰자 95g(3개 분량)| 설탕 40g| 박력분 20g| 슈...          []\n",
       "38915   6853598  []  [탕종] 밀가루 15g| 물 75g [본반죽] 우리밀 60g| 강력분 175...          []\n",
       "40838   6856687  [재료 : 고등어 2마리| 대파 1뿌리  무 조림 재료 : 무1개| 물 1|200c...          []\n",
       "40896   6856769  [재료]  [쿠키] 우리밀고소밀 160g| 비정제 설탕 40g| 계피가루 1ts| ...          []\n",
       "41369   6857405  [분량]  [쿠키부분] 녹인버터 100g| 설탕 50g| 박력분 150g| 베이킹 ...          []\n",
       "41398   6857441  [분량]  [쿠키반죽] 박력분 125g| 황치즈 분말 15g| 슈가파우더 50g| ...          []\n",
       "41447   6857503  [분량]  [땅콩쿠키] 박력분 120g| 버터 40g| 땅콩버터 45g| 설탕 40...          []\n",
       "43900   6861605  [재료] [배우유빙수]| 우유 450g| 배 450g| 연유 60g| [연유배밀크잼...          []\n",
       "43940   6861670  [재료]  [빵(8개 분량)] 강력분 200g| 물 95~115 g| 인스턴트 드라...          []\n",
       "43983   6861738  []  [꼬끄(12개분량)] 흰자 65g| 아몬드 가루 77g| 코코아 파우더 10...          []\n",
       "44201   6862084  [재료]  [슈껍질(18개 분량)] 박력분 45g| 달걀 65g| 우유 35g| 물...          []\n",
       "44224   6862110  [재료]  [꼬끄(18개 정도 분량)] 흰자 67g| 아몬드가루 91g| 분당 91...          []\n",
       "62175   6885238  [재료(8개분량)]  [마들렌 반죽] 달걀 1개| 설탕 38g| 유자잼 24g| 우...          []\n",
       "89118   6920092  [재]  [필수재료] 찰옥수수 1개| 양파 1/4개| 마늘 2톨| 청양고추 2개| ...          []\n",
       "89860   6921043  [재료]  [재료] 채 썬 우엉 5줌| 물 1컵| 간장 6큰술| 고추장 1큰술| 청...          []\n",
       "92607   6924652  [재료]  [재료] 육수 건더기| 물 1L| 황설탕 1/2컵| 꽃소금 1/2 큰 술...          []\n",
       "92790   6924876  [재료(8개 분량)]  [다쿠아즈 시트] 흰자 110g| 아몬드가루 80g| 슈가파...          []\n",
       "96749   6929977  [재료(11개 분량)]  [단팥빵] 강력분 180g| 박력분 70g| 비정제 설탕 ...          []\n",
       "99408   6933406  [재료(12개분량)]  [탕종] 강력분 15g| 물 75g [본반죽] 강력분 235...          []\n",
       "101912  6936596  []  [재료] 돼지고기 후지 슬라이스 260g| 숙주 약 1+1/3컵| 양파 약 ...          []\n",
       "108175  6944456  [재료]  [재료] 떡볶이 떡 20개| 사각어묵 2장| 대파 1/2대| 물 3컵 [...          []\n",
       "110358  6947227  [재료]  [풀리시] 강력분 63g| 물 63g| 인스턴트 드라이 이스트 크게 1꼬...          []\n",
       "111204  6948304  [재료]  [5개 분량] ? 박력분 115g| 버터 115g| 설탕 60g| 계란 ...          []\n",
       "111459  6948623  [재료]  [재료] 깍두기 2컵| 깍두기 국물 1/2컵| 참치캔 1개| 대파 1대|...          []\n",
       "113592  6951269  [재료]  [초코 시트] 박력분 70g| 코코아 파우더 10g| 달걀 3개| 설탕 ...          []\n",
       "113639  6951322  [재료]  [주재료] 신김치 1~1.5컵| 대파 1개| 프랑크소세지 4줄| 통조림 ...          []"
      ]
     },
     "execution_count": 15,
     "metadata": {},
     "output_type": "execute_result"
    }
   ],
   "source": [
    "df[['RCP_SNO','CKG_MTRL_CN','only_ingred']].iloc[empty_index_lst,]"
   ]
  },
  {
   "cell_type": "code",
   "execution_count": 16,
   "id": "d1380400",
   "metadata": {
    "ExecuteTime": {
     "end_time": "2022-09-07T14:06:36.803537Z",
     "start_time": "2022-09-07T14:06:36.790539Z"
    }
   },
   "outputs": [],
   "source": [
    "empty_rcpno_lst = list(df[['RCP_SNO','CKG_MTRL_CN','only_ingred']].iloc[empty_index_lst,]['RCP_SNO'].values)"
   ]
  },
  {
   "cell_type": "code",
   "execution_count": 17,
   "id": "5c0a8967",
   "metadata": {
    "ExecuteTime": {
     "end_time": "2022-09-07T14:06:36.908535Z",
     "start_time": "2022-09-07T14:06:36.895535Z"
    }
   },
   "outputs": [
    {
     "data": {
      "text/plain": [
       "[6829965,\n",
       " 6849719,\n",
       " 6853598,\n",
       " 6856687,\n",
       " 6856769,\n",
       " 6857405,\n",
       " 6857441,\n",
       " 6857503,\n",
       " 6861605,\n",
       " 6861670,\n",
       " 6861738,\n",
       " 6862084,\n",
       " 6862110,\n",
       " 6885238,\n",
       " 6920092,\n",
       " 6921043,\n",
       " 6924652,\n",
       " 6924876,\n",
       " 6929977,\n",
       " 6933406,\n",
       " 6936596,\n",
       " 6944456,\n",
       " 6947227,\n",
       " 6948304,\n",
       " 6948623,\n",
       " 6951269,\n",
       " 6951322]"
      ]
     },
     "execution_count": 17,
     "metadata": {},
     "output_type": "execute_result"
    }
   ],
   "source": [
    "empty_rcpno_lst"
   ]
  },
  {
   "cell_type": "code",
   "execution_count": 18,
   "id": "c247deb9",
   "metadata": {
    "ExecuteTime": {
     "end_time": "2022-09-07T14:06:38.875685Z",
     "start_time": "2022-09-07T14:06:37.824464Z"
    }
   },
   "outputs": [],
   "source": [
    "ingre_list = []\n",
    "for i in range(len(df['only_ingred'])):\n",
    "    for word in df['only_ingred'][i]:\n",
    "        ingre_list.append(word)"
   ]
  },
  {
   "cell_type": "code",
   "execution_count": 19,
   "id": "c70a39ed",
   "metadata": {
    "ExecuteTime": {
     "end_time": "2022-09-07T14:06:39.671657Z",
     "start_time": "2022-09-07T14:06:39.613658Z"
    }
   },
   "outputs": [
    {
     "data": {
      "text/plain": [
       "47917"
      ]
     },
     "execution_count": 19,
     "metadata": {},
     "output_type": "execute_result"
    }
   ],
   "source": [
    "len(set(ingre_list))"
   ]
  },
  {
   "cell_type": "code",
   "execution_count": 20,
   "id": "5783b0fd",
   "metadata": {
    "ExecuteTime": {
     "end_time": "2022-09-07T14:06:44.630267Z",
     "start_time": "2022-09-07T14:06:44.540266Z"
    }
   },
   "outputs": [
    {
     "data": {
      "text/plain": [
       "[('양파', 31241),\n",
       " ('대파', 19334),\n",
       " ('소금', 18672),\n",
       " ('물', 13413),\n",
       " ('당근', 13313),\n",
       " ('설탕', 12938),\n",
       " ('계란', 11724),\n",
       " ('청양고추', 10521),\n",
       " ('참기름', 8904),\n",
       " ('달걀', 8749)]"
      ]
     },
     "execution_count": 20,
     "metadata": {},
     "output_type": "execute_result"
    }
   ],
   "source": [
    "from collections import Counter\n",
    "counter = Counter(ingre_list)\n",
    "counter.most_common(10)"
   ]
  },
  {
   "cell_type": "code",
   "execution_count": 24,
   "id": "fa89f82e",
   "metadata": {
    "ExecuteTime": {
     "end_time": "2022-09-07T14:08:23.573753Z",
     "start_time": "2022-09-07T14:08:23.132823Z"
    }
   },
   "outputs": [],
   "source": [
    "save_df = pd.DataFrame(df['only_ingred'])\n",
    "save_df.to_csv('only_ingredient_list.csv', index=False)"
   ]
  },
  {
   "cell_type": "markdown",
   "id": "4f288308",
   "metadata": {},
   "source": [
    "# 양념 리스트 생성"
   ]
  },
  {
   "cell_type": "code",
   "execution_count": 228,
   "id": "bee6751d",
   "metadata": {
    "ExecuteTime": {
     "end_time": "2022-09-06T04:45:46.698945Z",
     "start_time": "2022-09-06T04:45:46.681946Z"
    }
   },
   "outputs": [
    {
     "data": {
      "text/plain": [
       "0         [재료] 어묵 2개| 김밥용김 3장| 당면 1움큼| 양파 1/2개| 당근 1/2개|...\n",
       "1                  [재료] 현미 4컵| 찹쌀 2컵| 호두 50g| 물 1/2컵| 소금 약간\n",
       "2         [재료] 북어포 1마리| 찹쌀가루 1C [양념] 간장 2T| 설탕 1T| 물 1T|...\n",
       "3         [재료] 파스타면 [양념] 토마토 1개| 토마토 페이스트 3T| 양파 1/2개| 다...\n",
       "4         [재료] 건표고버섯 9개| 오이 1/2개| 당근 1/2개| 양파 1/2개| 사과 1...\n",
       "                                ...                        \n",
       "114507    [재료] 양배추 1/4통| 양파 1/2개| 편마늘 1숟가락| 식용유 적당히| 물 2...\n",
       "114508    [재료] 박력분 200g| 버터 70g| 크림치즈 70g| 설탕 100g| 계란 1...\n",
       "114509    [재료] 포항초 300g| 건다시마 작은크기4~5장| 다시멸치 1줌| 홍고추 1개|...\n",
       "114510    [재료] 식빵 4장| 감자 2개| 양파 1/4개| 피망 1/4개| 계란 2개| 치즈...\n",
       "114511    [재료] 배추잎 8~10장| 홍고추 1개| 계란 2개 [양념] 부침가루(메밀) 5큰...\n",
       "Name: CKG_MTRL_CN, Length: 114512, dtype: object"
      ]
     },
     "execution_count": 228,
     "metadata": {},
     "output_type": "execute_result"
    }
   ],
   "source": [
    "data = df['CKG_MTRL_CN'].copy()\n",
    "data"
   ]
  },
  {
   "cell_type": "code",
   "execution_count": 229,
   "id": "2abebdb2",
   "metadata": {
    "ExecuteTime": {
     "end_time": "2022-09-06T04:45:48.698780Z",
     "start_time": "2022-09-06T04:45:48.681780Z"
    }
   },
   "outputs": [
    {
     "data": {
      "text/plain": [
       "'[재료] 어묵 2개| 김밥용김 3장| 당면 1움큼| 양파 1/2개| 당근 1/2개| 깻잎 6장| 튀김가루 1컵 | 올리브유 적당량| 간장 1T| 참기름 1T'"
      ]
     },
     "execution_count": 229,
     "metadata": {},
     "output_type": "execute_result"
    }
   ],
   "source": [
    "data[0]"
   ]
  },
  {
   "cell_type": "code",
   "execution_count": 230,
   "id": "3f5d9b46",
   "metadata": {
    "ExecuteTime": {
     "end_time": "2022-09-06T04:45:49.238829Z",
     "start_time": "2022-09-06T04:45:49.224829Z"
    }
   },
   "outputs": [
    {
     "data": {
      "text/plain": [
       "'[재료] 배추잎 8~10장| 홍고추 1개| 계란 2개 [양념] 부침가루(메밀) 5큰술| 소금 2꼬집| 해바라기유 5~6큰술'"
      ]
     },
     "execution_count": 230,
     "metadata": {},
     "output_type": "execute_result"
    }
   ],
   "source": [
    "data[114511]"
   ]
  },
  {
   "cell_type": "code",
   "execution_count": 231,
   "id": "5c310182",
   "metadata": {
    "ExecuteTime": {
     "end_time": "2022-09-06T04:46:25.313896Z",
     "start_time": "2022-09-06T04:45:53.966718Z"
    }
   },
   "outputs": [
    {
     "name": "stderr",
     "output_type": "stream",
     "text": [
      "100%|██████████| 114512/114512 [00:31<00:00, 3655.12it/s]\n"
     ]
    }
   ],
   "source": [
    "for i in tqdm(range(len(data))):\n",
    "    temp = []\n",
    "    for j in range(len(data[i])):\n",
    "        if data[i][j] =='[':\n",
    "            temp.append(j)\n",
    "    start_index = len(data[i])\n",
    "    if len(temp) > 1:\n",
    "        start_index = temp[1]\n",
    "    ingre = data[i][start_index:]\n",
    "    if ingre == '':\n",
    "        ingre = '없음'\n",
    "    ingre = remove_big_brackets(ingre).strip()\n",
    "    data[i] = ingre"
   ]
  },
  {
   "cell_type": "code",
   "execution_count": 167,
   "id": "a2c843a8",
   "metadata": {
    "ExecuteTime": {
     "end_time": "2022-09-06T03:02:03.779753Z",
     "start_time": "2022-09-06T03:02:03.769765Z"
    },
    "scrolled": true
   },
   "outputs": [
    {
     "name": "stdout",
     "output_type": "stream",
     "text": [
      "없음\n",
      "없음\n",
      "간장 2T| 설탕 1T| 물 1T| 다진파 1T| 다진마늘 1T| 참기름 1T| 깨소금 1T| 후춧가루 약간\n",
      "토마토 1개| 토마토 페이스트 3T| 양파 1/2개| 다진마늘 1T| 피망 1/2개| 올리브유 3T\n",
      "녹말가루 2C| 물 1C| 계란 노른자 1개 [탕수 소| 설탕 1/2C| 식초 3T| 간장 1T| 녹말물 2T\n",
      "통마늘 3개| 다진마늘 1T| 화이트와인또는우유| 올리브유또는버터| 마늘솔트또는소금  파인애플 2쪽| 마요네즈 2T| 머스터드 1T| 식초1/2T(또는 레몬즙) | 꿀 1T\n",
      "없음\n",
      "고추장| 다진마늘| 참기름| 맛소금| 마요네즈\n",
      "고춧가루 2T| 고추장 1T| 물엿 1T| 간장 1T| 참기름 1T| 다진 마늘 1/2T| 깨 1/2T| 후추가루 약간\n",
      "홀그레인머스터드| 허니머스터드| 다진양파\n",
      "다진 마늘1/4t개| 깨소금| 맛소금| 참기름\n",
      "없음\n",
      "참기름 1/2t| 맛소금 약간 | 깨 약간\n",
      "없음\n",
      "머스터드| 피클| 마요네즈\n",
      "없음\n",
      "고추장 1T| 고춧가루 1T| 다진 마늘 1T| 참기름 1T| 설탕 1t| 간장 1t| 청주 1t| 후추 약간| 소금 약간\n",
      "깨 3T| 꿀 5T\n",
      "백세 카레가루 2T\n",
      "없음\n",
      "다진양파 1/2개| 빵가루| 밀가루| 계란| 소금| 후추\n",
      "우유 270ml| 박력분 25g| 노른자 3개| 설탕 60g| 바닐라오일 약간| 버터 20g\n",
      "버터 75그램| 설탕 75그램| 노른자 1개| 박력분 110그램| 바닐라오일 약간\n",
      "없음\n",
      "버터 1T| 육수 1C\n",
      "고춧가루 약간\n",
      "소금 약간\n",
      "밀가루 1C| 물 1C| 혼다시 1T| 후추&소금 약간  돈가스소스| 마요네즈\n",
      "간장 2T| 물엿 또는 설탕 1T| 참기름 1T| 다진 파 1T| 다진 마늘 1T | 소금 약간| 후추 약간\n",
      "간장 70ml| 물 300ml| 설탕 1큰술| 물엿 or요리당 1큰술| 굴소스 1큰술| 고춧가루 2큰술| 마늘 1/2큰술| 후춧가루 1작은술\n",
      "고춧가루 1컵(대략 8큰술)| 간장 1컵(8큰술)| 청량고추 3개| 통마늘 10개| 청주 3큰술| 설탕 3큰술| 생강가루 1/2큰술| 참기름 1+1/2큰술| 양파 1개| 파인애플 2쪽| 양겨자가루 3큰술\n",
      "간장 70ml| 물 30ml| 설탕 1큰술| 물엿 2큰술| 굴소스 1큰술| 고춧가루 1큰술| 마늘 1/2큰술| 후춧가루 1작은술| 통깨 약간\n",
      "참기름 1T| 맛소금 1T\n",
      "설탕 또는 꿀 3큰술| 레몬즙 1큰술\n",
      "없음\n",
      "없음\n",
      "버터 40g| 크림치즈 40g| 설탕 60g| 생크림 20g| 계란 1개| 아몬드가루 120g| 코코넛가루 30g| 바닐라 오일 1ts| 럼주 1Ts| 견과류 적당량\n",
      "설탕 4~5큰술| 레몬즙 1큰술| 플레인 요거트 1000ml\n",
      "없음\n",
      "헤비위핑크림 150g\n",
      "고추장 3큰술| 된장 1큰술| 물| 마늘 다진것 1큰술| 참기름 1작은술\n",
      "없음\n",
      "생강즙 1큰술| 후춧가루 1/2큰술| 마늘 1/2큰술| 청주 1큰술  설탕 3+1/2큰술| 간장 110ml| 캬라멜소스 1/2큰술| 청양고추 5개| 후춧가루 1/2큰술| 다진마늘 1/2큰술| 참기름 1큰술\n",
      "소금 1꼬집| 시럽 적당량| 슈거파우더 적당량\n",
      "고추장 2+1/2큰술| 고춧가루 1/2큰술| 굴소스 2큰술| 다진마늘 1작은술| 후춧가루 1작은술| 설탕 1/2큰술| 요리당 1큰술\n",
      "참기름 2큰술| 시칠미 적당량\n",
      "슈가파우더| 생크림\n",
      "없음\n",
      "없음\n",
      "없음\n",
      "굴소스 1큰술| 케찹 10큰술| 설탕 1/2큰술| 후춧가루 약간\n",
      "없음\n",
      "설탕 60g| 물 4큰술\n",
      "올리브유(or카놀라유) 2큰술| 소금 1작은술| 후춧가루 약간| 파슬리가루 약간| 다진마늘 1/2큰술  사워크림| 케첩| 살사소스| 치즈소스\n",
      "없음\n",
      "다*다(소고기맛 조미료) 1/2큰술| 춘장 2큰술| 고추장 1큰술| 설탕 2큰술| 다진마늘 1큰술\n",
      "팥앙금 500그램\n",
      "물 3컵| 백세카레가루 2T| 가쓰오부시장국 4T\n",
      "커피액기스 2T| 소금 약간\n",
      "설탕 1T| 소금 1T| 간장 1T| 참기름 1T | 올리브오일 약간\n",
      "무 1/3개| 파 1뿌리| 양파 1/2개| 건새우 약간| 다시마 약간| 청양고추 2개  고춧가루 3T| 고추장 2T| 간장 2T| 설탕 1T| 물엿 1T| 다진마늘 1T| 청주 1T| 후추가루 약간\n",
      "생크림 2컵 | 좋아하는치즈\n",
      "없음\n",
      "머스터드소스| 마요네즈| 버터| 올리브유| 시즈닝솔트\n",
      "레몬즙(1개분) 6큰술| 소금 1/2~1스푼\n",
      "포피씨드 20그램| 레몬필 50그램| 유자청 30그램\n",
      "장식용 슈가파우더 1컵\n",
      "없음\n",
      "| 박력 80그램| 버터 40그램| 설탕 40그램\n",
      "없음\n",
      "없음\n",
      "없음\n",
      "없음\n",
      "시즈닝솔트| 후춧가루| 파키스탄카레| 한국카레| 일본카레\n",
      "홍피망 1/2개| 청피망 1/2개| 양파 1/2개| 청량고추 3개| 또띠아 8장| 스위트콘 5~6큰술| 올리브유 적당량| 피자치즈 넉넉히 [또띠아 양념]량 [야채 밑간] 시즈닝솔트 1작 1작은술 [불닭양념] 고| 고춧가루 2큰술| 고추기름 1/2큰술| 후춧가루 1/2큰술| 칠리소스 1큰술| 다진마늘 1큰술| 굴소스 3설탕 1/2큰술 [닭 밑간] 청주 1큰술| 시즈닝솔트 2생강즙 1/2큰술\n",
      "마요네즈| 소금| 후추| 설탕\n",
      "고추장 3큰술| 혼다시 1작은술| 후추 1작은술| 고춧가루 3큰술\n",
      "크림치즈 85그램| 버터 1/4컵| 슈가파우더 1/4컵| 바닐라오일 약간  황설탕 또는 흑설탕 100그램| 시나몬가루 1큰술| 땅콩분태 1줌\n",
      "소금 1작은술| 대파다진것 1큰술| 마늘 1작은술| 고추장1작은술| 고춧가루 1작은술| 설탕 1작은술| 깨소금 1작은술| 식초 1작은술| 참기름 1작은술| 통깨 조금\n",
      "없음\n",
      "흰자 120g| 설탕 50g\n",
      "없음\n",
      "허브솔트 1/2큰술| 올리브유 2큰술| 머스터드 1/2큰술| 꿀 1큰술| 바베큐소스 5~7큰술  올리브오일 1T| 식초 1T| 꿀 1T| 소금 1/2T| 후추 조금| 오렌지쥬스 2T\n",
      "고추장 1큰술| 고추가루 1큰술| 찹쌀엿 2큰술| 다시다 조금| 소금 1/2큰술\n",
      "없음\n",
      "설탕 1/2큰술| 굴소스 1큰술| 통깨 약간| 들기름 2.5큰술\n",
      "설탕 50g| 물 1큰술\n",
      "간장| 미림\n",
      "올리브오일 2스푼| 발사믹식초 1스푼| 꿀 1스푼| 소금 0.5스푼| 레몬즙 0.5스푼| 후춧가루 약간\n",
      "물 1/2컵| 맛간장 1/2컵| 생강맛술 2스푼| 올리고당 2스푼| 설탕 0.5스푼| 후춧가루 약간\n",
      "없음\n",
      "노른자 1개| 슈가 파우더 25g| 크림치즈 100g\n",
      "데이브스 고메 파스타소스 1/2컵| 멜린다 핫소스 5스푼| 소금 0.5스푼| 후추 약간| 호두아몬드 드레싱 적당량\n",
      "진간장 2스푼| 소금 약간| 고춧가루 1스푼| 생강맛술 1스푼| 설탕 0.5스푼| 물엿(또는 올리고당) 1스푼| 후춧가루 약간| 깨소금 약간| 참기름 0.5스푼| 대파 1/4대\n",
      "흰자 3개| 설탕 50g [콩조림컵| 설탕 1/2컵| 콩 1컵\n",
      "고운 고춧가루 1~2큰술| 간장 2큰술| 설탕 1큰술| 요리당(물엿) 1+1/2큰술\n",
      "생강술 또는 청주 1큰술| 다진 마늘 0.5큰술| 후춧가루 약간 [양념장] 참기| 시판쌈장 3큰술| 된장 1큰술| 고추장 1큰술| 맛술 1큰술| 다진 마늘 0.5큰술| 고춧가루 1큰술\n",
      "설탕 500g| 중조 4ts| 럼주나 브랜디 1/2컵| 소금 약간| 물 500g\n",
      "물 120ml| 설탕 3Ts| 커피 2Ts\n",
      "소금 2ts| 후추 2ts\n"
     ]
    }
   ],
   "source": [
    "for i in range(len(data[:100])):\n",
    "    print(data[i])"
   ]
  },
  {
   "cell_type": "code",
   "execution_count": 170,
   "id": "b80270da",
   "metadata": {
    "ExecuteTime": {
     "end_time": "2022-09-06T03:04:39.609413Z",
     "start_time": "2022-09-06T03:04:39.593410Z"
    }
   },
   "outputs": [
    {
     "data": {
      "text/plain": [
       "['간장 2T',\n",
       " ' 설탕 1T',\n",
       " ' 물 1T',\n",
       " ' 다진파 1T',\n",
       " ' 다진마늘 1T',\n",
       " ' 참기름 1T',\n",
       " ' 깨소금 1T',\n",
       " ' 후춧가루 약간']"
      ]
     },
     "execution_count": 170,
     "metadata": {},
     "output_type": "execute_result"
    }
   ],
   "source": [
    "data[2].split('|')"
   ]
  },
  {
   "cell_type": "code",
   "execution_count": 171,
   "id": "37dad29b",
   "metadata": {
    "ExecuteTime": {
     "end_time": "2022-09-06T03:05:10.329448Z",
     "start_time": "2022-09-06T03:05:08.485119Z"
    }
   },
   "outputs": [
    {
     "name": "stderr",
     "output_type": "stream",
     "text": [
      "100%|██████████| 114512/114512 [00:01<00:00, 62495.09it/s]\n"
     ]
    }
   ],
   "source": [
    "lst = []\n",
    "for i in tqdm(range(len(data))):\n",
    "    for word in data[i].split('|'):\n",
    "        word = word.strip()\n",
    "        if word != '없음':  \n",
    "            word = remove_small_brackets(word)\n",
    "            word = remove_one_bracket(word)\n",
    "            li = word.split()\n",
    "            if li != []:\n",
    "                if len(li) < 3:\n",
    "                    lst.append(li[0])\n",
    "                else:\n",
    "                    string = ' '\n",
    "                    lst.append(string.join(li[:-1]))\n",
    "    #df['only_ingred'][i] = lst"
   ]
  },
  {
   "cell_type": "code",
   "execution_count": 178,
   "id": "c828c736",
   "metadata": {
    "ExecuteTime": {
     "end_time": "2022-09-06T03:09:25.645859Z",
     "start_time": "2022-09-06T03:09:25.502860Z"
    },
    "scrolled": true
   },
   "outputs": [
    {
     "data": {
      "text/plain": [
       "[('다진마늘', 22298),\n",
       " ('설탕', 22241),\n",
       " ('소금', 18353),\n",
       " ('간장', 18256),\n",
       " ('참기름', 17595),\n",
       " ('고춧가루', 11985),\n",
       " ('후추', 11635),\n",
       " ('물', 10101),\n",
       " ('고추장', 9473),\n",
       " ('맛술', 7901),\n",
       " ('통깨', 7872),\n",
       " ('올리고당', 7534),\n",
       " ('식초', 6579),\n",
       " ('고추가루', 5536),\n",
       " ('마늘', 4773),\n",
       " ('굴소스', 4195),\n",
       " ('국간장', 4003),\n",
       " ('깨소금', 3986),\n",
       " ('진간장', 3981),\n",
       " ('물엿', 3372),\n",
       " ('후춧가루', 3361),\n",
       " ('들기름', 3093),\n",
       " ('된장', 3080),\n",
       " ('양파', 3079),\n",
       " ('매실청', 3058),\n",
       " ('마요네즈', 2867),\n",
       " ('매실액', 2866),\n",
       " ('청주', 2832),\n",
       " ('식용유', 2500),\n",
       " ('깨', 2465),\n",
       " ('대파', 2378),\n",
       " ('버터', 2345),\n",
       " ('꿀', 2277),\n",
       " ('멸치액젓', 2030),\n",
       " ('다진파', 1857),\n",
       " ('레몬즙', 1731),\n",
       " ('새우젓', 1728),\n",
       " ('올리브유', 1590),\n",
       " ('청양고추', 1523),\n",
       " ('액젓', 1450),\n",
       " ('생강가루', 1431),\n",
       " ('미림', 1402),\n",
       " ('생강', 1380),\n",
       " ('파', 1346),\n",
       " ('우유', 1342),\n",
       " ('후추가루', 1291),\n",
       " ('케찹', 1241),\n",
       " ('다진생강', 1214),\n",
       " ('다시마', 1211),\n",
       " ('참치액', 1198),\n",
       " ('올리브오일', 1019),\n",
       " ('양조간장', 966),\n",
       " ('간마늘', 941),\n",
       " ('생크림', 922),\n",
       " ('생강즙', 810),\n",
       " ('파슬리가루', 810),\n",
       " ('생강술', 801),\n",
       " ('밀가루', 784),\n",
       " ('달걀', 776),\n",
       " ('케첩', 775),\n",
       " ('들깨가루', 775),\n",
       " ('계란', 759),\n",
       " ('까나리액젓', 726),\n",
       " ('맛간장', 704),\n",
       " ('당근', 682),\n",
       " ('홍고추', 680),\n",
       " ('통후추', 675),\n",
       " ('굵은소금', 674),\n",
       " ('참깨', 658),\n",
       " ('황설탕', 651),\n",
       " ('카레가루', 601),\n",
       " ('멸치', 599),\n",
       " ('소주', 597),\n",
       " ('다진양파', 592),\n",
       " ('무', 557),\n",
       " ('고추기름', 550),\n",
       " ('맛소금', 537),\n",
       " ('생수', 528),\n",
       " ('월계수잎', 512),\n",
       " ('사과', 498),\n",
       " ('포도씨유', 484),\n",
       " ('요리당', 462),\n",
       " ('통마늘', 453),\n",
       " ('박력분', 453),\n",
       " ('다진대파', 441),\n",
       " ('천일염', 437),\n",
       " ('슈가파우더', 433),\n",
       " ('흑설탕', 433),\n",
       " ('육수', 429),\n",
       " ('쪽파', 424),\n",
       " ('멸치육수', 423),\n",
       " ('연겨자', 418),\n",
       " ('집간장', 409),\n",
       " ('크림치즈', 407),\n",
       " ('다시다', 375),\n",
       " ('조청', 358),\n",
       " ('배', 348),\n",
       " ('토마토소스', 347),\n",
       " ('매실액기스', 330),\n",
       " ('파마산치즈가루', 324)]"
      ]
     },
     "execution_count": 178,
     "metadata": {},
     "output_type": "execute_result"
    }
   ],
   "source": [
    "from collections import Counter\n",
    "temp = []\n",
    "for word in lst:\n",
    "    temp.append(word.replace(' ',''))\n",
    "counter = Counter(temp)\n",
    "counter.most_common(100)"
   ]
  },
  {
   "cell_type": "code",
   "execution_count": null,
   "id": "f6b571e0",
   "metadata": {},
   "outputs": [],
   "source": []
  }
 ],
 "metadata": {
  "kernelspec": {
   "display_name": "Python 3 (ipykernel)",
   "language": "python",
   "name": "python3"
  },
  "language_info": {
   "codemirror_mode": {
    "name": "ipython",
    "version": 3
   },
   "file_extension": ".py",
   "mimetype": "text/x-python",
   "name": "python",
   "nbconvert_exporter": "python",
   "pygments_lexer": "ipython3",
   "version": "3.7.13"
  },
  "toc": {
   "base_numbering": 1,
   "nav_menu": {},
   "number_sections": true,
   "sideBar": true,
   "skip_h1_title": false,
   "title_cell": "Table of Contents",
   "title_sidebar": "Contents",
   "toc_cell": false,
   "toc_position": {
    "height": "calc(100% - 180px)",
    "left": "10px",
    "top": "150px",
    "width": "292.571px"
   },
   "toc_section_display": true,
   "toc_window_display": false
  },
  "varInspector": {
   "cols": {
    "lenName": 16,
    "lenType": 16,
    "lenVar": 40
   },
   "kernels_config": {
    "python": {
     "delete_cmd_postfix": "",
     "delete_cmd_prefix": "del ",
     "library": "var_list.py",
     "varRefreshCmd": "print(var_dic_list())"
    },
    "r": {
     "delete_cmd_postfix": ") ",
     "delete_cmd_prefix": "rm(",
     "library": "var_list.r",
     "varRefreshCmd": "cat(var_dic_list()) "
    }
   },
   "types_to_exclude": [
    "module",
    "function",
    "builtin_function_or_method",
    "instance",
    "_Feature"
   ],
   "window_display": false
  }
 },
 "nbformat": 4,
 "nbformat_minor": 5
}
