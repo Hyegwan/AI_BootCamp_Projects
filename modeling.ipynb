{
 "cells": [
  {
   "cell_type": "code",
   "execution_count": 6,
   "metadata": {},
   "outputs": [],
   "source": [
    "# !pip3 install pandas\n",
    "# !pip3 install numpy\n",
    "# !pip3 install sklearn\n",
    "# !pip3 install category_encoders\n",
    "# !pip3 install xgboost"
   ]
  },
  {
   "cell_type": "code",
   "execution_count": 20,
   "metadata": {},
   "outputs": [],
   "source": [
    "import pandas as pd\n",
    "import sklearn"
   ]
  },
  {
   "cell_type": "code",
   "execution_count": 65,
   "metadata": {},
   "outputs": [],
   "source": [
    "data = pd.read_csv('/Users/hyegwan/codestates/project3/heart.csv')"
   ]
  },
  {
   "cell_type": "code",
   "execution_count": 66,
   "metadata": {},
   "outputs": [
    {
     "name": "stdout",
     "output_type": "stream",
     "text": [
      "<class 'pandas.core.frame.DataFrame'>\n",
      "RangeIndex: 918 entries, 0 to 917\n",
      "Data columns (total 12 columns):\n",
      " #   Column          Non-Null Count  Dtype  \n",
      "---  ------          --------------  -----  \n",
      " 0   Age             918 non-null    int64  \n",
      " 1   Sex             918 non-null    object \n",
      " 2   ChestPainType   918 non-null    object \n",
      " 3   RestingBP       918 non-null    int64  \n",
      " 4   Cholesterol     918 non-null    int64  \n",
      " 5   FastingBS       918 non-null    int64  \n",
      " 6   RestingECG      918 non-null    object \n",
      " 7   MaxHR           918 non-null    int64  \n",
      " 8   ExerciseAngina  918 non-null    object \n",
      " 9   Oldpeak         918 non-null    float64\n",
      " 10  ST_Slope        918 non-null    object \n",
      " 11  HeartDisease    918 non-null    int64  \n",
      "dtypes: float64(1), int64(6), object(5)\n",
      "memory usage: 86.2+ KB\n"
     ]
    },
    {
     "data": {
      "text/plain": [
       "(918, 12)"
      ]
     },
     "execution_count": 66,
     "metadata": {},
     "output_type": "execute_result"
    }
   ],
   "source": [
    "data.info()\n",
    "data.shape"
   ]
  },
  {
   "cell_type": "markdown",
   "metadata": {},
   "source": [
    "### Feature 설명\n",
    "\n",
    "Age: 나이  \n",
    "\n",
    "Sex: 성별  \n",
    "- M - 남성 (Male)\n",
    "- F - 여성 (Female)\n",
    "\n",
    "ChestPainType: 가슴 통증 유형\n",
    "- TA - 일반 협심증 (Typical Angina)\n",
    "- ATA - 비정형 협심증 (Atypical Angina)\n",
    "- NAP - 협심증이 아닌 통증 (Non-Anginal Pain)\n",
    "- ASY - 무증상 (Asymptomatic)\n",
    "\n",
    "RestingBP: 안정시 혈압 (Resting Blood Pressure) [mmHg]  \n",
    "\n",
    "Cholesterol: 혈중 콜레스테롤 [mg/dl]  \n",
    "\n",
    "FastingBS: 공복 혈당 (Fasting Blood Sugar)  \n",
    "- 0 - 120 mg/dl 이하\n",
    "- 1 - 120 mg/dl 초과  \n",
    "\n",
    "RestingECG: 휴식 중 심전도 결과 (Resting ElectroCardioGraphic)  \n",
    "- LVH -  좌심실비대\n",
    "- Normal - 정상\n",
    "- ST - ST-T 이상\n",
    "\n",
    "MaxHR: 최대 심박수 (Maximum Heart Rate Achieved)  \n",
    "- 60 ~ 202 사이 값  \n",
    "\n",
    "ExerciseAngina: 활동으로 인한 협심증 (Exercise Induced Angina)\n",
    "- Y - 있음 (Yes)\n",
    "- N - 없음 (No)  \n",
    "\n",
    "Oldpeak: 휴식 대비 활동으로 인한 ST 하강  (ST depression induced by exercise relative to rest) \n",
    "\n",
    "ST_Slope: 활동 중 ST 분절의 최고점 기울기(The slope of the peak exercise ST segment) \n",
    "- Up - 상승 (Upsloping)\n",
    "- Flat - 평탄 (Flat)\n",
    "- Down - 하강 (Downsloping)\n",
    "\n",
    "HearDisease: 심장 질환 진단 여부\n",
    "- 0 - 정상  (Normal)\n",
    "- 1 - 심장 질환 진단 (Heart Disease)"
   ]
  },
  {
   "cell_type": "code",
   "execution_count": 67,
   "metadata": {},
   "outputs": [
    {
     "data": {
      "text/html": [
       "<div>\n",
       "<style scoped>\n",
       "    .dataframe tbody tr th:only-of-type {\n",
       "        vertical-align: middle;\n",
       "    }\n",
       "\n",
       "    .dataframe tbody tr th {\n",
       "        vertical-align: top;\n",
       "    }\n",
       "\n",
       "    .dataframe thead th {\n",
       "        text-align: right;\n",
       "    }\n",
       "</style>\n",
       "<table border=\"1\" class=\"dataframe\">\n",
       "  <thead>\n",
       "    <tr style=\"text-align: right;\">\n",
       "      <th></th>\n",
       "      <th>Age</th>\n",
       "      <th>Sex</th>\n",
       "      <th>ChestPainType</th>\n",
       "      <th>RestingBP</th>\n",
       "      <th>Cholesterol</th>\n",
       "      <th>FastingBS</th>\n",
       "      <th>RestingECG</th>\n",
       "      <th>MaxHR</th>\n",
       "      <th>ExerciseAngina</th>\n",
       "      <th>Oldpeak</th>\n",
       "      <th>ST_Slope</th>\n",
       "      <th>HeartDisease</th>\n",
       "    </tr>\n",
       "  </thead>\n",
       "  <tbody>\n",
       "    <tr>\n",
       "      <th>0</th>\n",
       "      <td>40</td>\n",
       "      <td>M</td>\n",
       "      <td>ATA</td>\n",
       "      <td>140</td>\n",
       "      <td>289</td>\n",
       "      <td>0</td>\n",
       "      <td>Normal</td>\n",
       "      <td>172</td>\n",
       "      <td>N</td>\n",
       "      <td>0.0</td>\n",
       "      <td>Up</td>\n",
       "      <td>0</td>\n",
       "    </tr>\n",
       "    <tr>\n",
       "      <th>1</th>\n",
       "      <td>49</td>\n",
       "      <td>F</td>\n",
       "      <td>NAP</td>\n",
       "      <td>160</td>\n",
       "      <td>180</td>\n",
       "      <td>0</td>\n",
       "      <td>Normal</td>\n",
       "      <td>156</td>\n",
       "      <td>N</td>\n",
       "      <td>1.0</td>\n",
       "      <td>Flat</td>\n",
       "      <td>1</td>\n",
       "    </tr>\n",
       "    <tr>\n",
       "      <th>2</th>\n",
       "      <td>37</td>\n",
       "      <td>M</td>\n",
       "      <td>ATA</td>\n",
       "      <td>130</td>\n",
       "      <td>283</td>\n",
       "      <td>0</td>\n",
       "      <td>ST</td>\n",
       "      <td>98</td>\n",
       "      <td>N</td>\n",
       "      <td>0.0</td>\n",
       "      <td>Up</td>\n",
       "      <td>0</td>\n",
       "    </tr>\n",
       "    <tr>\n",
       "      <th>3</th>\n",
       "      <td>48</td>\n",
       "      <td>F</td>\n",
       "      <td>ASY</td>\n",
       "      <td>138</td>\n",
       "      <td>214</td>\n",
       "      <td>0</td>\n",
       "      <td>Normal</td>\n",
       "      <td>108</td>\n",
       "      <td>Y</td>\n",
       "      <td>1.5</td>\n",
       "      <td>Flat</td>\n",
       "      <td>1</td>\n",
       "    </tr>\n",
       "    <tr>\n",
       "      <th>4</th>\n",
       "      <td>54</td>\n",
       "      <td>M</td>\n",
       "      <td>NAP</td>\n",
       "      <td>150</td>\n",
       "      <td>195</td>\n",
       "      <td>0</td>\n",
       "      <td>Normal</td>\n",
       "      <td>122</td>\n",
       "      <td>N</td>\n",
       "      <td>0.0</td>\n",
       "      <td>Up</td>\n",
       "      <td>0</td>\n",
       "    </tr>\n",
       "  </tbody>\n",
       "</table>\n",
       "</div>"
      ],
      "text/plain": [
       "   Age Sex ChestPainType  RestingBP  Cholesterol  FastingBS RestingECG  MaxHR  \\\n",
       "0   40   M           ATA        140          289          0     Normal    172   \n",
       "1   49   F           NAP        160          180          0     Normal    156   \n",
       "2   37   M           ATA        130          283          0         ST     98   \n",
       "3   48   F           ASY        138          214          0     Normal    108   \n",
       "4   54   M           NAP        150          195          0     Normal    122   \n",
       "\n",
       "  ExerciseAngina  Oldpeak ST_Slope  HeartDisease  \n",
       "0              N      0.0       Up             0  \n",
       "1              N      1.0     Flat             1  \n",
       "2              N      0.0       Up             0  \n",
       "3              Y      1.5     Flat             1  \n",
       "4              N      0.0       Up             0  "
      ]
     },
     "execution_count": 67,
     "metadata": {},
     "output_type": "execute_result"
    }
   ],
   "source": [
    "data.head()"
   ]
  },
  {
   "cell_type": "code",
   "execution_count": 68,
   "metadata": {},
   "outputs": [
    {
     "name": "stdout",
     "output_type": "stream",
     "text": [
      "(734, 12) (184, 12)\n"
     ]
    }
   ],
   "source": [
    "from sklearn.model_selection import train_test_split\n",
    "\n",
    "# data 복사\n",
    "df = data.copy()\n",
    "\n",
    "# train, test로 데이터 분리\n",
    "train, test = train_test_split(df, test_size=0.2, random_state=2)\n",
    "\n",
    "print(train.shape, test.shape)"
   ]
  },
  {
   "cell_type": "code",
   "execution_count": 70,
   "metadata": {},
   "outputs": [],
   "source": [
    "# data 복사\n",
    "df = data.copy()\n",
    "\n",
    "# train, test로 데이터 분리\n",
    "train, test = train_test_split(df, test_size=0.2, random_state=2)"
   ]
  },
  {
   "cell_type": "code",
   "execution_count": 71,
   "metadata": {},
   "outputs": [
    {
     "data": {
      "text/plain": [
       "1    413\n",
       "0    321\n",
       "Name: HeartDisease, dtype: int64"
      ]
     },
     "execution_count": 71,
     "metadata": {},
     "output_type": "execute_result"
    }
   ],
   "source": [
    "# 타겟 선정\n",
    "target = 'HeartDisease'\n",
    "\n",
    "# 타겟 분포\n",
    "train['HeartDisease'].value_counts()"
   ]
  },
  {
   "cell_type": "code",
   "execution_count": 73,
   "metadata": {},
   "outputs": [
    {
     "name": "stdout",
     "output_type": "stream",
     "text": [
      "(918, 11) (918,) (918, 11) (918,)\n"
     ]
    }
   ],
   "source": [
    "# 피쳐와 타겟 분리\n",
    "def divide_data(df):\n",
    "\n",
    "    # target = 'HeartDisease'\n",
    "\n",
    "    X = df.drop(columns = target)\n",
    "    y = df[target]\n",
    "\n",
    "    return X, y\n",
    "\n",
    "X_train, y_train = divide_data(df)\n",
    "X_test, y_test = divide_data(df)\n",
    "\n",
    "print(X_train.shape, y_train.shape, X_test.shape, y_test.shape)"
   ]
  },
  {
   "cell_type": "code",
   "execution_count": 42,
   "metadata": {},
   "outputs": [],
   "source": [
    "from sklearn.pipeline import Pipeline, make_pipeline\n",
    "from category_encoders import OrdinalEncoder \n",
    "from sklearn.linear_model import LogisticRegression\n",
    "from sklearn.model_selection import RandomizedSearchCV\n",
    "from sklearn.metrics import classification_report\n",
    "from sklearn.metrics import f1_score\n",
    "from sklearn.metrics import accuracy_score"
   ]
  },
  {
   "cell_type": "code",
   "execution_count": 94,
   "metadata": {},
   "outputs": [
    {
     "name": "stdout",
     "output_type": "stream",
     "text": [
      "기준모델 정확도:  0.5626702997275205\n"
     ]
    }
   ],
   "source": [
    "# 기준 모델\n",
    "def getBaseModel(df): \n",
    "    y_base = train['HeartDisease'] \n",
    "    major = y_base.mode()[0] \n",
    "    y_pred = [major] * len(y_base) \n",
    "    accuracy = accuracy_score(y_base, y_pred) \n",
    "\n",
    "    return accuracy\n",
    "\n",
    "print('기준모델 정확도: ',getBaseModel(df))"
   ]
  },
  {
   "cell_type": "code",
   "execution_count": 92,
   "metadata": {},
   "outputs": [],
   "source": [
    "# 모델 학습 - Logistic Regression \n",
    "def fit(X_train, y_train):\n",
    "    \n",
    "    pipeline = make_pipeline(\n",
    "        OrdinalEncoder(), \n",
    "        LogisticRegression()\n",
    "    )\n",
    "\n",
    "    dists = {\n",
    "        'logisticregression__C': [0.01, 0.1, 1, 10, 100],\n",
    "        'logisticregression__penalty':['l1','l2']\n",
    "    }\n",
    "\n",
    "\n",
    "    clf = RandomizedSearchCV(\n",
    "        pipeline, \n",
    "        param_distributions = dists, \n",
    "        random_state = 2, \n",
    "        n_iter = 2, \n",
    "        cv = 3,\n",
    "        scoring = 'f1', \n",
    "        verbose = 1, \n",
    "        n_jobs = -1\n",
    "    )\n",
    "    \n",
    "    clf.fit(X_train, y_train)\n",
    "    print(\"Optimal Hyperparameter:\", clf.best_params_)\n",
    "    print(\"f1 score:\", clf.best_score_)\n",
    "\n",
    "    return clf"
   ]
  },
  {
   "cell_type": "code",
   "execution_count": 93,
   "metadata": {},
   "outputs": [
    {
     "name": "stdout",
     "output_type": "stream",
     "text": [
      "Fitting 3 folds for each of 2 candidates, totalling 6 fits\n",
      "Optimal Hyperparameter: {'logisticregression__penalty': 'l2', 'logisticregression__C': 0.01}\n",
      "f1 score: 0.7954489954489955\n"
     ]
    },
    {
     "name": "stderr",
     "output_type": "stream",
     "text": [
      "/Users/hyegwan/opt/anaconda3/envs/prj3/lib/python3.8/site-packages/sklearn/linear_model/_logistic.py:444: ConvergenceWarning: lbfgs failed to converge (status=1):\n",
      "STOP: TOTAL NO. of ITERATIONS REACHED LIMIT.\n",
      "\n",
      "Increase the number of iterations (max_iter) or scale the data as shown in:\n",
      "    https://scikit-learn.org/stable/modules/preprocessing.html\n",
      "Please also refer to the documentation for alternative solver options:\n",
      "    https://scikit-learn.org/stable/modules/linear_model.html#logistic-regression\n",
      "  n_iter_i = _check_optimize_result(\n",
      "/Users/hyegwan/opt/anaconda3/envs/prj3/lib/python3.8/site-packages/sklearn/linear_model/_logistic.py:444: ConvergenceWarning: lbfgs failed to converge (status=1):\n",
      "STOP: TOTAL NO. of ITERATIONS REACHED LIMIT.\n",
      "\n",
      "Increase the number of iterations (max_iter) or scale the data as shown in:\n",
      "    https://scikit-learn.org/stable/modules/preprocessing.html\n",
      "Please also refer to the documentation for alternative solver options:\n",
      "    https://scikit-learn.org/stable/modules/linear_model.html#logistic-regression\n",
      "  n_iter_i = _check_optimize_result(\n",
      "/Users/hyegwan/opt/anaconda3/envs/prj3/lib/python3.8/site-packages/sklearn/model_selection/_validation.py:378: FitFailedWarning: \n",
      "3 fits failed out of a total of 6.\n",
      "The score on these train-test partitions for these parameters will be set to nan.\n",
      "If these failures are not expected, you can try to debug them by setting error_score='raise'.\n",
      "\n",
      "Below are more details about the failures:\n",
      "--------------------------------------------------------------------------------\n",
      "3 fits failed with the following error:\n",
      "Traceback (most recent call last):\n",
      "  File \"/Users/hyegwan/opt/anaconda3/envs/prj3/lib/python3.8/site-packages/sklearn/model_selection/_validation.py\", line 686, in _fit_and_score\n",
      "    estimator.fit(X_train, y_train, **fit_params)\n",
      "  File \"/Users/hyegwan/opt/anaconda3/envs/prj3/lib/python3.8/site-packages/sklearn/pipeline.py\", line 382, in fit\n",
      "    self._final_estimator.fit(Xt, y, **fit_params_last_step)\n",
      "  File \"/Users/hyegwan/opt/anaconda3/envs/prj3/lib/python3.8/site-packages/sklearn/linear_model/_logistic.py\", line 1091, in fit\n",
      "    solver = _check_solver(self.solver, self.penalty, self.dual)\n",
      "  File \"/Users/hyegwan/opt/anaconda3/envs/prj3/lib/python3.8/site-packages/sklearn/linear_model/_logistic.py\", line 61, in _check_solver\n",
      "    raise ValueError(\n",
      "ValueError: Solver lbfgs supports only 'l2' or 'none' penalties, got l1 penalty.\n",
      "\n",
      "  warnings.warn(some_fits_failed_message, FitFailedWarning)\n",
      "/Users/hyegwan/opt/anaconda3/envs/prj3/lib/python3.8/site-packages/sklearn/model_selection/_search.py:953: UserWarning: One or more of the test scores are non-finite: [     nan 0.795449]\n",
      "  warnings.warn(\n"
     ]
    }
   ],
   "source": [
    "clf = fit(X_train, y_train)"
   ]
  },
  {
   "cell_type": "code",
   "execution_count": 78,
   "metadata": {},
   "outputs": [
    {
     "name": "stdout",
     "output_type": "stream",
     "text": [
      "Test accuracy : 0.8311546840958606\n",
      "Test F1 : 0.8499515972894481\n"
     ]
    }
   ],
   "source": [
    "y_test_pred = clf.best_estimator_.predict(X_test)\n",
    "\n",
    "test_accuracy = accuracy_score(y_test, y_test_pred)\n",
    "test_f1 = f1_score(y_test, y_test_pred)\n",
    "\n",
    "print('Test accuracy :', test_accuracy)\n",
    "print('Test F1 :', test_f1)"
   ]
  }
 ],
 "metadata": {
  "kernelspec": {
   "display_name": "Python 3.8.8 ('prj3')",
   "language": "python",
   "name": "python3"
  },
  "language_info": {
   "codemirror_mode": {
    "name": "ipython",
    "version": 3
   },
   "file_extension": ".py",
   "mimetype": "text/x-python",
   "name": "python",
   "nbconvert_exporter": "python",
   "pygments_lexer": "ipython3",
   "version": "3.8.13"
  },
  "orig_nbformat": 4,
  "vscode": {
   "interpreter": {
    "hash": "d10537e1f90afa4cebc6507c14cd41561ebacca14ccd6e29c90bdea2c2233510"
   }
  }
 },
 "nbformat": 4,
 "nbformat_minor": 2
}
